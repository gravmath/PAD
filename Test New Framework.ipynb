{
 "cells": [
  {
   "cell_type": "code",
   "execution_count": 1,
   "metadata": {
    "collapsed": true
   },
   "outputs": [],
   "source": [
    "import PAD\n",
    "import Scraper\n",
    "import Grapher"
   ]
  },
  {
   "cell_type": "code",
   "execution_count": 2,
   "metadata": {
    "collapsed": false
   },
   "outputs": [
    {
     "data": {
      "text/plain": [
       "['__builtins__',\n",
       " '__doc__',\n",
       " '__file__',\n",
       " '__name__',\n",
       " '__package__',\n",
       " 'calculate_flux_LM',\n",
       " 'compute_fill_val',\n",
       " 'create_flux_survey_spectrum',\n",
       " 'create_raw_survey_PAD_plot',\n",
       " 'create_raw_survey_PAD_plot_LM',\n",
       " 'create_smooth_survey_PAD_plot',\n",
       " 'find_sign_intervals',\n",
       " 'make_BRST_summary_plot',\n",
       " 'make_FS_summary_plot',\n",
       " 'np',\n",
       " 'visualize_FPI_pixels_in_LM']"
      ]
     },
     "execution_count": 2,
     "metadata": {},
     "output_type": "execute_result"
    }
   ],
   "source": [
    "dir(Grapher)"
   ]
  },
  {
   "cell_type": "code",
   "execution_count": 3,
   "metadata": {
    "collapsed": false
   },
   "outputs": [
    {
     "name": "stdout",
     "output_type": "stream",
     "text": [
      "encoding a search for mms3_fpi_brst_l2_des-debug_\\d{14}_v3.1.1.cdf!\n",
      "encoding a search for mms3_fpi_fast_l2_des-debug_\\d{14}_v3.1.1.cdf!\n"
     ]
    }
   ],
   "source": [
    "m3_ebrst_debug = Scraper.construct_file_selector('mms3','brst','des-debug','3.1.1')\n",
    "m3_efast_debug = Scraper.construct_file_selector('mms3','fast','des-debug','3.1.1')"
   ]
  },
  {
   "cell_type": "code",
   "execution_count": 4,
   "metadata": {
    "collapsed": false
   },
   "outputs": [],
   "source": [
    "m3_ebrst_debug_base_dir = 'x:/data/ftp/mms3/fpi/brst/l2/des-debug/2016/08'\n",
    "m3_efast_debug_base_dir = 'x:/data/ftp/mms3/fpi/fast/l2/des-debug/2016/08'\n",
    "m3_ebrst_debug_list     = Scraper.scrape_files(m3_ebrst_debug,m3_ebrst_debug_base_dir)\n",
    "m3_efast_debug_list     = Scraper.scrape_files(m3_efast_debug,m3_efast_debug_base_dir)"
   ]
  },
  {
   "cell_type": "code",
   "execution_count": 6,
   "metadata": {
    "collapsed": false
   },
   "outputs": [
    {
     "data": {
      "text/plain": [
       "16"
      ]
     },
     "execution_count": 6,
     "metadata": {},
     "output_type": "execute_result"
    }
   ],
   "source": [
    "len(m3_efast_debug_list)"
   ]
  },
  {
   "cell_type": "code",
   "execution_count": 14,
   "metadata": {
    "collapsed": false
   },
   "outputs": [
    {
     "name": "stdout",
     "output_type": "stream",
     "text": [
      "X:/fpishare/Conrad/PAD_plots/FS_summary_mms3_2016-08-09_0820.png\n"
     ]
    },
    {
     "name": "stderr",
     "output_type": "stream",
     "text": [
      "Grapher.py:265: RuntimeWarning: divide by zero encountered in divide\n",
      "  ratio[np.isnan(ratio)] = 1.0\n",
      "Grapher.py:265: RuntimeWarning: invalid value encountered in divide\n",
      "  ratio[np.isnan(ratio)] = 1.0\n"
     ]
    },
    {
     "data": {
      "text/plain": [
       "<matplotlib.figure.Figure at 0xa54bfd0>"
      ]
     },
     "metadata": {},
     "output_type": "display_data"
    }
   ],
   "source": [
    "q = pycdf.CDF(m3_efast_debug_list[0])\n",
    "Grapher.make_fast_summary_plot('mms3',q)"
   ]
  },
  {
   "cell_type": "code",
   "execution_count": 18,
   "metadata": {
    "collapsed": false
   },
   "outputs": [
    {
     "name": "stderr",
     "output_type": "stream",
     "text": [
      "Grapher.py:496: RuntimeWarning: divide by zero encountered in divide\n",
      "  ratio[np.isinf(ratio)] = 1.0\n",
      "Grapher.py:496: RuntimeWarning: invalid value encountered in divide\n",
      "  ratio[np.isinf(ratio)] = 1.0\n"
     ]
    },
    {
     "data": {
      "text/plain": [
       "<matplotlib.figure.Figure at 0xb6e85c0>"
      ]
     },
     "metadata": {},
     "output_type": "display_data"
    }
   ],
   "source": [
    "qq = pycdf.CDF(m3_ebrst_debug_list[0])\n",
    "Grapher.make_brst_summary_plot('mms3',qq)"
   ]
  },
  {
   "cell_type": "code",
   "execution_count": 17,
   "metadata": {
    "collapsed": false
   },
   "outputs": [
    {
     "data": {
      "text/plain": [
       "<CDF:\n",
       "Epoch: CDF_TIME_TT2000 [3993]\n",
       "Epoch_minus_var: CDF_REAL4 [] NRV\n",
       "Epoch_plus_var: CDF_REAL4 [] NRV\n",
       "mms3_des_alpha_brst: CDF_REAL4 [30] NRV\n",
       "mms3_des_alpha_delta_brst: CDF_REAL4 [30] NRV\n",
       "mms3_des_b_dmpa_brst: CDF_REAL4 [3993, 4]\n",
       "mms3_des_b_dmpa_srvy: CDF_REAL4 [3993, 4]\n",
       "mms3_des_b_gse_brst: CDF_REAL4 [3993, 4]\n",
       "mms3_des_b_gse_srvy: CDF_REAL4 [3993, 4]\n",
       "mms3_des_bentPipeB_Norm: CDF_REAL8 [3993]\n",
       "mms3_des_bentPipeB_X_DSC: CDF_REAL4 [3993]\n",
       "mms3_des_bentPipeB_Y_DSC: CDF_REAL4 [3993]\n",
       "mms3_des_bentPipeB_Z_DSC: CDF_REAL4 [3993]\n",
       "mms3_des_bulkv_dbcs_brst: CDF_REAL4 [3993, 3]\n",
       "mms3_des_bulkv_dbcs_label_brst: CDF_CHAR*7 [3] NRV\n",
       "mms3_des_bulkv_err_brst: CDF_REAL4 [3993, 3]\n",
       "mms3_des_bulkv_err_label_brst: CDF_CHAR*6 [3] NRV\n",
       "mms3_des_bulkv_gse_brst: CDF_REAL4 [3993, 3]\n",
       "mms3_des_bulkv_gse_label_brst: CDF_CHAR*6 [3] NRV\n",
       "mms3_des_bulkx_int: CDF_REAL4 [3993, 32]\n",
       "mms3_des_bulky_int: CDF_REAL4 [3993, 32]\n",
       "mms3_des_bulkz_int: CDF_REAL4 [3993, 32]\n",
       "mms3_des_cartrep_brst: CDF_CHAR*1 [3] NRV\n",
       "mms3_des_compressionloss_brst: CDF_UINT1 [3993]\n",
       "mms3_des_compressionstatus_brst: CDF_UINT2 [3993]\n",
       "mms3_des_densityextrapolation_high_brst: CDF_REAL4 [3993]\n",
       "mms3_des_densityextrapolation_low_brst: CDF_REAL4 [3993]\n",
       "mms3_des_energy_brst: CDF_REAL4 [3993, 32]\n",
       "mms3_des_energy_delta_brst: CDF_REAL4 [3993, 32]\n",
       "mms3_des_energyspectr_anti_brst: CDF_REAL4 [3993, 32]\n",
       "mms3_des_energyspectr_mx_brst: CDF_REAL4 [3993, 32]\n",
       "mms3_des_energyspectr_my_brst: CDF_REAL4 [3993, 32]\n",
       "mms3_des_energyspectr_mz_brst: CDF_REAL4 [3993, 32]\n",
       "mms3_des_energyspectr_omni_brst: CDF_REAL4 [3993, 32]\n",
       "mms3_des_energyspectr_par_brst: CDF_REAL4 [3993, 32]\n",
       "mms3_des_energyspectr_perp_brst: CDF_REAL4 [3993, 32]\n",
       "mms3_des_energyspectr_px_brst: CDF_REAL4 [3993, 32]\n",
       "mms3_des_energyspectr_py_brst: CDF_REAL4 [3993, 32]\n",
       "mms3_des_energyspectr_pz_brst: CDF_REAL4 [3993, 32]\n",
       "mms3_des_errorflags_brst: CDF_UINT4 [3993]\n",
       "mms3_des_heatq_dbcs_brst: CDF_REAL4 [3993, 3]\n",
       "mms3_des_heatq_dbcs_label_brst: CDF_CHAR*7 [3] NRV\n",
       "mms3_des_heatq_err_brst: CDF_REAL4 [3993, 3]\n",
       "mms3_des_heatq_err_label_brst: CDF_CHAR*6 [3] NRV\n",
       "mms3_des_heatq_gse_brst: CDF_REAL4 [3993, 3]\n",
       "mms3_des_heatq_gse_label_brst: CDF_CHAR*6 [3] NRV\n",
       "mms3_des_heatx_int: CDF_REAL4 [3993, 32]\n",
       "mms3_des_heaty_int: CDF_REAL4 [3993, 32]\n",
       "mms3_des_heatz_int: CDF_REAL4 [3993, 32]\n",
       "mms3_des_numberdensity_brst: CDF_REAL4 [3993]\n",
       "mms3_des_numberdensity_err_brst: CDF_REAL4 [3993]\n",
       "mms3_des_numberdensity_int: CDF_REAL4 [3993, 32]\n",
       "mms3_des_pitchangdist_highen_brst: CDF_REAL4 [3993, 30]\n",
       "mms3_des_pitchangdist_lowen_brst: CDF_REAL4 [3993, 30]\n",
       "mms3_des_pitchangdist_miden_brst: CDF_REAL4 [3993, 30]\n",
       "mms3_des_pos_gse: CDF_REAL4 [3993, 4]\n",
       "mms3_des_pos_gsm: CDF_REAL4 [3993, 4]\n",
       "mms3_des_prestensor_dbcs_brst: CDF_REAL4 [3993, 3, 3]\n",
       "mms3_des_prestensor_err_brst: CDF_REAL4 [3993, 3, 3]\n",
       "mms3_des_prestensor_gse_brst: CDF_REAL4 [3993, 3, 3]\n",
       "mms3_des_presxx_int: CDF_REAL4 [3993, 32]\n",
       "mms3_des_presxy_int: CDF_REAL4 [3993, 32]\n",
       "mms3_des_presxz_int: CDF_REAL4 [3993, 32]\n",
       "mms3_des_presyy_int: CDF_REAL4 [3993, 32]\n",
       "mms3_des_presyz_int: CDF_REAL4 [3993, 32]\n",
       "mms3_des_preszz_int: CDF_REAL4 [3993, 32]\n",
       "mms3_des_scpot_max_brst: CDF_REAL4 [3993]\n",
       "mms3_des_scpot_mean_brst: CDF_REAL4 [3993]\n",
       "mms3_des_sector_despinp_brst: CDF_UINT1 [3993]\n",
       "mms3_des_startdelphi_angle_brst: CDF_REAL4 [3993]\n",
       "mms3_des_startdelphi_count_brst: CDF_UINT2 [3993]\n",
       "mms3_des_steptable_parity_brst: CDF_UINT1 [3993]\n",
       "mms3_des_temppara_brst: CDF_REAL4 [3993]\n",
       "mms3_des_tempperp_brst: CDF_REAL4 [3993]\n",
       "mms3_des_temptensor_dbcs_brst: CDF_REAL4 [3993, 3, 3]\n",
       "mms3_des_temptensor_err_brst: CDF_REAL4 [3993, 3, 3]\n",
       "mms3_des_temptensor_gse_brst: CDF_REAL4 [3993, 3, 3]\n",
       "mms3_des_ugrid_int: CDF_REAL4 [3993, 32]\n",
       ">"
      ]
     },
     "execution_count": 17,
     "metadata": {},
     "output_type": "execute_result"
    }
   ],
   "source": [
    "qq"
   ]
  },
  {
   "cell_type": "code",
   "execution_count": null,
   "metadata": {
    "collapsed": true
   },
   "outputs": [],
   "source": []
  }
 ],
 "metadata": {
  "kernelspec": {
   "display_name": "Python 2",
   "language": "python",
   "name": "python2"
  },
  "language_info": {
   "codemirror_mode": {
    "name": "ipython",
    "version": 2
   },
   "file_extension": ".py",
   "mimetype": "text/x-python",
   "name": "python",
   "nbconvert_exporter": "python",
   "pygments_lexer": "ipython2",
   "version": "2.7.12"
  }
 },
 "nbformat": 4,
 "nbformat_minor": 0
}
