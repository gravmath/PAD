{
 "cells": [
  {
   "cell_type": "code",
   "execution_count": 1,
   "metadata": {
    "collapsed": true
   },
   "outputs": [],
   "source": [
    "import PAD\n",
    "import Scraper\n",
    "import Grapher"
   ]
  },
  {
   "cell_type": "code",
   "execution_count": 18,
   "metadata": {
    "collapsed": true
   },
   "outputs": [],
   "source": [
    "%matplotlib inline"
   ]
  },
  {
   "cell_type": "code",
   "execution_count": 2,
   "metadata": {
    "collapsed": false
   },
   "outputs": [
    {
     "data": {
      "text/plain": [
       "['__builtins__',\n",
       " '__doc__',\n",
       " '__file__',\n",
       " '__name__',\n",
       " '__package__',\n",
       " 'calculate_flux_LM',\n",
       " 'cmap',\n",
       " 'compute_fill_val',\n",
       " 'create_flux_survey_spectrum',\n",
       " 'create_raw_survey_PAD_plot',\n",
       " 'create_raw_survey_PAD_plot_LM',\n",
       " 'create_smooth_survey_PAD_plot',\n",
       " 'dt',\n",
       " 'find_sign_intervals',\n",
       " 'make_brst_summary_plot',\n",
       " 'make_fast_summary_plot',\n",
       " 'mdates',\n",
       " 'np',\n",
       " 'patches',\n",
       " 'plt',\n",
       " 'visualize_FPI_pixels_in_LM']"
      ]
     },
     "execution_count": 2,
     "metadata": {},
     "output_type": "execute_result"
    }
   ],
   "source": [
    "dir(Grapher)"
   ]
  },
  {
   "cell_type": "code",
   "execution_count": 3,
   "metadata": {
    "collapsed": false
   },
   "outputs": [
    {
     "name": "stdout",
     "output_type": "stream",
     "text": [
      "encoding a search for mms3_fpi_brst_l2_des-debug_\\d{14}_v3.1.1.cdf!\n",
      "encoding a search for mms3_fpi_fast_l2_des-debug_\\d{14}_v3.1.1.cdf!\n"
     ]
    }
   ],
   "source": [
    "m3_ebrst_debug = Scraper.construct_file_selector('mms3','brst','des-debug','3.1.1')\n",
    "m3_efast_debug = Scraper.construct_file_selector('mms3','fast','des-debug','3.1.1')"
   ]
  },
  {
   "cell_type": "code",
   "execution_count": 4,
   "metadata": {
    "collapsed": false
   },
   "outputs": [],
   "source": [
    "m3_ebrst_debug_base_dir = 'x:/data/ftp/mms3/fpi/brst/l2/des-debug/2016/08'\n",
    "m3_efast_debug_base_dir = 'x:/data/ftp/mms3/fpi/fast/l2/des-debug/2016/08'\n",
    "m3_ebrst_debug_list     = Scraper.scrape_files(m3_ebrst_debug,m3_ebrst_debug_base_dir)\n",
    "m3_efast_debug_list     = Scraper.scrape_files(m3_efast_debug,m3_efast_debug_base_dir)"
   ]
  },
  {
   "cell_type": "code",
   "execution_count": 5,
   "metadata": {
    "collapsed": false
   },
   "outputs": [
    {
     "data": {
      "text/plain": [
       "16"
      ]
     },
     "execution_count": 5,
     "metadata": {},
     "output_type": "execute_result"
    }
   ],
   "source": [
    "len(m3_efast_debug_list)"
   ]
  },
  {
   "cell_type": "code",
   "execution_count": 14,
   "metadata": {
    "collapsed": false
   },
   "outputs": [
    {
     "name": "stdout",
     "output_type": "stream",
     "text": [
      "X:/fpishare/Conrad/PAD_plots/FS_summary_mms3_2016-08-09_0820.png\n"
     ]
    },
    {
     "name": "stderr",
     "output_type": "stream",
     "text": [
      "Grapher.py:265: RuntimeWarning: divide by zero encountered in divide\n",
      "  ratio[np.isnan(ratio)] = 1.0\n",
      "Grapher.py:265: RuntimeWarning: invalid value encountered in divide\n",
      "  ratio[np.isnan(ratio)] = 1.0\n"
     ]
    },
    {
     "data": {
      "text/plain": [
       "<matplotlib.figure.Figure at 0xa54bfd0>"
      ]
     },
     "metadata": {},
     "output_type": "display_data"
    }
   ],
   "source": [
    "q = pycdf.CDF(m3_efast_debug_list[0])\n",
    "Grapher.make_fast_summary_plot('mms3',q)"
   ]
  },
  {
   "cell_type": "code",
   "execution_count": 8,
   "metadata": {
    "collapsed": false
   },
   "outputs": [],
   "source": [
    "qq = pycdf.CDF(m3_ebrst_debug_list[0])"
   ]
  },
  {
   "cell_type": "code",
   "execution_count": 61,
   "metadata": {
    "collapsed": false
   },
   "outputs": [
    {
     "name": "stderr",
     "output_type": "stream",
     "text": [
      "Grapher.py:481: RuntimeWarning: divide by zero encountered in log10\n",
      "  by              = np.asarray(curr_debug['%s_des_bentPipeB_Y_DSC' % obs])\n",
      "Grapher.py:483: RuntimeWarning: divide by zero encountered in log10\n",
      "  bnorm           = np.asarray(curr_debug['%s_des_bentPipeB_Norm' % obs])\n",
      "Grapher.py:485: RuntimeWarning: divide by zero encountered in log10\n",
      "  anti            = np.asarray(curr_debug['%s_des_energyspectr_anti_brst' % obs]).T\n",
      "Grapher.py:487: RuntimeWarning: divide by zero encountered in log10\n",
      "  omni            = np.ma.masked_invalid(np.log10(temp).T)\n",
      "Grapher.py:491: RuntimeWarning: divide by zero encountered in divide\n",
      "  mid             = np.ma.masked_invalid(np.log10(temp).T)\n",
      "Grapher.py:491: RuntimeWarning: invalid value encountered in divide\n",
      "  mid             = np.ma.masked_invalid(np.log10(temp).T)\n",
      "Grapher.py:492: RuntimeWarning: invalid value encountered in greater\n",
      "  temp            = np.asarray(curr_debug['%s_des_pitchangdist_highen_brst' % obs])\n",
      "Grapher.py:493: RuntimeWarning: invalid value encountered in less\n",
      "  high            = np.ma.masked_invalid(np.log10(temp).T)\n"
     ]
    },
    {
     "data": {
      "text/plain": [
       "<matplotlib.figure.Figure at 0x124f7a58>"
      ]
     },
     "metadata": {},
     "output_type": "display_data"
    }
   ],
   "source": [
    "Grapher.make_brst_summary_plot('mms3',qq)"
   ]
  },
  {
   "cell_type": "code",
   "execution_count": 29,
   "metadata": {
    "collapsed": false
   },
   "outputs": [
    {
     "name": "stderr",
     "output_type": "stream",
     "text": [
      "C:\\Users\\cschiff\\AppData\\Local\\Continuum\\Anaconda2\\lib\\site-packages\\ipykernel\\__main__.py:12: RuntimeWarning: divide by zero encountered in log10\n",
      "C:\\Users\\cschiff\\AppData\\Local\\Continuum\\Anaconda2\\lib\\site-packages\\ipykernel\\__main__.py:14: RuntimeWarning: divide by zero encountered in log10\n",
      "C:\\Users\\cschiff\\AppData\\Local\\Continuum\\Anaconda2\\lib\\site-packages\\ipykernel\\__main__.py:16: RuntimeWarning: divide by zero encountered in log10\n",
      "C:\\Users\\cschiff\\AppData\\Local\\Continuum\\Anaconda2\\lib\\site-packages\\ipykernel\\__main__.py:18: RuntimeWarning: divide by zero encountered in log10\n",
      "C:\\Users\\cschiff\\AppData\\Local\\Continuum\\Anaconda2\\lib\\site-packages\\ipykernel\\__main__.py:22: RuntimeWarning: divide by zero encountered in divide\n",
      "C:\\Users\\cschiff\\AppData\\Local\\Continuum\\Anaconda2\\lib\\site-packages\\ipykernel\\__main__.py:22: RuntimeWarning: invalid value encountered in divide\n",
      "C:\\Users\\cschiff\\AppData\\Local\\Continuum\\Anaconda2\\lib\\site-packages\\ipykernel\\__main__.py:23: RuntimeWarning: invalid value encountered in greater\n",
      "C:\\Users\\cschiff\\AppData\\Local\\Continuum\\Anaconda2\\lib\\site-packages\\ipykernel\\__main__.py:24: RuntimeWarning: invalid value encountered in less\n"
     ]
    }
   ],
   "source": [
    "obs = 'mms3'\n",
    "times           = np.asarray(qq['Epoch'])\n",
    "energies        = np.asarray(qq['%s_des_energy_brst' % obs])[0,:]\n",
    "sc_pot          = np.asarray(qq['%s_des_scpot_mean_brst' % obs])\n",
    "bx              = np.asarray(qq['%s_des_bentPipeB_X_DSC' % obs])\n",
    "by              = np.asarray(qq['%s_des_bentPipeB_Y_DSC' % obs])\n",
    "bz              = np.asarray(qq['%s_des_bentPipeB_Z_DSC' % obs])\n",
    "bnorm           = np.asarray(qq['%s_des_bentPipeB_Norm' % obs])\n",
    "par             = np.asarray(qq['%s_des_energyspectr_par_brst' % obs]).T\n",
    "anti            = np.asarray(qq['%s_des_energyspectr_anti_brst' % obs]).T\n",
    "temp            = np.asarray(qq['%s_des_energyspectr_omni_brst' % obs])\n",
    "omni            = np.ma.masked_invalid(np.log10(temp).T)\n",
    "temp            = np.asarray(qq['%s_des_pitchangdist_lowen_brst' % obs])\n",
    "low             = np.ma.masked_invalid(np.log10(temp).T)\n",
    "temp            = np.asarray(qq['%s_des_pitchangdist_miden_brst' % obs])\n",
    "mid             = np.ma.masked_invalid(np.log10(temp).T)\n",
    "temp            = np.asarray(qq['%s_des_pitchangdist_highen_brst' % obs])\n",
    "high            = np.ma.masked_invalid(np.log10(temp).T)\n",
    "angles          = np.linspace(0,180,30)\n",
    "mean_par        = np.mean(par)\n",
    "mean_anti       = np.mean(anti)\n",
    "ratio           = np.ma.masked_invalid(np.divide(par,anti))\n",
    "ratio[ratio > 1.4]     = 1.4\n",
    "ratio[ratio < 0.6]     = 0.6"
   ]
  },
  {
   "cell_type": "code",
   "execution_count": 30,
   "metadata": {
    "collapsed": true
   },
   "outputs": [],
   "source": [
    "BRST_time = dt.datetime.strftime(times[0],'%Y-%m-%d_%H%M')"
   ]
  },
  {
   "cell_type": "code",
   "execution_count": 31,
   "metadata": {
    "collapsed": false
   },
   "outputs": [
    {
     "data": {
      "text/plain": [
       "<matplotlib.figure.Figure at 0xa29ccf8>"
      ]
     },
     "metadata": {},
     "output_type": "display_data"
    }
   ],
   "source": [
    "fig = plt.figure(figsize=(16,20))"
   ]
  },
  {
   "cell_type": "code",
   "execution_count": 32,
   "metadata": {
    "collapsed": true
   },
   "outputs": [],
   "source": [
    "ax0 = fig.add_subplot(611)"
   ]
  },
  {
   "cell_type": "code",
   "execution_count": 34,
   "metadata": {
    "collapsed": false
   },
   "outputs": [],
   "source": [
    "cmap.jet.set_bad('k',alpha=1.0)\n",
    "spec_data = ax0.pcolormesh(times,energies,omni,cmap=cmap.jet)"
   ]
  },
  {
   "cell_type": "code",
   "execution_count": 49,
   "metadata": {
    "collapsed": false
   },
   "outputs": [
    {
     "name": "stderr",
     "output_type": "stream",
     "text": [
      "C:\\Users\\cschiff\\AppData\\Local\\Continuum\\Anaconda2\\lib\\site-packages\\matplotlib\\figure.py:402: UserWarning: matplotlib is currently using a non-GUI backend, so cannot show the figure\n",
      "  \"matplotlib is currently using a non-GUI backend, \"\n"
     ]
    }
   ],
   "source": [
    "fig.show()"
   ]
  },
  {
   "cell_type": "code",
   "execution_count": 36,
   "metadata": {
    "collapsed": false
   },
   "outputs": [],
   "source": [
    "x = np.arange(0,10)\n",
    "y = x**x"
   ]
  },
  {
   "cell_type": "code",
   "execution_count": 37,
   "metadata": {
    "collapsed": false
   },
   "outputs": [
    {
     "data": {
      "text/plain": [
       "[<matplotlib.lines.Line2D at 0x9e3c128>]"
      ]
     },
     "execution_count": 37,
     "metadata": {},
     "output_type": "execute_result"
    },
    {
     "data": {
      "image/png": "[encoded data removed]",
      "text/plain": [
       "<matplotlib.figure.Figure at 0xb1c2b00>"
      ]
     },
     "metadata": {},
     "output_type": "display_data"
    }
   ],
   "source": [
    "plt.plot(x,y)"
   ]
  },
  {
   "cell_type": "code",
   "execution_count": 42,
   "metadata": {
    "collapsed": false
   },
   "outputs": [
    {
     "data": {
      "image/png": "[encoded data removed]",
      "text/plain": [
       "<matplotlib.figure.Figure at 0xee95908>"
      ]
     },
     "metadata": {},
     "output_type": "display_data"
    }
   ],
   "source": [
    "plt.pcolormesh(times,energies,omni,cmap=cmap.jet)\n",
    "plt.yscale('log')"
   ]
  },
  {
   "cell_type": "code",
   "execution_count": 41,
   "metadata": {
    "collapsed": false
   },
   "outputs": [
    {
     "data": {
      "text/plain": [
       "(25, 31)"
      ]
     },
     "execution_count": 41,
     "metadata": {},
     "output_type": "execute_result"
    },
    {
     "data": {
      "image/png": "[encoded data removed]",
      "text/plain": [
       "<matplotlib.figure.Figure at 0xec34160>"
      ]
     },
     "metadata": {},
     "output_type": "display_data"
    }
   ],
   "source": [
    "plt.pcolormesh(omni,cmap=cmap.jet)\n",
    "plt.ylim([25,31])"
   ]
  },
  {
   "cell_type": "code",
   "execution_count": 47,
   "metadata": {
    "collapsed": false
   },
   "outputs": [
    {
     "data": {
      "text/plain": [
       "2027.92"
      ]
     },
     "execution_count": 47,
     "metadata": {},
     "output_type": "execute_result"
    }
   ],
   "source": [
    "energies[21]"
   ]
  },
  {
   "cell_type": "code",
   "execution_count": 48,
   "metadata": {
    "collapsed": false
   },
   "outputs": [
    {
     "data": {
      "text/plain": [
       "9012.5098"
      ]
     },
     "execution_count": 48,
     "metadata": {},
     "output_type": "execute_result"
    }
   ],
   "source": [
    "energies[27]"
   ]
  },
  {
   "cell_type": "code",
   "execution_count": 53,
   "metadata": {
    "collapsed": false
   },
   "outputs": [],
   "source": [
    "anti = np.asarray(qq['mms3_des_energyspectr_anti_brst']).T\n",
    "par  = np.asarray(qq['mms3_des_energyspectr_par_brst']).T"
   ]
  },
  {
   "cell_type": "code",
   "execution_count": 55,
   "metadata": {
    "collapsed": false
   },
   "outputs": [
    {
     "name": "stderr",
     "output_type": "stream",
     "text": [
      "C:\\Users\\cschiff\\AppData\\Local\\Continuum\\Anaconda2\\lib\\site-packages\\ipykernel\\__main__.py:1: RuntimeWarning: divide by zero encountered in divide\n",
      "  if __name__ == '__main__':\n",
      "C:\\Users\\cschiff\\AppData\\Local\\Continuum\\Anaconda2\\lib\\site-packages\\ipykernel\\__main__.py:1: RuntimeWarning: invalid value encountered in divide\n",
      "  if __name__ == '__main__':\n"
     ]
    }
   ],
   "source": [
    "ratio = np.ma.masked_invalid(np.divide(par,anti))"
   ]
  },
  {
   "cell_type": "code",
   "execution_count": 56,
   "metadata": {
    "collapsed": false
   },
   "outputs": [
    {
     "data": {
      "text/plain": [
       "0.0"
      ]
     },
     "execution_count": 56,
     "metadata": {},
     "output_type": "execute_result"
    }
   ],
   "source": [
    "np.min(ratio)"
   ]
  },
  {
   "cell_type": "code",
   "execution_count": 57,
   "metadata": {
    "collapsed": false
   },
   "outputs": [
    {
     "data": {
      "text/plain": [
       "149.19878"
      ]
     },
     "execution_count": 57,
     "metadata": {},
     "output_type": "execute_result"
    }
   ],
   "source": [
    "np.max(ratio)"
   ]
  },
  {
   "cell_type": "code",
   "execution_count": 58,
   "metadata": {
    "collapsed": false
   },
   "outputs": [
    {
     "data": {
      "text/plain": [
       "1.8228442711889774"
      ]
     },
     "execution_count": 58,
     "metadata": {},
     "output_type": "execute_result"
    }
   ],
   "source": [
    "np.mean(ratio)"
   ]
  },
  {
   "cell_type": "code",
   "execution_count": 59,
   "metadata": {
    "collapsed": false
   },
   "outputs": [
    {
     "name": "stderr",
     "output_type": "stream",
     "text": [
      "C:\\Users\\cschiff\\AppData\\Local\\Continuum\\Anaconda2\\lib\\site-packages\\ipykernel\\__main__.py:1: RuntimeWarning: invalid value encountered in greater\n",
      "  if __name__ == '__main__':\n",
      "C:\\Users\\cschiff\\AppData\\Local\\Continuum\\Anaconda2\\lib\\site-packages\\ipykernel\\__main__.py:2: RuntimeWarning: invalid value encountered in less\n",
      "  from ipykernel import kernelapp as app\n"
     ]
    }
   ],
   "source": [
    "ratio[ratio > 1.4] = 1.4\n",
    "ratio[ratio < 0.6] = 0.6"
   ]
  },
  {
   "cell_type": "code",
   "execution_count": 60,
   "metadata": {
    "collapsed": false
   },
   "outputs": [
    {
     "data": {
      "text/plain": [
       "1.0691639527998646"
      ]
     },
     "execution_count": 60,
     "metadata": {},
     "output_type": "execute_result"
    }
   ],
   "source": [
    "np.mean(ratio)"
   ]
  },
  {
   "cell_type": "code",
   "execution_count": null,
   "metadata": {
    "collapsed": true
   },
   "outputs": [],
   "source": []
  }
 ],
 "metadata": {
  "kernelspec": {
   "display_name": "Python 2",
   "language": "python",
   "name": "python2"
  },
  "language_info": {
   "codemirror_mode": {
    "name": "ipython",
    "version": 2
   },
   "file_extension": ".py",
   "mimetype": "text/x-python",
   "name": "python",
   "nbconvert_exporter": "python",
   "pygments_lexer": "ipython2",
   "version": "2.7.12"
  }
 },
 "nbformat": 4,
 "nbformat_minor": 0
}
