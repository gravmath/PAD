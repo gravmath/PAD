{
 "cells": [
  {
   "cell_type": "code",
   "execution_count": 1,
   "metadata": {
    "collapsed": true
   },
   "outputs": [],
   "source": [
    "import spacepy.pycdf as pycdf\n",
    "import sys\n",
    "sys.path.append('c:/users/cschiff/Documents/GitHub/PAD/')"
   ]
  },
  {
   "cell_type": "code",
   "execution_count": 2,
   "metadata": {
    "collapsed": true
   },
   "outputs": [],
   "source": [
    "import PAD\n",
    "import Grapher"
   ]
  },
  {
   "cell_type": "code",
   "execution_count": 3,
   "metadata": {
    "collapsed": true
   },
   "outputs": [],
   "source": [
    "debug_filename = 'C:\\Yuggoth\\BBF\\mms1_fpi_brst_l2_des-debug_20160809092044_v3.1.1.cdf'.replace('\\\\','/')\n",
    "dist_filename  = 'C:\\Yuggoth\\BBF\\mms1_fpi_brst_l2_des-dist_20160809092044_v3.1.1.cdf'.replace('\\\\','/')\n",
    "photo_filename = 'C:\\Yuggoth\\Photoelectron Model\\mms_fpi_brst_l2_des-bgdist_v1.1.0_p0-2.cdf'.replace('\\\\','/')"
   ]
  },
  {
   "cell_type": "code",
   "execution_count": 4,
   "metadata": {
    "collapsed": true
   },
   "outputs": [],
   "source": [
    "cdf_dict       = {'debug' : pycdf.CDF(debug_filename),\n",
    "                  'dist'  : pycdf.CDF(dist_filename),\n",
    "                  'photo' : pycdf.CDF(photo_filename)}\n",
    "obs            = 'mms1'\n",
    "mode           = 'brst'\n",
    "species        = 'des'\n",
    "ver            = 'ver3'\n",
    "corrections_on = 0"
   ]
  },
  {
   "cell_type": "code",
   "execution_count": 5,
   "metadata": {
    "collapsed": false
   },
   "outputs": [
    {
     "name": "stderr",
     "output_type": "stream",
     "text": [
      "PAD.py:306: RuntimeWarning: invalid value encountered in divide\n",
      "  counts                   = (dist['Dist']/dist['Err'])**2\n"
     ]
    }
   ],
   "source": [
    "core_data      = PAD.load_particle_data(cdf_dict,obs,mode,species,ver,corrections_on)"
   ]
  },
  {
   "cell_type": "code",
   "execution_count": 6,
   "metadata": {
    "collapsed": false
   },
   "outputs": [
    {
     "data": {
      "text/plain": [
       "['bfield', 'jN_err', 'jN', 'v_dirs', 'dist_data', 'counts', 'parms']"
      ]
     },
     "execution_count": 6,
     "metadata": {},
     "output_type": "execute_result"
    }
   ],
   "source": [
    "core_data.keys()"
   ]
  },
  {
   "cell_type": "markdown",
   "metadata": {},
   "source": [
    "A quick check on the pitch angles computed in PAD"
   ]
  },
  {
   "cell_type": "code",
   "execution_count": 7,
   "metadata": {
    "collapsed": false
   },
   "outputs": [],
   "source": [
    "my_phi  = core_data['parms']['Phi'][7,5]*np.pi/180.0"
   ]
  },
  {
   "cell_type": "code",
   "execution_count": 8,
   "metadata": {
    "collapsed": false
   },
   "outputs": [],
   "source": [
    "my_theta = core_data['parms']['Theta'][6]*np.pi/180.0"
   ]
  },
  {
   "cell_type": "code",
   "execution_count": 9,
   "metadata": {
    "collapsed": true
   },
   "outputs": [],
   "source": [
    "my_look = [sp.cos(my_phi)*sp.sin(my_theta),sp.sin(my_phi)*sp.sin(my_theta),sp.cos(my_theta)]"
   ]
  },
  {
   "cell_type": "code",
   "execution_count": 10,
   "metadata": {
    "collapsed": false
   },
   "outputs": [
    {
     "data": {
      "text/plain": [
       "[0.38349272289401076, 0.87673721127747861, 0.29028467725446233]"
      ]
     },
     "execution_count": 10,
     "metadata": {},
     "output_type": "execute_result"
    }
   ],
   "source": [
    "my_look"
   ]
  },
  {
   "cell_type": "code",
   "execution_count": 11,
   "metadata": {
    "collapsed": false
   },
   "outputs": [
    {
     "name": "stdout",
     "output_type": "stream",
     "text": [
      "[-0.38349272 -0.87673721 -0.29028468]\n",
      "[  1.11022302e-16  -1.11022302e-16   0.00000000e+00]\n"
     ]
    }
   ],
   "source": [
    "print core_data['v_dirs'][7,5,6]\n",
    "print core_data['v_dirs'][7,5,6] + my_look"
   ]
  },
  {
   "cell_type": "code",
   "execution_count": 12,
   "metadata": {
    "collapsed": false
   },
   "outputs": [],
   "source": [
    "num_time_steps = len(core_data['dist_data']['Epoch'])"
   ]
  },
  {
   "cell_type": "code",
   "execution_count": 14,
   "metadata": {
    "collapsed": false
   },
   "outputs": [],
   "source": [
    "time_interval_str = 'Burst Interval 08_09_2017 09_20_44'\n",
    "file_path         = 'c:/Users/cschiff/Documents/GitHub/PAD/'\n",
    "Elow              = 0\n",
    "Ehigh             = 31\n",
    "#for time_label \n",
    "time_label        = 0\n",
    "Grapher.create_raw_survey_PAD_plot(mode,time_label,Elow,Ehigh,time_interval_str,file_path,core_data)"
   ]
  },
  {
   "cell_type": "code",
   "execution_count": 15,
   "metadata": {
    "collapsed": false
   },
   "outputs": [
    {
     "data": {
      "text/plain": [
       "['__builtins__',\n",
       " '__doc__',\n",
       " '__file__',\n",
       " '__name__',\n",
       " '__package__',\n",
       " '__warningregistry__',\n",
       " 'bisect_epochs',\n",
       " 'compute_counts',\n",
       " 'compute_incoming_particle_directions',\n",
       " 'compute_limited_PAD',\n",
       " 'compute_limited_PAD_error',\n",
       " 'compute_number_flux',\n",
       " 'compute_number_flux_errors',\n",
       " 'compute_omni_number_flux',\n",
       " 'compute_pitch_angles',\n",
       " 'detect_DMPA_str',\n",
       " 'fetch_AFG_B_field',\n",
       " 'fetch_magnetic_field',\n",
       " 'load_moments_data',\n",
       " 'load_particle_data',\n",
       " 'np',\n",
       " 'num_az',\n",
       " 'num_polar',\n",
       " 'sp',\n",
       " 'spherical_cap_area',\n",
       " 'subtract_internal_photoelectrons',\n",
       " 'unpack_dist_cdf']"
      ]
     },
     "execution_count": 15,
     "metadata": {},
     "output_type": "execute_result"
    }
   ],
   "source": [
    "dir(PAD)"
   ]
  },
  {
   "cell_type": "code",
   "execution_count": 16,
   "metadata": {
    "collapsed": false
   },
   "outputs": [
    {
     "data": {
      "text/plain": [
       "['Convert',\n",
       " 'PAD',\n",
       " '__builtins__',\n",
       " '__doc__',\n",
       " '__file__',\n",
       " '__name__',\n",
       " '__package__',\n",
       " 'calculate_flux_LM',\n",
       " 'cbar_position',\n",
       " 'cmap',\n",
       " 'create_flux_survey_spectrum',\n",
       " 'create_raw_survey_PAD_plot',\n",
       " 'create_raw_survey_PAD_plot_LM',\n",
       " 'create_smooth_survey_PAD_plot',\n",
       " 'dt',\n",
       " 'find_sign_intervals',\n",
       " 'make_brst_summary_plot',\n",
       " 'make_fast_summary_plot',\n",
       " 'mdates',\n",
       " 'np',\n",
       " 'plt',\n",
       " 'ticker',\n",
       " 'visualize_FPI_pixels_in_LM']"
      ]
     },
     "execution_count": 16,
     "metadata": {},
     "output_type": "execute_result"
    }
   ],
   "source": [
    "dir(Grapher)"
   ]
  },
  {
   "cell_type": "code",
   "execution_count": 17,
   "metadata": {
    "collapsed": false
   },
   "outputs": [
    {
     "data": {
      "text/plain": [
       "array([datetime.datetime(2016, 8, 9, 9, 20, 44, 11994),\n",
       "       datetime.datetime(2016, 8, 9, 9, 20, 44, 41994),\n",
       "       datetime.datetime(2016, 8, 9, 9, 20, 44, 71994), ...,\n",
       "       datetime.datetime(2016, 8, 9, 9, 21, 39, 932274),\n",
       "       datetime.datetime(2016, 8, 9, 9, 21, 39, 962274),\n",
       "       datetime.datetime(2016, 8, 9, 9, 21, 39, 992274)], dtype=object)"
      ]
     },
     "execution_count": 17,
     "metadata": {},
     "output_type": "execute_result"
    }
   ],
   "source": [
    "core_data['dist_data']['Epoch']"
   ]
  },
  {
   "cell_type": "code",
   "execution_count": 18,
   "metadata": {
    "collapsed": false
   },
   "outputs": [
    {
     "data": {
      "text/plain": [
       "datetime.datetime(2016, 8, 9, 9, 21, 39, 992274)"
      ]
     },
     "execution_count": 18,
     "metadata": {},
     "output_type": "execute_result"
    }
   ],
   "source": [
    "cdf_dict['debug']['Epoch'][-1]"
   ]
  },
  {
   "cell_type": "code",
   "execution_count": 19,
   "metadata": {
    "collapsed": false
   },
   "outputs": [
    {
     "name": "stdout",
     "output_type": "stream",
     "text": [
      "1867 1867\n"
     ]
    }
   ],
   "source": [
    "print len(cdf_dict['debug']['Epoch']), len(core_data['dist_data']['Epoch'])"
   ]
  },
  {
   "cell_type": "code",
   "execution_count": 20,
   "metadata": {
    "collapsed": true
   },
   "outputs": [],
   "source": [
    "def load_moments_data(obs,curr_debug):\n",
    "    #unpack the CDF\n",
    "    times           = np.asarray(curr_debug['Epoch'])\n",
    "    energies        = np.asarray(curr_debug['%s_des_energy_brst' % obs])[0,:]\n",
    "    sc_pot          = np.asarray(curr_debug['%s_des_scpot_mean_brst' % obs])\n",
    "    bx              = np.asarray(curr_debug['%s_des_bentPipeB_X_DSC' % obs])\n",
    "    by              = np.asarray(curr_debug['%s_des_bentPipeB_Y_DSC' % obs])\n",
    "    bz              = np.asarray(curr_debug['%s_des_bentPipeB_Z_DSC' % obs])\n",
    "    bnorm           = np.asarray(curr_debug['%s_des_bentPipeB_Norm' % obs])\n",
    "    par             = np.asarray(curr_debug['%s_des_energyspectr_par_brst' % obs]).T\n",
    "    anti            = np.asarray(curr_debug['%s_des_energyspectr_anti_brst' % obs]).T\n",
    "    perp            = np.asarray(curr_debug['%s_des_energyspectr_perp_brst' % obs]).T    \n",
    "    temp            = np.asarray(curr_debug['%s_des_energyspectr_omni_brst' % obs])\n",
    "    omni            = np.ma.masked_invalid(np.log10(temp).T)\n",
    "    temp            = np.asarray(curr_debug['%s_des_pitchangdist_lowen_brst' % obs])\n",
    "    low             = np.ma.masked_invalid(np.log10(temp).T)\n",
    "    temp            = np.asarray(curr_debug['%s_des_pitchangdist_miden_brst' % obs])\n",
    "    mid             = np.ma.masked_invalid(np.log10(temp).T)\n",
    "    temp            = np.asarray(curr_debug['%s_des_pitchangdist_highen_brst' % obs])\n",
    "    high            = np.ma.masked_invalid(np.log10(temp).T)\n",
    "    angles          = np.linspace(0,180,30)\n",
    "    ratio           = np.ma.masked_invalid(np.divide(par,anti))\n",
    "    anti            = np.ma.masked_invalid(np.log10(anti))\n",
    "    par             = np.ma.masked_invalid(np.log10(par))\n",
    "    perp            = np.ma.masked_invalid(np.log10(perp))\n",
    "    \n",
    "    moments_data             = {}\n",
    "    moments_data['times']    = times   \n",
    "    moments_data['energies'] = energies\n",
    "    moments_data['sc_pot']   = sc_pot  \n",
    "    moments_data['bx']       = bx      \n",
    "    moments_data['by']       = by      \n",
    "    moments_data['bz']       = bz      \n",
    "    moments_data['bnorm']    = bnorm   \n",
    "    moments_data['par']      = par     \n",
    "    moments_data['anti']     = anti    \n",
    "    moments_data['perp']     = perp    \n",
    "    moments_data['omni']     = omni    \n",
    "    moments_data['low']      = low     \n",
    "    moments_data['mid']      = mid     \n",
    "    moments_data['high']     = high    \n",
    "    moments_data['angles']   = angles  \n",
    "    moments_data['ratio']    = ratio   \n",
    "\n",
    "    return moments_data"
   ]
  },
  {
   "cell_type": "code",
   "execution_count": 48,
   "metadata": {
    "collapsed": false
   },
   "outputs": [],
   "source": [
    "def make_brst_summary_plot(obs,moments_data,time_label):\n",
    "    \n",
    "    times    = moments_data['times']   \n",
    "    energies = moments_data['energies']\n",
    "    sc_pot   = moments_data['sc_pot']  \n",
    "    bx       = moments_data['bx']      \n",
    "    by       = moments_data['by']      \n",
    "    bz       = moments_data['bz']      \n",
    "    bnorm    = moments_data['bnorm']   \n",
    "    par      = moments_data['par']     \n",
    "    anti     = moments_data['anti']    \n",
    "    perp     = moments_data['perp']    \n",
    "    omni     = moments_data['omni']    \n",
    "    low      = moments_data['low']     \n",
    "    mid      = moments_data['mid']     \n",
    "    high     = moments_data['high']    \n",
    "    angles   = moments_data['angles']  \n",
    "    ratio    = moments_data['ratio']   \n",
    "    \n",
    "    BRST_time = dt.datetime.strftime(times[time_label],'%Y-%m-%d %H%M%S.%f')\n",
    "    \n",
    "    ###########################################################################\n",
    "    #create the figure and axes\n",
    "    fig = plt.figure(figsize=(32,20))\n",
    "    #fig.autofmt_xdate()\n",
    "    \n",
    "    cbar_off = 0.01\n",
    "    cbar_wth = 0.01\n",
    "    cmap.jet.set_bad('k',alpha=1.0)    \n",
    "    cmap.bwr.set_bad('k',alpha=1.0)    \n",
    "    \n",
    "    ###########################################################################\n",
    "    #0th pane - spectrogram\n",
    "    min_exp = 4\n",
    "    max_exp = 8\n",
    "    ax0     = fig.add_subplot(6,2,1)\n",
    "    \n",
    "    #plot the data\n",
    "    spec_data = ax0.pcolormesh(times,energies,omni,cmap=cmap.jet,vmin=max_exp,vmax=min_exp)\n",
    "    \n",
    "    #deal with epochs on the x-axis\n",
    "    time_format = mdates.DateFormatter('%H:%M:%S')\n",
    "    seconds     = mdates.SecondLocator(range(0,59),interval = 5,tz=None)\n",
    "    ax0.xaxis.set_major_locator(seconds)\n",
    "    ax0.xaxis.set_major_formatter(time_format)\n",
    "    ax0.set_xlabel('Time')\n",
    "    \n",
    "    #deal with the y-axis\n",
    "    ax0.set_yscale('log')\n",
    "    ax0.set_ylim([energies[0],energies[31]])\n",
    "    ax0.set_ylabel('Energy (eV)')\n",
    "    \n",
    "    #create the colorbar\n",
    "    log_cbar_span = np.array(range(min_exp,max_exp+1))\n",
    "    cb_ax0        = fig.add_axes(cbar_position(ax0,cbar_off,cbar_wth))\n",
    "    spec_cbar     = fig.colorbar(spec_data,cax=cb_ax0,ticks=log_cbar_span,format=ticker.FormatStrFormatter('$10^{%d}$'))\n",
    "    #cbar_span     = ['%1.0e' % val for val in 10.0**log_cbar_span]\n",
    "    #cb_ax0.set_yticklabels(cbar_span)\n",
    "    \n",
    "    #put on a title\n",
    "    ax0.set_title('%s on %s' % (obs.upper(),BRST_time))\n",
    "    \n",
    "    ax0.plot(times,sc_pot,'k-')\n",
    "    ax0.axvline(times[time_label],color = 'k')\n",
    "    \n",
    "    ###########################################################################\n",
    "    #1st pane - low energy PAD\n",
    "    min_exp = int(np.floor(np.min(low)))\n",
    "    max_exp = int(np.ceil(np.max(low)))\n",
    "    ax1 = fig.add_subplot(6,2,3)\n",
    "    \n",
    "    #plot the data\n",
    "    PAD_low_dat = ax1.pcolormesh(times,angles,low,cmap=cmap.bwr,vmin=min_exp,vmax=max_exp)\n",
    "    \n",
    "    #deal with epochs on the x-axis\n",
    "    time_format = mdates.DateFormatter('%H:%M:%S')\n",
    "    seconds     = mdates.SecondLocator(range(0,59),interval = 5,tz=None)\n",
    "    ax1.xaxis.set_major_locator(seconds)\n",
    "    ax1.xaxis.set_major_formatter(time_format)\n",
    "    ax1.set_xlabel('Time')\n",
    "    \n",
    "    #deal with the y-axis\n",
    "    ax1.set_yscale('linear')\n",
    "    ax1.set_ylim([0,180])\n",
    "    ax1.set_ylabel('Low Pitch Ang (deg)')\n",
    "    \n",
    "    #create the colorbar\n",
    "    log_cbar_span = np.array(range(min_exp,max_exp+1))\n",
    "    cb_ax1        = fig.add_axes(cbar_position(ax1,cbar_off,cbar_wth))\n",
    "    PAD_low_cbar  = fig.colorbar(PAD_low_dat,cax=cb_ax1,ticks=log_cbar_span,format=ticker.FormatStrFormatter('$10^{%d}$'))\n",
    "    ax1.axvline(times[time_label],color = 'k')\n",
    "\n",
    "     \n",
    "    ###########################################################################\n",
    "    #2nd pane - mid energy PAD\n",
    "    min_exp = int(np.floor(np.min(mid)))\n",
    "    max_exp = int(np.ceil(np.max(mid))) \n",
    "    ax2 = fig.add_subplot(6,2,5)\n",
    "    \n",
    "    #plot the data\n",
    "    PAD_mid_dat = ax2.pcolormesh(times,angles,mid,cmap=cmap.bwr)\n",
    "    \n",
    "    #deal with epochs on the x-axis\n",
    "    time_format = mdates.DateFormatter('%H:%M:%S')\n",
    "    seconds     = mdates.SecondLocator(range(0,59),interval = 5,tz=None)\n",
    "    ax2.xaxis.set_major_locator(seconds)\n",
    "    ax2.xaxis.set_major_formatter(time_format)\n",
    "    ax2.set_xlabel('Time')\n",
    "    \n",
    "    #deal with the y-axis\n",
    "    ax2.set_yscale('linear')\n",
    "    ax2.set_ylim([0,180])\n",
    "    ax2.set_ylabel('Mid Pitch Ang (deg)')\n",
    "    \n",
    "    #create the colorbar\n",
    "    log_cbar_span = np.array(range(min_exp,max_exp+1))\n",
    "    cb_ax2        = fig.add_axes(cbar_position(ax2,cbar_off,cbar_wth))\n",
    "    PAD_mid_cbar  = fig.colorbar(PAD_mid_dat,cax=cb_ax2,ticks=log_cbar_span,format=ticker.FormatStrFormatter('$10^{%d}$'))\n",
    "    ax2.axvline(times[time_label],color = 'k')\n",
    "    \n",
    "\n",
    "    ###########################################################################\n",
    "    #3rd pane - high energy PAD\n",
    "    min_exp = int(np.floor(np.min(high)))\n",
    "    max_exp = int(np.ceil(np.max(high))) \n",
    "    ax3 = fig.add_subplot(6,2,7)\n",
    "    \n",
    "    #plot the data\n",
    "    PAD_high_dat = ax3.pcolormesh(times,angles,high,cmap=cmap.bwr)\n",
    "    \n",
    "    #deal with epochs on the x-axis\n",
    "    time_format = mdates.DateFormatter('%H:%M:%S')\n",
    "    seconds     = mdates.SecondLocator(range(0,59),interval = 5,tz=None)\n",
    "    ax3.xaxis.set_major_locator(seconds)\n",
    "    ax3.xaxis.set_major_formatter(time_format)\n",
    "    ax3.set_xlabel('Time')\n",
    "    \n",
    "    #deal with the y-axis\n",
    "    ax3.set_yscale('linear')\n",
    "    ax3.set_ylim([0,180])\n",
    "    ax3.set_ylabel('Hi Pitch Ang (deg)')\n",
    "    \n",
    "    #create the colorbar\n",
    "    log_cbar_span = np.array(range(min_exp,max_exp+1))\n",
    "    cb_ax3        = fig.add_axes(cbar_position(ax3,cbar_off,cbar_wth))\n",
    "    PAD_high_cbar = fig.colorbar(PAD_high_dat,cax=cb_ax3,ticks=log_cbar_span,format=ticker.FormatStrFormatter('$10^{%d}$'))\n",
    "    ax3.axvline(times[time_label],color = 'k')\n",
    "\n",
    "    ###########################################################################\n",
    "    #4th pane - ratio of PADs\n",
    "    ax4 = fig.add_subplot(6,2,9)\n",
    "    \n",
    "    #plot the data\n",
    "    asym_data = ax4.pcolormesh(times,energies,ratio,cmap=cmap.bwr,vmin=0.6,vmax=1.4)\n",
    "    \n",
    "    #deal with epochs on the x-axis\n",
    "    time_format = mdates.DateFormatter('%H:%M:%S')\n",
    "    seconds     = mdates.SecondLocator(range(0,59),interval = 5,tz=None)\n",
    "    ax4.xaxis.set_major_locator(seconds)\n",
    "    ax4.xaxis.set_major_formatter(time_format)\n",
    "    ax4.set_xlabel('Time')\n",
    "   \n",
    "    #deal with the y-axis\n",
    "    ax4.set_yscale('log')\n",
    "    ax4.set_ylim([energies[0],energies[31]])\n",
    "    ax4.set_ylabel('Energy (eV)')\n",
    "    \n",
    "    #create the colorbar\n",
    "    cb_ax4          = fig.add_axes(cbar_position(ax4,cbar_off,cbar_wth))\n",
    "    asym_cbar       = fig.colorbar(asym_data,cax=cb_ax4)\n",
    "    ax4.axvline(times[time_label],color = 'k')    \n",
    "\n",
    "    ###########################################################################\n",
    "    #5th pane - mag field\n",
    "    ax5 = fig.add_subplot(6,2,11)\n",
    "    \n",
    "    #plot the data\n",
    "    ax5.plot(times,bx*bnorm,label='Bx')\n",
    "    ax5.plot(times,by*bnorm,label='By')\n",
    "    ax5.plot(times,bz*bnorm,label='Bz')\n",
    "    ax5.set_xlim([times[0],times[-1]])\n",
    "    \n",
    "    #deal with epochs on the x-axis\n",
    "    time_format = mdates.DateFormatter('%H:%M:%S')\n",
    "    seconds     = mdates.SecondLocator(range(0,59),interval = 5,tz=None)\n",
    "    ax5.xaxis.set_major_locator(seconds)\n",
    "    ax5.xaxis.set_major_formatter(time_format)\n",
    "    ax5.set_xlabel('Time')\n",
    "    \n",
    "    #deal with the y-axis\n",
    "    ax5.set_yscale('linear')\n",
    "    ax5.set_ylabel('Magnetic Field (nT)')\n",
    "    ax5.axvline(times[time_label],color = 'k')\n",
    "    \n",
    "    ax5.legend(bbox_to_anchor=[1.12,1.0])\n",
    "\n",
    "    ###########################################################################\n",
    "    #6th pane - energy spectra\n",
    "    ax6     = fig.add_subplot(6,2,2)\n",
    "    Q_par   = 10**(par[:,time_label])\n",
    "    Q_perp  = 10**(perp[:,time_label])\n",
    "    Q_anti  = 10**(anti[:,time_label])\n",
    "    \n",
    "    #plot the data\n",
    "    par_spec_data  = ax6.loglog(energies,Q_par,'ko-',label='Parallel')\n",
    "    perp_spec_data = ax6.loglog(energies,Q_perp,'gs-',label='Perpendicular')\n",
    "    anti_spec_data = ax6.loglog(energies,Q_anti,'r^-',label='Anti-Parallel')\n",
    "    \n",
    "    #x-axis\n",
    "    ax6.set_xlabel('Energy (eV)')\n",
    "    ax6.set_xlim([50.0,30.0e3])\n",
    "    \n",
    "    #deal with the y-axis\n",
    "    ax6.set_ylabel('PSD (cm^-6 s^-3)')\n",
    "    \n",
    "    ax6.legend(bbox_to_anchor=[1.12,1.0])\n",
    "       \n",
    "    ###########################################################################\n",
    "    #7th pane - perpendicular energy spectrum\n",
    "    #ax7     = fig.add_subplot(6,2,4)\n",
    "    \n",
    "    \n",
    "    ###########################################################################\n",
    "    #8th pane - anti-parallel energy spectrum\n",
    "    #ax8     = fig.add_subplot(6,2,6)\n",
    "    \n",
    "    \n",
    "    ###########################################################################\n",
    "    #9th pane - Differnential Counter-Streaming energy spectrum\n",
    "    ax9     = fig.add_subplot(6,2,8)\n",
    "    \n",
    "    #plot the data\n",
    "    ax9.semilogx(energies,Q_par - Q_anti,'b.-')\n",
    "    \n",
    "    #x-axis\n",
    "    ax9.set_xlabel('Energy (eV)')\n",
    "    ax9.set_xlim([50.0,30.0e3])    \n",
    "    \n",
    "    #deal with the y-axis\n",
    "    ax9.set_ylabel('Differential Counter-Streaming \\n PSD (cm^-6 s^-3)')\n",
    "    ax9.axhline(0,color='k')\n",
    "    ax9.grid('on')\n",
    "    \n",
    "    ###########################################################################\n",
    "    #10th pane - Relative Counter-Streaming energy spectrum\n",
    "    ax10     = fig.add_subplot(6,2,10)\n",
    "    \n",
    "    #plot the data\n",
    "    ax10.semilogx(energies,np.divide(Q_par,Q_anti),'b.-')\n",
    "    \n",
    "    #x-axis\n",
    "    ax10.set_xlabel('Energy (eV)')\n",
    "    ax10.set_xlim([50.0,30.0e3])\n",
    "    \n",
    "    #deal with the y-axis\n",
    "    ax10.set_ylabel('Relative Counter-Streaming\\n PSD (Par/Anti)')\n",
    "    ax10.set_ylim([0.2,1.8])\n",
    "    ax10.axhline(1,color='k')\n",
    "    ax10.grid('on')    \n",
    "    \n",
    "    \n",
    "    ###########################################################################\n",
    "    #save the file\n",
    "    \n",
    "    #fig.tight_layout()\n",
    "    filename = 'x:/fpishare/Conrad/PAD_plots/BRST_summary_%s_%s.png' % (obs,BRST_time)\n",
    "    fig.savefig(filename)\n",
    "    fig.clf()"
   ]
  },
  {
   "cell_type": "code",
   "execution_count": 22,
   "metadata": {
    "collapsed": true
   },
   "outputs": [],
   "source": [
    "#####################################################################################   \n",
    "def cbar_position(current_ax,offset,cbar_width):\n",
    "    #get the tuple describing the lower x,y corner position\n",
    "    #and the width and height\n",
    "    x_pos, y_pos, width, height = current_ax.get_position().bounds\n",
    "    return [x_pos + width + offset, y_pos, cbar_width, height]  "
   ]
  },
  {
   "cell_type": "code",
   "execution_count": 23,
   "metadata": {
    "collapsed": false
   },
   "outputs": [
    {
     "name": "stderr",
     "output_type": "stream",
     "text": [
      "C:\\Users\\cschiff\\AppData\\Local\\Continuum\\Anaconda2\\lib\\site-packages\\ipykernel\\__main__.py:14: RuntimeWarning: divide by zero encountered in log10\n",
      "C:\\Users\\cschiff\\AppData\\Local\\Continuum\\Anaconda2\\lib\\site-packages\\ipykernel\\__main__.py:16: RuntimeWarning: divide by zero encountered in log10\n",
      "C:\\Users\\cschiff\\AppData\\Local\\Continuum\\Anaconda2\\lib\\site-packages\\ipykernel\\__main__.py:18: RuntimeWarning: divide by zero encountered in log10\n",
      "C:\\Users\\cschiff\\AppData\\Local\\Continuum\\Anaconda2\\lib\\site-packages\\ipykernel\\__main__.py:20: RuntimeWarning: divide by zero encountered in log10\n",
      "C:\\Users\\cschiff\\AppData\\Local\\Continuum\\Anaconda2\\lib\\site-packages\\ipykernel\\__main__.py:22: RuntimeWarning: divide by zero encountered in divide\n",
      "C:\\Users\\cschiff\\AppData\\Local\\Continuum\\Anaconda2\\lib\\site-packages\\ipykernel\\__main__.py:22: RuntimeWarning: invalid value encountered in divide\n",
      "C:\\Users\\cschiff\\AppData\\Local\\Continuum\\Anaconda2\\lib\\site-packages\\ipykernel\\__main__.py:23: RuntimeWarning: divide by zero encountered in log10\n",
      "C:\\Users\\cschiff\\AppData\\Local\\Continuum\\Anaconda2\\lib\\site-packages\\ipykernel\\__main__.py:24: RuntimeWarning: divide by zero encountered in log10\n",
      "C:\\Users\\cschiff\\AppData\\Local\\Continuum\\Anaconda2\\lib\\site-packages\\ipykernel\\__main__.py:25: RuntimeWarning: divide by zero encountered in log10\n"
     ]
    }
   ],
   "source": [
    "moments_data = load_moments_data(obs,cdf_dict['debug'])"
   ]
  },
  {
   "cell_type": "code",
   "execution_count": null,
   "metadata": {
    "collapsed": false
   },
   "outputs": [
    {
     "name": "stdout",
     "output_type": "stream",
     "text": [
      "0\n",
      "1\n",
      "2\n",
      "3\n",
      "4\n",
      "5\n",
      "6\n",
      "7\n",
      "8\n",
      "9\n",
      "10\n",
      "11\n",
      "12\n",
      "13\n",
      "14\n",
      "15\n",
      "16\n",
      "17\n",
      "18\n",
      "19\n",
      "20\n",
      "21\n",
      "22\n",
      "23\n",
      "24\n",
      "25\n",
      "26\n",
      "27\n",
      "28\n",
      "29\n",
      "30\n",
      "31\n",
      "32\n",
      "33\n",
      "34\n",
      "35\n",
      "36\n",
      "37\n",
      "38\n",
      "39\n",
      "40\n",
      "41\n",
      "42\n",
      "43\n",
      "44\n",
      "45\n",
      "46\n",
      "47\n",
      "48\n",
      "49\n",
      "50\n",
      "51\n",
      "52\n",
      "53\n",
      "54\n",
      "55\n",
      "56\n",
      "57\n",
      "58\n",
      "59\n",
      "60\n",
      "61\n",
      "62\n",
      "63\n",
      "64\n",
      "65\n",
      "66\n",
      "67\n",
      "68\n",
      "69\n",
      "70\n",
      "71\n",
      "72\n",
      "73\n",
      "74\n",
      "75\n",
      "76\n",
      "77\n",
      "78\n",
      "79\n",
      "80\n",
      "81\n",
      "82\n",
      "83\n",
      "84\n",
      "85\n",
      "86\n",
      "87\n",
      "88\n",
      "89\n",
      "90\n",
      "91\n",
      "92\n",
      "93\n",
      "94\n",
      "95\n",
      "96\n",
      "97\n",
      "98\n",
      "99\n",
      "100\n",
      "101\n",
      "102\n",
      "103\n",
      "104\n",
      "105\n",
      "106\n",
      "107\n",
      "108\n",
      "109\n",
      "110\n",
      "111\n",
      "112\n",
      "113\n",
      "114\n",
      "115\n",
      "116\n",
      "117\n",
      "118\n",
      "119\n",
      "120\n",
      "121\n",
      "122\n",
      "123\n",
      "124\n",
      "125\n",
      "126\n",
      "127\n",
      "128\n",
      "129\n",
      "130\n",
      "131\n",
      "132\n",
      "133\n",
      "134\n",
      "135\n",
      "136\n",
      "137\n",
      "138\n",
      "139\n",
      "140\n",
      "141\n",
      "142\n",
      "143\n",
      "144\n",
      "145\n",
      "146\n",
      "147\n",
      "148\n",
      "149\n",
      "150\n",
      "151\n",
      "152\n",
      "153\n",
      "154\n",
      "155\n",
      "156\n",
      "157"
     ]
    }
   ],
   "source": [
    "for i in range(0,len(moments_data['times'])):\n",
    "    print i\n",
    "    make_brst_summary_plot(obs,moments_data,i)"
   ]
  },
  {
   "cell_type": "code",
   "execution_count": 43,
   "metadata": {
    "collapsed": false
   },
   "outputs": [],
   "source": [
    "A = moments_data['par'][:,500]\n",
    "B = moments_data['anti'][:,500]\n",
    "E = moments_data['energies']"
   ]
  },
  {
   "cell_type": "code",
   "execution_count": 35,
   "metadata": {
    "collapsed": false
   },
   "outputs": [],
   "source": [
    "QA = 10.0**A\n",
    "QB = 10.0**B"
   ]
  },
  {
   "cell_type": "code",
   "execution_count": 44,
   "metadata": {
    "collapsed": false
   },
   "outputs": [
    {
     "name": "stdout",
     "output_type": "stream",
     "text": [
      "12.41 7.7412 5.51058e+07 7.4795 3.01651e+07\n",
      "15.91 7.7838 6.07861e+07 7.60508 4.02789e+07\n",
      "20.4 7.69842 4.99369e+07 7.58519 3.84756e+07\n",
      "26.16 6.85469 7.15636e+06 6.44398 2.7796e+06\n",
      "33.54 6.03713 1.08926e+06 5.58308 382899.0\n",
      "43.01 5.3122 205211.0 5.73932 548679.0\n",
      "55.15 5.29213 195941.0 -- --\n",
      "70.71 5.16942 147715.0 -- --\n",
      "90.67 4.87737 75399.3 5.33169 214630.0\n",
      "116.26 5.10392 127034.0 -- --\n",
      "149.08 5.85226 711644.0 5.61146 408751.0\n",
      "191.15 5.83764 688085.0 5.68475 483898.0\n",
      "245.1 5.87608 751764.0 5.75567 569738.0\n",
      "314.27 5.9259 843146.0 6.30926 2.03826e+06\n",
      "402.97 6.19221 1.55671e+06 6.30887 2.03642e+06\n",
      "516.7 6.51665 3.28586e+06 6.60966 4.07064e+06\n",
      "662.53 6.66856 4.6619e+06 6.74423 5.54918e+06\n",
      "849.51 6.58286 3.82697e+06 7.11175 1.29344e+07\n",
      "1089.27 6.98079 9.56734e+06 6.88689 7.70711e+06\n",
      "1396.69 7.10803 1.28241e+07 6.89595 7.86956e+06\n",
      "1790.88 7.18332 1.52519e+07 6.7963 6.25608e+06\n",
      "2296.32 7.17445 1.49435e+07 6.75671 5.71095e+06\n",
      "2944.42 7.13364 1.36033e+07 6.66607 4.63527e+06\n",
      "3775.42 7.01402 1.0328e+07 6.62362 4.20356e+06\n",
      "4840.95 6.80932 6.44643e+06 6.68774 4.87234e+06\n",
      "6207.21 6.76916 5.87712e+06 6.55978 3.62897e+06\n",
      "7959.08 6.74139 5.51302e+06 6.49103 3.09762e+06\n",
      "10205.4 6.41525 2.60164e+06 6.21302 1.63313e+06\n",
      "13085.6 5.82179 663417.0 5.9411 873163.0\n",
      "16778.8 5.74111 550953.0 5.84686 702850.0\n",
      "21514.3 5.64616 442749.0 -- --\n",
      "27586.2 5.79021 616892.0 -- --\n"
     ]
    }
   ],
   "source": [
    "for j in range(32):\n",
    "    print E[j], A[j], QA[j], B[j], QB[j]"
   ]
  },
  {
   "cell_type": "code",
   "execution_count": null,
   "metadata": {
    "collapsed": true
   },
   "outputs": [],
   "source": []
  }
 ],
 "metadata": {
  "anaconda-cloud": {},
  "kernelspec": {
   "display_name": "Python 2",
   "language": "python",
   "name": "python2"
  },
  "language_info": {
   "codemirror_mode": {
    "name": "ipython",
    "version": 2
   },
   "file_extension": ".py",
   "mimetype": "text/x-python",
   "name": "python",
   "nbconvert_exporter": "python",
   "pygments_lexer": "ipython2",
   "version": "2.7.12"
  }
 },
 "nbformat": 4,
 "nbformat_minor": 0
}
