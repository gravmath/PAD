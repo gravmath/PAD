{
 "cells": [
  {
   "cell_type": "code",
   "execution_count": 1,
   "metadata": {
    "collapsed": false
   },
   "outputs": [],
   "source": [
    "import sqlite3\n",
    "sys.path.append('c:/users/cschiff/Documents/GitHub/PAD/')\n",
    "import Scraper"
   ]
  },
  {
   "cell_type": "markdown",
   "metadata": {},
   "source": [
    "# Open the connection to the database"
   ]
  },
  {
   "cell_type": "code",
   "execution_count": 2,
   "metadata": {
    "collapsed": true
   },
   "outputs": [],
   "source": [
    "sqlite_file = 'c:/users/cschiff/Documents/GitHub/PAD/instrument_data_db.sqlite'\n",
    "conn = sqlite3.connect(sqlite_file)\n",
    "cursor = conn.cursor()"
   ]
  },
  {
   "cell_type": "markdown",
   "metadata": {
    "collapsed": true
   },
   "source": [
    "# Construct the database tables (just once)"
   ]
  },
  {
   "cell_type": "code",
   "execution_count": 38,
   "metadata": {
    "collapsed": false
   },
   "outputs": [],
   "source": [
    "create_tables = False\n",
    "if create_tables == True:\n",
    "    conn.close()  #close and re-open since delete is done in the browser\n",
    "    sqlite_file = 'c:/users/cschiff/Documents/GitHub/PAD/instrument_data_db.sqlite'\n",
    "    conn = sqlite3.connect(sqlite_file)\n",
    "    cursor = conn.cursor()\n",
    "    field_names = '(ID INTEGER PRIMARY KEY,\\\n",
    "                   obs         TEXT,\\\n",
    "                   instrument  TEXT,\\\n",
    "                   mode        TEXT,\\\n",
    "                   descriptor  TEXT,\\\n",
    "                   ver         TEXT,\\\n",
    "                   year        INTEGER,\\\n",
    "                   month       INTEGER,\\\n",
    "                   day         INTEGER,\\\n",
    "                   hour        INTEGER,\\\n",
    "                   minute      INTEGER,\\\n",
    "                   second      INTEGER,\\\n",
    "                   atime       NUMERIC,\\\n",
    "                   ctime       NUMERIC,\\\n",
    "                   mtime       NUMERIC,\\\n",
    "                   size        INTEGER,\\\n",
    "                   filename    TEXT)'\n",
    "    FPI_table_command = 'CREATE TABLE fpi_data %s;' % field_names\n",
    "    MEC_table_command = 'CREATE TABLE mec_data %s;' % field_names    \n",
    "    cursor.execute(FPI_table_command)\n",
    "    cursor.execute(MEC_table_command)    \n",
    "    conn.commit()"
   ]
  },
  {
   "cell_type": "markdown",
   "metadata": {},
   "source": [
    "# Populate the database"
   ]
  },
  {
   "cell_type": "markdown",
   "metadata": {},
   "source": [
    "## Scrape for the files for FPI v3.1.0\n",
    "\n",
    "See the LOP for instructions"
   ]
  },
  {
   "cell_type": "code",
   "execution_count": 79,
   "metadata": {
    "collapsed": false
   },
   "outputs": [
    {
     "name": "stdout",
     "output_type": "stream",
     "text": [
      "encoding a search for mms1_fpi_fast_l2_dis-debug_\\d{14}_v3.1.0.cdf!\n",
      "x:/data/ftp/mms1/fpi/fast/l2/dis-debug\n"
     ]
    }
   ],
   "source": [
    "obs        = 'mms1'\n",
    "instrument = 'fpi'\n",
    "mode       = 'fast'\n",
    "descriptor = 'dis-debug'\n",
    "ver        = '3.1.0'\n",
    "pattern    = Scraper.construct_file_selector(obs,instrument,mode,descriptor,ver)\n",
    "base_dir   = 'x:/data/ftp/%s/%s/%s/l2/%s' % (obs,instrument,mode,descriptor)\n",
    "print base_dir\n",
    "debug_310  = Scraper.scrape_files(pattern,base_dir)"
   ]
  },
  {
   "cell_type": "code",
   "execution_count": 80,
   "metadata": {
    "collapsed": false
   },
   "outputs": [],
   "source": [
    "for dli in debug_310:\n",
    "#for counter in range(10):\n",
    "    #dli = debug_310[counter]\n",
    "    date_str = Scraper.file_epoch(dli)\n",
    "    year     = date_str[0:4]\n",
    "    month    = date_str[4:6]\n",
    "    day      = date_str[6:8]\n",
    "    hour     = date_str[8:10]\n",
    "    minute   = date_str[10:12]\n",
    "    second   = date_str[12:14]\n",
    "    temp     = os.stat(dli)\n",
    "    atime    = temp[7]\n",
    "    ctime    = temp[9]\n",
    "    mtime    = temp[8]\n",
    "    size     = temp[6]/1024.0/1024.0\n",
    "    fields   = \"obs,instrument,mode,descriptor,ver,year,month,day,hour,minute,second,atime,ctime,mtime,size, filename\"\n",
    "    values   = \"'%s','%s','%s','%s','%s',%s,%s,%s,%s,%s,%s,%s,%s,%s,%s,'%s'\" % (obs, instrument,mode,descriptor,ver,year,month,day,hour,minute,second,atime,ctime,mtime,size,dli[2:])    \n",
    "    cmd      = 'INSERT INTO fpi_data (%s) VALUES (%s);' % (fields,values)\n",
    "    cursor.execute(cmd)\n",
    "conn.commit()"
   ]
  },
  {
   "cell_type": "markdown",
   "metadata": {},
   "source": [
    "## Scrape for the files for FPI v3.1.1\n",
    "see LOP for instructions"
   ]
  },
  {
   "cell_type": "code",
   "execution_count": 83,
   "metadata": {
    "collapsed": false
   },
   "outputs": [
    {
     "name": "stdout",
     "output_type": "stream",
     "text": [
      "encoding a search for mms1_fpi_fast_l2_dis-debug_\\d{14}_v3.1.1.cdf!\n",
      "x:/data/ftp/mms1/fpi/fast/l2/dis-debug\n"
     ]
    }
   ],
   "source": [
    "obs        = 'mms1'\n",
    "instrument = 'fpi'\n",
    "mode       = 'fast'\n",
    "descriptor = 'dis-debug'\n",
    "ver        = '3.1.1'\n",
    "pattern    = Scraper.construct_file_selector(obs,instrument,mode,descriptor,ver)\n",
    "base_dir   = 'x:/data/ftp/%s/%s/%s/l2/%s' % (obs,instrument,mode,descriptor)\n",
    "print base_dir\n",
    "debug_311  = Scraper.scrape_files(pattern,base_dir)"
   ]
  },
  {
   "cell_type": "code",
   "execution_count": 84,
   "metadata": {
    "collapsed": false
   },
   "outputs": [],
   "source": [
    "for dli in debug_311:\n",
    "    date_str = Scraper.file_epoch(dli)\n",
    "    year     = date_str[0:4]\n",
    "    month    = date_str[4:6]\n",
    "    day      = date_str[6:8]\n",
    "    hour     = date_str[8:10]\n",
    "    minute   = date_str[10:12]\n",
    "    second   = date_str[12:14]\n",
    "    temp     = os.stat(dli)\n",
    "    atime    = temp[7]\n",
    "    ctime    = temp[9]\n",
    "    mtime    = temp[8]\n",
    "    size     = temp[6]/1024.0/1024.0\n",
    "    fields   = \"obs,instrument,mode,descriptor,ver,year,month,day,hour,minute,second,atime,ctime,mtime,size, filename\"\n",
    "    values   = \"'%s','%s','%s','%s','%s',%s,%s,%s,%s,%s,%s,%s,%s,%s,%s,'%s'\" % (obs, instrument,mode,descriptor,ver,year,month,day,hour,minute,second,atime,ctime,mtime,size,dli[2:])    \n",
    "    cmd      = 'INSERT INTO fpi_data (%s) VALUES (%s);' % (fields,values)\n",
    "    cursor.execute(cmd)\n",
    "conn.commit()"
   ]
  },
  {
   "cell_type": "markdown",
   "metadata": {},
   "source": [
    "## Scrape for the files for MEC v2"
   ]
  },
  {
   "cell_type": "code",
   "execution_count": 62,
   "metadata": {
    "collapsed": false
   },
   "outputs": [
    {
     "name": "stdout",
     "output_type": "stream",
     "text": [
      "encoding a search for mms1_mec_srvy_l2_ephts04d_\\d{8}_v2.....cdf!\n",
      "x:/data/ftp/mms1/mec/srvy/l2/ephts04d\n",
      "1652\n"
     ]
    }
   ],
   "source": [
    "obs        = 'mms1'\n",
    "instrument = 'mec'\n",
    "mode       = 'srvy'\n",
    "descriptor = 'ephts04d'\n",
    "ver        = '2....'\n",
    "pattern    = Scraper.construct_file_selector(obs,instrument,mode,descriptor,ver)\n",
    "base_dir   = 'x:/data/ftp/%s/%s/%s/l2/%s' % (obs,instrument,mode,descriptor)\n",
    "print base_dir\n",
    "mec_2      = Scraper.scrape_files(pattern,base_dir)\n",
    "print len(mec_2)"
   ]
  },
  {
   "cell_type": "code",
   "execution_count": 72,
   "metadata": {
    "collapsed": false
   },
   "outputs": [],
   "source": [
    "for mli in mec_2:\n",
    "    date_str = Scraper.file_epoch(mli)\n",
    "    ver      = mli.split('/')[10].split('_')[-1][1:-4]\n",
    "    year     = date_str[0:4]\n",
    "    month    = date_str[4:6]\n",
    "    day      = date_str[6:8]\n",
    "    hour     = 0\n",
    "    minute   = 0\n",
    "    second   = 0\n",
    "    temp     = os.stat(mli)\n",
    "    atime    = temp[7]\n",
    "    ctime    = temp[9]\n",
    "    mtime    = temp[8]\n",
    "    size     = temp[6]/1024.0/1024.0\n",
    "    fields   = \"obs,instrument,mode,descriptor,ver,year,month,day,hour,minute,second,atime,ctime,mtime,size,filename\"\n",
    "    values   = \"'%s','%s','%s','%s','%s',%s,%s,%s,%s,%s,%s,%s,%s,%s,%s,'%s'\" % (obs, instrument,mode,descriptor,ver,year,month,day,hour,minute,second,atime,ctime,mtime,size,mli[2:])    \n",
    "    cmd      = 'INSERT INTO mec_data (%s) VALUES (%s);' % (fields,values)\n",
    "    cursor.execute(cmd)\n",
    "conn.commit()"
   ]
  }
 ],
 "metadata": {
  "kernelspec": {
   "display_name": "Python 2",
   "language": "python",
   "name": "python2"
  },
  "language_info": {
   "codemirror_mode": {
    "name": "ipython",
    "version": 2
   },
   "file_extension": ".py",
   "mimetype": "text/x-python",
   "name": "python",
   "nbconvert_exporter": "python",
   "pygments_lexer": "ipython2",
   "version": "2.7.12"
  }
 },
 "nbformat": 4,
 "nbformat_minor": 0
}
