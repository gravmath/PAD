{
 "cells": [
  {
   "cell_type": "markdown",
   "metadata": {},
   "source": [
    "Last updated - 11/13/2016\n",
    "\n",
    "A small unit test for Convert functionality; specifically testing conversions from GCI(ECI), to GSE, GSM, and SM.  \n",
    "\n",
    "Also testing the conversion to local time functionality"
   ]
  },
  {
   "cell_type": "code",
   "execution_count": 1,
   "metadata": {
    "collapsed": true
   },
   "outputs": [],
   "source": [
    "import sys\n",
    "sys.path.append('c:/Users/Conrad/Documents/GitHub/PAD/')\n",
    "import numpy as np\n",
    "import Convert"
   ]
  },
  {
   "cell_type": "markdown",
   "metadata": {},
   "source": [
    "Enter the date and time for the test epoch"
   ]
  },
  {
   "cell_type": "code",
   "execution_count": 2,
   "metadata": {
    "collapsed": false
   },
   "outputs": [],
   "source": [
    "epoch_dict = {'year'   : 2015,\n",
    "              'month'  : 10,\n",
    "              'day'    : 16,\n",
    "              'hour'   : 0,\n",
    "              'min'    : 0,\n",
    "              'sec'    : 0}"
   ]
  },
  {
   "cell_type": "markdown",
   "metadata": {},
   "source": [
    "Now hav Convert return the transformation matrices from GCI to GSE, GSM, and SM respectively"
   ]
  },
  {
   "cell_type": "code",
   "execution_count": 3,
   "metadata": {
    "collapsed": false
   },
   "outputs": [],
   "source": [
    "A_gse_gci = Convert.convert_GCI_to_GSE(epoch_dict)"
   ]
  },
  {
   "cell_type": "code",
   "execution_count": 4,
   "metadata": {
    "collapsed": false
   },
   "outputs": [],
   "source": [
    "A_gsm_gci = Convert.convert_GCI_to_GSM(epoch_dict)"
   ]
  },
  {
   "cell_type": "code",
   "execution_count": 5,
   "metadata": {
    "collapsed": true
   },
   "outputs": [],
   "source": [
    "A_sm_gci = Convert.convert_GCI_to_SM(epoch_dict)"
   ]
  },
  {
   "cell_type": "markdown",
   "metadata": {},
   "source": [
    "Now enter the vector to be transformed.  In this case, the vector comes from mms1_mec_srvy_l2_epht89d_20151016_v2.0.0.cdf from the MMS SDC.  The values in the MEC file are:\n",
    "\n",
    "- $V_{gci}$ = [-9.04343875,2.59633073,2.14186689]\n",
    "- $V_{gse}$ = [7.16284894,-6.3981634,0.9324224]\n",
    "- $V_{gsm}$ = [7.16284894,-6.03880344,2.31057557]\n",
    "- $V_{sm}$  = [7.48668169,-6.033880344,0.77120795]\n"
   ]
  },
  {
   "cell_type": "code",
   "execution_count": 6,
   "metadata": {
    "collapsed": false
   },
   "outputs": [],
   "source": [
    "v_gci = np.array([-9.04343875,2.59633073,2.14186689])"
   ]
  },
  {
   "cell_type": "code",
   "execution_count": 7,
   "metadata": {
    "collapsed": true
   },
   "outputs": [],
   "source": [
    "v_gse = A_gse_gci.dot(v_gci)\n",
    "v_gsm = A_gsm_gci.dot(v_gci)\n",
    "v_sm  = A_sm_gci.dot(v_gci)"
   ]
  },
  {
   "cell_type": "code",
   "execution_count": 8,
   "metadata": {
    "collapsed": false
   },
   "outputs": [
    {
     "name": "stdout",
     "output_type": "stream",
     "text": [
      "v_gse:   [ 7.1380806  -6.42577888  0.93246052]\n",
      "v_gsm:   [ 7.1380806  -6.09591046  2.2360663 ]\n",
      "v_sm:    [ 7.45249504 -6.09591046  0.64226533]\n"
     ]
    }
   ],
   "source": [
    "print 'v_gse:  ', v_gse\n",
    "print 'v_gsm:  ', v_gsm\n",
    "print 'v_sm:   ', v_sm"
   ]
  },
  {
   "cell_type": "markdown",
   "metadata": {},
   "source": [
    "To within the expected accuracy of the G"
   ]
  },
  {
   "cell_type": "code",
   "execution_count": 18,
   "metadata": {
    "collapsed": false
   },
   "outputs": [
    {
     "name": "stdout",
     "output_type": "stream",
     "text": [
      "12.0\n",
      "18.0\n",
      "0.0\n",
      "6.0\n"
     ]
    }
   ],
   "source": [
    "print Convert.calc_LT([1,0,0])\n",
    "print Convert.calc_LT([0,1,0])\n",
    "print Convert.calc_LT([-1,0,0])\n",
    "print Convert.calc_LT([0,-1,0])"
   ]
  },
  {
   "cell_type": "code",
   "execution_count": 19,
   "metadata": {
    "collapsed": false
   },
   "outputs": [
    {
     "name": "stdout",
     "output_type": "stream",
     "text": [
      "3.0\n"
     ]
    }
   ],
   "source": [
    "print Convert.calc_LT([-1,-1,0])"
   ]
  },
  {
   "cell_type": "code",
   "execution_count": null,
   "metadata": {
    "collapsed": true
   },
   "outputs": [],
   "source": []
  }
 ],
 "metadata": {
  "kernelspec": {
   "display_name": "Python [default]",
   "language": "python",
   "name": "python2"
  },
  "language_info": {
   "codemirror_mode": {
    "name": "ipython",
    "version": 2
   },
   "file_extension": ".py",
   "mimetype": "text/x-python",
   "name": "python",
   "nbconvert_exporter": "python",
   "pygments_lexer": "ipython2",
   "version": "2.7.12"
  }
 },
 "nbformat": 4,
 "nbformat_minor": 1
}
