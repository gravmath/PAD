{
 "cells": [
  {
   "cell_type": "code",
   "execution_count": 1,
   "metadata": {
    "collapsed": true
   },
   "outputs": [],
   "source": [
    "import sys\n",
    "sys.path.append('./Documents/github/PAD/src/')\n",
    "import Analyzer\n",
    "import Grapher\n",
    "import Munger\n",
    "import Plasma_Plotter\n",
    "import Scraper"
   ]
  },
  {
   "cell_type": "code",
   "execution_count": 2,
   "metadata": {
    "collapsed": true
   },
   "outputs": [],
   "source": [
    "num_channels = 32*16*32\n",
    "chosen_stride = 0"
   ]
  },
  {
   "cell_type": "code",
   "execution_count": 3,
   "metadata": {
    "collapsed": true
   },
   "outputs": [],
   "source": [
    "dist = ['c:/Users/cschiff/Downloads/CDFs/mms2_fpi_brst_l2_des-dist_20151016130524_v3.3.0.cdf']\n",
    "fgm  = ['c:/Users/cschiff/Downloads/CDFs/mms2_fgm_brst_l2_20151016130524_v4.18.0.cdf']\n",
    "moms = ['c:/Users/cschiff/Downloads/CDFs/mms2_fpi_brst_l2_des-debug_20151016130524_v3.3.0.cdf']"
   ]
  },
  {
   "cell_type": "code",
   "execution_count": 4,
   "metadata": {},
   "outputs": [
    {
     "name": "stdout",
     "output_type": "stream",
     "text": [
      "segment 1 - start: 2015-10-16 13:05:24.013945 stop 2015-10-16 13:07:43.965933\n",
      "fresh segment - first stride\n",
      "Munged 1 series for edist on mms2!\n"
     ]
    }
   ],
   "source": [
    "dist_munge = Munger.make_munge_via_translation('mms2','edist',Munger.des_delta,dist,Munger.edist_translation)"
   ]
  },
  {
   "cell_type": "code",
   "execution_count": 5,
   "metadata": {},
   "outputs": [
    {
     "name": "stdout",
     "output_type": "stream",
     "text": [
      "segment 1 - start: 2015-10-16 13:05:24.580997 stop 2015-10-16 13:07:43.574761\n",
      "fresh segment - first stride\n",
      "Munged 1 series for fgm on mms2!\n"
     ]
    }
   ],
   "source": [
    "fgm_munge = Munger.make_munge_via_translation('mms2','fgm',Munger.fgm_delta,fgm,Munger.fgm_translation)"
   ]
  },
  {
   "cell_type": "code",
   "execution_count": 6,
   "metadata": {},
   "outputs": [
    {
     "name": "stdout",
     "output_type": "stream",
     "text": [
      "segment 1 - start: 2015-10-16 13:05:24.013945 stop 2015-10-16 13:07:43.965933\n",
      "fresh segment - first stride\n",
      "Munged 1 series for emoms on mms2!\n"
     ]
    }
   ],
   "source": [
    "moms_munge = Munger.make_munge_via_translation('mms2','emoms',Munger.des_delta,moms,Munger.emoms_translation)"
   ]
  },
  {
   "cell_type": "code",
   "execution_count": 7,
   "metadata": {},
   "outputs": [
    {
     "name": "stdout",
     "output_type": "stream",
     "text": [
      "fgm flavored\n"
     ]
    }
   ],
   "source": [
    "efgm_munge = Munger.adapt_munge_to_munge(fgm_munge,moms_munge)"
   ]
  },
  {
   "cell_type": "code",
   "execution_count": 8,
   "metadata": {
    "collapsed": true
   },
   "outputs": [],
   "source": [
    "Analyzer.make_record_varying(dist_munge,'thetas')"
   ]
  },
  {
   "cell_type": "code",
   "execution_count": 9,
   "metadata": {
    "collapsed": true
   },
   "outputs": [],
   "source": [
    "Analyzer.calculate_B_local_transformation(efgm_munge,moms_munge)"
   ]
  },
  {
   "cell_type": "code",
   "execution_count": 10,
   "metadata": {
    "collapsed": true
   },
   "outputs": [],
   "source": [
    "Analyzer.calculate_incoming_particle_directions(dist_munge)"
   ]
  },
  {
   "cell_type": "code",
   "execution_count": 11,
   "metadata": {
    "collapsed": true
   },
   "outputs": [],
   "source": [
    "Analyzer.calculate_incoming_particle_velocities(dist_munge,'electrons')"
   ]
  },
  {
   "cell_type": "markdown",
   "metadata": {},
   "source": [
    "### QQQ is a current shorthand for velocities converted to local magnetic"
   ]
  },
  {
   "cell_type": "code",
   "execution_count": 12,
   "metadata": {
    "collapsed": true
   },
   "outputs": [],
   "source": [
    "time_label = 3272\n",
    "QQQ = np.array([efgm_munge[0]['T_localB'][time_label].dot(dist_munge[0]['vels'][time_label,i,:]) for i in range(num_channels)])"
   ]
  },
  {
   "cell_type": "markdown",
   "metadata": {},
   "source": [
    "\"\"\" def calc_index(data,data_bin):\n",
    "    delta   = data_bin[1] - data_bin[0]\n",
    "    num_pts = len(data_bin) \n",
    "    \n",
    "    index = np.around((data-data_bin[0])/delta).astype(int)\n",
    "    flag  = np.ones(len(data))\n",
    "    \n",
    "    subzero_indices          = np.where(index < 0)\n",
    "    over_9000_indices        = np.where(index > num_pts - 1)\n",
    "    index[subzero_indices]   = 0\n",
    "    flag[subzero_indices]    = 0.0\n",
    "    index[over_9000_indices] = num_pts - 1\n",
    "    flag[over_9000_indices]  = 0.0\n",
    "    \n",
    "    return index, flag\"\"\""
   ]
  },
  {
   "cell_type": "code",
   "execution_count": 13,
   "metadata": {
    "collapsed": true
   },
   "outputs": [],
   "source": [
    "compx = 1\n",
    "compy = 2"
   ]
  },
  {
   "cell_type": "code",
   "execution_count": 14,
   "metadata": {},
   "outputs": [
    {
     "name": "stderr",
     "output_type": "stream",
     "text": [
      "C:\\Users\\cschiff\\AppData\\Local\\Continuum\\anaconda2\\lib\\site-packages\\ipykernel_launcher.py:20: RuntimeWarning: divide by zero encountered in log10\n"
     ]
    }
   ],
   "source": [
    "min_vel    = -10000\n",
    "max_vel    = 10000\n",
    "Dx         = 1000\n",
    "num_points = (max_vel - min_vel)/Dx + 1\n",
    "\n",
    "dist_grid     = np.zeros((num_points,num_points))\n",
    "N_grid        = np.zeros((num_points,num_points))\n",
    "x_bin         = np.linspace(min_vel,max_vel,num_points)\n",
    "y_bin         = np.linspace(min_vel,max_vel,num_points)\n",
    "x_index, x_f  = Analyzer.calculate_index(QQQ[:,compx],x_bin)\n",
    "y_index, y_f  = Analyzer.calculate_index(QQQ[:,compy],y_bin)\n",
    "\n",
    "for i in range(num_channels):\n",
    "    #determine the bin location\n",
    "    dist_grid[x_index[i],y_index[i]] += x_f[i]*y_f[i]*dist_munge[chosen_stride]['dist'][time_label].reshape(num_channels)[i]\n",
    "    N_grid[x_index[i],y_index[i]]    += 1\n",
    "    \n",
    "W              = dist_grid/N_grid\n",
    "W[np.isnan(W)] = 0.0\n",
    "logW = np.ma.masked_invalid(np.log10(W)) "
   ]
  },
  {
   "cell_type": "code",
   "execution_count": 15,
   "metadata": {
    "collapsed": true
   },
   "outputs": [],
   "source": [
    "def COM(x_bin,y_bin,dist):\n",
    "    COM = np.array([0,0])\n",
    "    M   = np.sum(dist)\n",
    "    for i in range(len(x_bin)):\n",
    "        for j in range(len(y_bin)):\n",
    "            temp = dist[i,j]/M*np.array([x_bin[i],y_bin[j]])\n",
    "            COM = COM + temp\n",
    "    \n",
    "    \n",
    "    return COM            "
   ]
  },
  {
   "cell_type": "code",
   "execution_count": 16,
   "metadata": {
    "collapsed": true
   },
   "outputs": [],
   "source": [
    "def excise_center(x_bin,y_bin,dist,external):\n",
    "    import copy\n",
    "    temp = copy.deepcopy(dist)\n",
    "    for i in range(len(x_bin)):\n",
    "        for j in range(len(y_bin)):\n",
    "            if np.abs(x_bin[i]) < external and np.abs(y_bin[j]) < external:\n",
    "                temp[i,j] = 0.0\n",
    "                \n",
    "    return temp    "
   ]
  },
  {
   "cell_type": "code",
   "execution_count": 17,
   "metadata": {},
   "outputs": [
    {
     "name": "stderr",
     "output_type": "stream",
     "text": [
      "C:\\Users\\cschiff\\AppData\\Local\\Continuum\\anaconda2\\lib\\site-packages\\ipykernel_launcher.py:2: RuntimeWarning: divide by zero encountered in log10\n",
      "  \n"
     ]
    }
   ],
   "source": [
    "excised_W = excise_center(x_bin,y_bin,W,2000.0)\n",
    "log_excised_W = np.ma.masked_invalid(np.log10(excised_W))"
   ]
  },
  {
   "cell_type": "code",
   "execution_count": 18,
   "metadata": {
    "collapsed": true
   },
   "outputs": [],
   "source": [
    "COM_rect = COM(x_bin,y_bin,W)"
   ]
  },
  {
   "cell_type": "code",
   "execution_count": 19,
   "metadata": {},
   "outputs": [
    {
     "data": {
      "text/plain": [
       "array([ 1052.30040674,   -22.74420585])"
      ]
     },
     "execution_count": 19,
     "metadata": {},
     "output_type": "execute_result"
    }
   ],
   "source": [
    "COM_rect"
   ]
  },
  {
   "cell_type": "code",
   "execution_count": 20,
   "metadata": {},
   "outputs": [
    {
     "name": "stdout",
     "output_type": "stream",
     "text": [
      "2015-10-16 13:07:02.175346\n"
     ]
    },
    {
     "data": {
      "image/png": "[encoded data removed]",
      "text/plain": [
       "<matplotlib.figure.Figure at 0xa3aae48>"
      ]
     },
     "metadata": {},
     "output_type": "display_data"
    }
   ],
   "source": [
    "fig_v = plt.figure(figsize=(10,10))\n",
    "ax_v  = fig_v.add_subplot(1,1,1) \n",
    "ax_v.pcolormesh(x_bin,y_bin,logW.T,cmap=cmap.jet,vmin=-30,vmax=-25)\n",
    "#ax_v.contour(logW.T,15,colors='k')\n",
    "ax_v.axis('equal')\n",
    "ax_v.set_xlim([min_vel,max_vel])\n",
    "ax_v.set_ylim([min_vel,max_vel])\n",
    "ax_v.plot(COM_rect[0],COM_rect[1],'ko')\n",
    "ax_v.plot(0,0,'k+')\n",
    "print dist_munge[chosen_stride]['epochs'][time_label]"
   ]
  },
  {
   "cell_type": "code",
   "execution_count": 21,
   "metadata": {
    "collapsed": true
   },
   "outputs": [],
   "source": [
    "min_velr = 2000\n",
    "max_velr = 11500\n",
    "Dr       = 500\n",
    "num_r    = (max_velr - min_velr)/Dr + 1\n",
    "\n",
    "min_theta = 0\n",
    "max_theta = 360\n",
    "Dtheta    = 12\n",
    "num_theta = (max_theta - min_theta)/Dtheta\n",
    "\n",
    "dist_grid  = np.zeros((num_r,num_theta))\n",
    "N_grid     = np.zeros((num_r,num_theta))\n",
    "radial_bin = np.linspace(min_velr,max_velr,num_r)\n",
    "ang_bin    = np.linspace(min_theta,max_theta,num_theta)\n",
    "\n",
    "vels_r     = np.sqrt(QQQ[:,compx]**2 + QQQ[:,compy]**2)\n",
    "vels_theta = np.arctan2(QQQ[:,compy],QQQ[:,compx])\n",
    "vels_theta[vels_theta<0.0] = vels_theta[vels_theta<0.0] + 2*np.pi\n",
    "vels_theta = vels_theta*180/np.pi\n",
    "\n",
    "Ir, Fr = Analyzer.calculate_index(vels_r,radial_bin)\n",
    "#It, Ft = calc_index(vels_theta,angs*180/np.pi)\n",
    "It, Ft = Analyzer.calculate_index(vels_theta,ang_bin)"
   ]
  },
  {
   "cell_type": "code",
   "execution_count": 22,
   "metadata": {},
   "outputs": [
    {
     "name": "stderr",
     "output_type": "stream",
     "text": [
      "C:\\Users\\cschiff\\AppData\\Local\\Continuum\\anaconda2\\lib\\site-packages\\ipykernel_launcher.py:5: RuntimeWarning: divide by zero encountered in log10\n",
      "  \"\"\"\n"
     ]
    }
   ],
   "source": [
    "for i in range(num_channels):\n",
    "    #determine the bin location\n",
    "    dist_grid[Ir[i],It[i]] += Fr[i]*Ft[i]*dist_munge[chosen_stride]['dist'][time_label].reshape(num_channels)[i]\n",
    "    N_grid[Ir[i],It[i]]    += 1\n",
    "W = np.ma.masked_invalid(np.log10(dist_grid/N_grid))"
   ]
  },
  {
   "cell_type": "code",
   "execution_count": 23,
   "metadata": {},
   "outputs": [
    {
     "name": "stdout",
     "output_type": "stream",
     "text": [
      "2015-10-16 13:07:02.175346\n"
     ]
    },
    {
     "data": {
      "image/png": "[encoded data removed]",
      "text/plain": [
       "<matplotlib.figure.Figure at 0x9ad7940>"
      ]
     },
     "metadata": {},
     "output_type": "display_data"
    }
   ],
   "source": [
    "fig_v = plt.figure(figsize=(10,10))\n",
    "ax_v  = fig_v.add_subplot(1,1,1,projection='polar') \n",
    "current_shading = 'flat'\n",
    "#ax_v.pcolormesh(angs,radial_bin,W,cmap=cmap.jet,vmin=-30,vmax=-25,shading='gouraud')\n",
    "#ax_v.contour(ang_bin*np.pi/180.0,radial_bin,W,7,colors='k')\n",
    "ax_v.pcolormesh(ang_bin*np.pi/180,radial_bin,W,cmap=cmap.jet,vmin=-29.5,vmax=-25,shading=current_shading)\n",
    "\n",
    "print dist_munge[chosen_stride]['epochs'][time_label]"
   ]
  },
  {
   "cell_type": "code",
   "execution_count": null,
   "metadata": {
    "collapsed": true
   },
   "outputs": [],
   "source": []
  },
  {
   "cell_type": "code",
   "execution_count": null,
   "metadata": {
    "collapsed": true
   },
   "outputs": [],
   "source": []
  },
  {
   "cell_type": "code",
   "execution_count": null,
   "metadata": {
    "collapsed": true
   },
   "outputs": [],
   "source": []
  },
  {
   "cell_type": "code",
   "execution_count": null,
   "metadata": {
    "collapsed": true
   },
   "outputs": [],
   "source": []
  },
  {
   "cell_type": "code",
   "execution_count": null,
   "metadata": {
    "collapsed": true
   },
   "outputs": [],
   "source": []
  },
  {
   "cell_type": "code",
   "execution_count": null,
   "metadata": {
    "collapsed": true
   },
   "outputs": [],
   "source": []
  },
  {
   "cell_type": "code",
   "execution_count": null,
   "metadata": {
    "collapsed": true
   },
   "outputs": [],
   "source": []
  },
  {
   "cell_type": "code",
   "execution_count": null,
   "metadata": {
    "collapsed": true
   },
   "outputs": [],
   "source": []
  },
  {
   "cell_type": "code",
   "execution_count": null,
   "metadata": {
    "collapsed": true
   },
   "outputs": [],
   "source": []
  },
  {
   "cell_type": "code",
   "execution_count": null,
   "metadata": {
    "collapsed": true
   },
   "outputs": [],
   "source": []
  },
  {
   "cell_type": "code",
   "execution_count": null,
   "metadata": {
    "collapsed": true
   },
   "outputs": [],
   "source": []
  },
  {
   "cell_type": "code",
   "execution_count": null,
   "metadata": {
    "collapsed": true
   },
   "outputs": [],
   "source": []
  }
 ],
 "metadata": {
  "kernelspec": {
   "display_name": "Python 2",
   "language": "python",
   "name": "python2"
  },
  "language_info": {
   "codemirror_mode": {
    "name": "ipython",
    "version": 2
   },
   "file_extension": ".py",
   "mimetype": "text/x-python",
   "name": "python",
   "nbconvert_exporter": "python",
   "pygments_lexer": "ipython2",
   "version": "2.7.14"
  }
 },
 "nbformat": 4,
 "nbformat_minor": 2
}
