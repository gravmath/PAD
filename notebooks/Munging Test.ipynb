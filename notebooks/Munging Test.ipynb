{
 "cells": [
  {
   "cell_type": "code",
   "execution_count": 9,
   "metadata": {
    "collapsed": true
   },
   "outputs": [],
   "source": [
    "#study data\n",
    "obs     = 'mms1'\n",
    "year    = '2017'\n",
    "month   = '06'\n",
    "day     = '08'\n",
    "basedir = '/fpiprd1/fpishare/Conrad/Yuggoth/'\n",
    "#basedir = 'c:/Yuggoth/'"
   ]
  },
  {
   "cell_type": "code",
   "execution_count": 10,
   "metadata": {
    "collapsed": true
   },
   "outputs": [],
   "source": [
    "sys.path.append('c:/Users/Conrad/Documents/GitHub/PAD/src/')\n",
    "sys.path.append('/home/cschiff/PAD/src/')\n",
    "import Burst_Munger as munge\n",
    "import Grapher\n",
    "import PAD"
   ]
  },
  {
   "cell_type": "code",
   "execution_count": 74,
   "metadata": {
    "collapsed": true
   },
   "outputs": [],
   "source": [
    "###############################################################################\n",
    "###############################################################################\n",
    "################     Time sampling interpolation    ###########################\n",
    "###############################################################################\n",
    "###############################################################################\n",
    "# The idea here is to take two signals like the following:\n",
    "#\n",
    "# epoch   0123456789012345678901234567890123456789012345678901234567890\n",
    "#                  1         2         3         4         5         6\n",
    "# sample1       x  x  x  x  x  x  x  x  x  x  x  x  x  x  x  x  x  x  x\n",
    "# sample2     o     o     o     o     o     o     o     o     o     o\n",
    "#\n",
    "# and to estimate the value of the x's at the time that the o's \n",
    "# occurred, taking into account that the x's may not be available \n",
    "# when the o's need them.  In other words, the o-signal is the \n",
    "# subscriber and the x-signal is the provider; the request is one-way.  \n",
    "#\n",
    "# Despite the way it looks above, generally the o- and x-signals \n",
    "# will have no points in common.  The estimated value for the x-signal \n",
    "# will be refered to as the x'-signal (or xp in the code)\n",
    "#\n",
    "# The requirements are:\n",
    "#\n",
    "# 1) The x- and o-signals will be held in numpy arrays with the \n",
    "# corresponding datetime objects in another numpy array.  The epoch \n",
    "# arrays are assumed to be the same length as the signals themselves \n",
    "# (i.e. from a properly formed CDF).\n",
    "#\n",
    "# 2) Find the knots in the x-signal that bracket the o-signal\n",
    "#     a) return the indices of the pair that bracket\n",
    "#     b) if a pair doesn't exist, flag the x'-signal as masked\n",
    "#    \n",
    "# 3) linearly interpolate between the bracketing values and \n",
    "# place the derived value into a numpy array of exactly the same \n",
    "# length as the o-signal and assume that the x'-signal shares the \n",
    "# same epoch array as the o-signal.\n",
    "#\n",
    "# Note that the masked array facility gives a nice way to handle things\n",
    "# since its length will be consistent with the o-signal even if the \n",
    "# mask prevents some of the points being used or plotted\n",
    "###############################################################################\n",
    "\n",
    "###############################################################################\t\n",
    "#\n",
    "# bisect_epochs finds a set of epochs in one signal that bracket a target\n",
    "# epoch.  The indices for these bracketing points are returned.\n",
    "#\n",
    "###############################################################################\n",
    "def bisect_epochs(target_epoch,epochs):\n",
    "\n",
    "    #test to make sure that target_epoch falls within the epochs array\n",
    "    #if not send back identical indices (start or end)\n",
    "    if (target_epoch - epochs[0]).total_seconds() < 0.0:\n",
    "        return np.nan, np.nan\n",
    "    if (target_epoch - epochs[-1]).total_seconds() > 0.0:\n",
    "        return np.nan, np.nan\n",
    "    \n",
    "    #bisect to find bracketing points\n",
    "    low_index  = 0\n",
    "    high_index = len(epochs)\n",
    "    \n",
    "    old_trial_index = low_index\n",
    "    trial_index     = high_index\n",
    "    \n",
    "    counter = 0\n",
    "    while( abs(old_trial_index - trial_index) > 1 ):\n",
    "        old_trial_index = trial_index\n",
    "        trial_index     = np.int(np.floor((high_index+low_index)/2.0))\n",
    "        trial_epoch     = epochs[trial_index]\n",
    "        if (trial_epoch - target_epoch).total_seconds() < 0.0:\n",
    "            low_index  = trial_index\n",
    "        else:\n",
    "            high_index = trial_index\n",
    "        #print counter, low_index, high_index, trial_index\n",
    "        counter += 1\n",
    "\n",
    "    #a test for what may happen for an odd number of points \n",
    "    #in the epochs array - leaving the bracketing points equal\n",
    "    if(high_index == low_index):\n",
    "        #find out if the common epoch is above or below the target\n",
    "        if (epochs[high_index] - target_epoch).total_seconds() < 0.0:\n",
    "            high_index = high_index + 1\n",
    "        else:\n",
    "            low_index = low_index - 1\n",
    "\n",
    "    #a test for what may happen when the bracketing points differing by 2\n",
    "    #this happens when (high_index+low_index) is a multiple of 2\n",
    "    if(high_index - low_index > 1):\n",
    "        temp_index = high_index - 1\n",
    "        if (epochs[temp_index]-target_epoch).total_seconds() < 0.0:\n",
    "            #bring low up\n",
    "            low_index = low_index + 1\n",
    "        else:\n",
    "            high_index = high_index - 1\n",
    "            \n",
    "    return low_index, high_index\n",
    "    \n",
    "###############################################################################\t\n",
    "#\n",
    "# estimate_signal_to_sample returns the estimated value of the x-signal at \n",
    "# a specifed o-signal knot\n",
    "#\n",
    "###############################################################################    \n",
    "def estimate_signal_to_sample(o_epoch,x_epochs,x_values):\n",
    "    \n",
    "    #find the bracketing point\n",
    "    low_index, high_index = bisect_epochs(o_epoch,x_epochs)\n",
    "\n",
    "    #if the bracketing doesn't exist then return a nan\n",
    "    if np.isnan(low_index) and np.isnan(high_index):\n",
    "        return np.nan\n",
    "    \n",
    "    #if brackets exist, perform linear interpolation\n",
    "    if high_index-low_index > 1:\n",
    "        print '''Bracketing problem detected!!! info as follows:\n",
    "                 o_epoch:    %s\n",
    "                 low_index:  %s\n",
    "                 high_index: %s''' % (o_epoch, low_index, high_index)\n",
    "    delta_t = (x_epochs[high_index] - x_epochs[low_index]).total_seconds()\n",
    "    delta_x = x_values[high_index]  - x_values[low_index]\n",
    "    alpha   = (o_epoch - x_epochs[low_index]).total_seconds()\n",
    "    xp_val  = x_values[low_index] + alpha*delta_x/delta_t\n",
    "    \n",
    "    return xp_val    \n",
    "\n",
    "###############################################################################\t\n",
    "#\n",
    "# estimate_signal_to_signal returns the estimated value of the x-signal at \n",
    "# the o-signal knots\n",
    "#\n",
    "###############################################################################    \n",
    "def estimate_signal_to_signal(o_epochs,x_epochs,x_values):\n",
    "    num_o   = len(o_epochs)\n",
    "    est_sig = np.zeros(num_o)\n",
    "    for i in range(num_o):\n",
    "        est_sig[i] = estimate_signal_to_sample(o_epochs[i],x_epochs,x_values)\n",
    "        \n",
    "    return np.ma.masked_invalid(est_sig)"
   ]
  },
  {
   "cell_type": "code",
   "execution_count": 12,
   "metadata": {
    "collapsed": true
   },
   "outputs": [],
   "source": [
    "epoch_strings = ['20170608133933',\n",
    "                 '20170608134133',\n",
    "                 '20170608134403',\n",
    "                 '20170608134623',\n",
    "                 '20170608134853',\n",
    "                 '20170608135003',\n",
    "                 '20170608135133',\n",
    "                 '20170608135353',\n",
    "                 '20170608135623',\n",
    "                 '20170608135803',\n",
    "                 '20170608135943',\n",
    "                 '20170608140143',\n",
    "                 '20170608140353',\n",
    "                 '20170608140603',\n",
    "                 '20170608140813',\n",
    "                 '20170608141033',\n",
    "                 '20170608141243',\n",
    "                 '20170608141453',\n",
    "                 '20170608141703',\n",
    "                 '20170608141923',\n",
    "                 '20170608142133',\n",
    "                 '20170608142303',\n",
    "                 '20170608143333',\n",
    "                 '20170608143453']"
   ]
  },
  {
   "cell_type": "code",
   "execution_count": 13,
   "metadata": {
    "collapsed": true
   },
   "outputs": [],
   "source": [
    "munge.config_directories(basedir,obs,year,month,day)"
   ]
  },
  {
   "cell_type": "code",
   "execution_count": 14,
   "metadata": {},
   "outputs": [
    {
     "name": "stdout",
     "output_type": "stream",
     "text": [
      "* * * * * * * * * * * * * * * * * * * * * * * *\n"
     ]
    }
   ],
   "source": [
    "Be   = munge.munge_moms(epoch_strings,'des')"
   ]
  },
  {
   "cell_type": "code",
   "execution_count": 15,
   "metadata": {},
   "outputs": [
    {
     "name": "stdout",
     "output_type": "stream",
     "text": [
      "* * * * * * * * * * * * * * * * * * * * * * * *\n"
     ]
    }
   ],
   "source": [
    "Bi   = munge.munge_moms(epoch_strings,'dis')"
   ]
  },
  {
   "cell_type": "code",
   "execution_count": 16,
   "metadata": {},
   "outputs": [
    {
     "name": "stdout",
     "output_type": "stream",
     "text": [
      "* * * * * * * * * * * * * * * * * * * * * * * *\n"
     ]
    }
   ],
   "source": [
    "Bfgm = munge.munge_fgm(epoch_strings)"
   ]
  },
  {
   "cell_type": "code",
   "execution_count": 17,
   "metadata": {
    "collapsed": true
   },
   "outputs": [],
   "source": [
    "des_ergs = Be[0]['ergs'][0,:]\n",
    "dis_ergs = Bi[0]['ergs'][0,:]"
   ]
  },
  {
   "cell_type": "code",
   "execution_count": 18,
   "metadata": {
    "collapsed": true
   },
   "outputs": [],
   "source": [
    "bpsd_f = munge.bpsd_dir+'mms1_dsp_fast_l2_bpsd_20170608_v2.2.3.cdf'\n",
    "epsd_f = munge.epsd_dir+'mms1_dsp_fast_l2_epsd_20170608_v0.6.3.cdf'"
   ]
  },
  {
   "cell_type": "code",
   "execution_count": 19,
   "metadata": {},
   "outputs": [
    {
     "data": {
      "text/plain": [
       "'/fpiprd1/fpishare/Conrad/Yuggoth/mms1/dsp/fast/l2/bpsd/2017/06/'"
      ]
     },
     "execution_count": 19,
     "metadata": {},
     "output_type": "execute_result"
    }
   ],
   "source": [
    "munge.bpsd_dir"
   ]
  },
  {
   "cell_type": "code",
   "execution_count": 20,
   "metadata": {},
   "outputs": [
    {
     "name": "stderr",
     "output_type": "stream",
     "text": [
      "/fpiprd1/anaconda/fpi/anaconda2_4.4.0/lib/python2.7/site-packages/ipykernel/__main__.py:7: RuntimeWarning: divide by zero encountered in log10\n",
      "/fpiprd1/anaconda/fpi/anaconda2_4.4.0/lib/python2.7/site-packages/ipykernel/__main__.py:8: RuntimeWarning: divide by zero encountered in log10\n"
     ]
    }
   ],
   "source": [
    "bpsd       = pycdf.CDF(bpsd_f)\n",
    "epsd       = pycdf.CDF(epsd_f)\n",
    "bpsd_Epoch = np.asarray(bpsd['Epoch'])\n",
    "bpsd_freq  = np.asarray(bpsd['mms1_b_freq'][:])\n",
    "epsd_Epoch = np.asarray(epsd['Epoch'])\n",
    "epsd_freq  = np.asarray(epsd['mms1_e_freq'][:])\n",
    "bpsd_omni  = np.ma.masked_invalid(np.log10(np.asarray(bpsd['mms1_dsp_bpsd_omni_fast_l2']))).T\n",
    "epsd_omni  = np.ma.masked_invalid(np.log10(np.asarray(epsd['mms1_dsp_epsd_omni']))).T"
   ]
  },
  {
   "cell_type": "code",
   "execution_count": 21,
   "metadata": {
    "collapsed": true
   },
   "outputs": [],
   "source": [
    "bpsd.close()\n",
    "epsd.close()"
   ]
  },
  {
   "cell_type": "code",
   "execution_count": 77,
   "metadata": {},
   "outputs": [],
   "source": [
    "for i in range(len(Be)):\n",
    "    Be[i]['derived_fgm_mag'] = estimate_signal_to_signal(Be[i]['epochs'],\\\n",
    "                                                         Bfgm[i]['epochs'],\\\n",
    "                                                         Bfgm[i]['Bgsm'][:,3])  \n",
    "    Bi[i]['derived_fgm_mag'] = estimate_signal_to_signal(Bi[i]['epochs'],\\\n",
    "                                                         Bfgm[i]['epochs'],\\\n",
    "                                                         Bfgm[i]['Bgsm'][:,3])  \n",
    "    "
   ]
  },
  {
   "cell_type": "code",
   "execution_count": 85,
   "metadata": {},
   "outputs": [],
   "source": [
    "mu_0 = 4*np.pi*1e-7\n",
    "for i in range(len(Be)):\n",
    "    Be[i]['beta'] = Be[i]['trace_p']*2.0*mu_0/\\\n",
    "                    (Be[i]['derived_fgm_mag']*Be[i]['derived_fgm_mag']*1.0e-9)\n",
    "    Bi[i]['beta'] = Bi[i]['trace_p']*2.0*mu_0/\\\n",
    "                    (Bi[i]['derived_fgm_mag']*Bi[i]['derived_fgm_mag']*1.0e-9)"
   ]
  },
  {
   "cell_type": "code",
   "execution_count": 88,
   "metadata": {},
   "outputs": [
    {
     "name": "stdout",
     "output_type": "stream",
     "text": [
      "11.5441829162\n",
      "0.00781825\n",
      "0.147442628706\n",
      "0.147442626596\n"
     ]
    }
   ],
   "source": [
    "print Be[0]['derived_fgm_mag'][18]\n",
    "print Be[0]['trace_p'][18]\n",
    "print Be[0]['trace_p'][18]*2.0*mu_0/(Be[0]['derived_fgm_mag'][18]**2*1.0e-9)\n",
    "print Be[0]['beta'][18]"
   ]
  },
  {
   "cell_type": "code",
   "execution_count": 104,
   "metadata": {
    "collapsed": true
   },
   "outputs": [],
   "source": [
    "starttime = dt.datetime(2017,6,8,13,45,0)\n",
    "deltat = dt.timedelta(seconds=300)\n",
    "stoptime  = starttime + deltat\n",
    "#starttime = Bi[0]['epochs'][0]\n",
    "#deltat = dt.timedelta(seconds=120)\n",
    "#stoptime  = starttime + deltat\n",
    "#stoptime  = Bi[-1]['epochs'][-1]"
   ]
  },
  {
   "cell_type": "code",
   "execution_count": null,
   "metadata": {
    "scrolled": false
   },
   "outputs": [
    {
     "name": "stderr",
     "output_type": "stream",
     "text": [
      "/fpiprd1/anaconda/fpi/anaconda2_4.4.0/lib/python2.7/site-packages/ipykernel/__main__.py:52: RuntimeWarning: divide by zero encountered in log10\n",
      "/fpiprd1/anaconda/fpi/anaconda2_4.4.0/lib/python2.7/site-packages/ipykernel/__main__.py:56: RuntimeWarning: divide by zero encountered in log10\n"
     ]
    }
   ],
   "source": [
    "N = 9\n",
    "fig  = plt.figure(figsize=(16,N*4))\n",
    "ax1  = fig.add_subplot(N,1,1)               #mag field\n",
    "ax2  = fig.add_subplot(N,1,2,sharex=ax1)    #ion bulk v\n",
    "ax3  = fig.add_subplot(N,1,3,sharex=ax1)    #dis omni E-t spectrogram\n",
    "ax3a = fig.add_subplot(N,1,4,sharex=ax1)    #des omni E-t spectrogram\n",
    "ax4  = fig.add_subplot(N,1,5,sharex=ax1)    #bfield psd\n",
    "ax5  = fig.add_subplot(N,1,6,sharex=ax1)    #efield psd\n",
    "ax6  = fig.add_subplot(N,1,7,sharex=ax1)    #perp and par temperatures\n",
    "ax7  = fig.add_subplot(N,1,8,sharex=ax1)    #density\n",
    "ax8  = fig.add_subplot(N,1,9,sharex=ax1)    #plasma beta\n",
    "flag = 0\n",
    "imoms_min = 2\n",
    "imoms_max = 6\n",
    "emoms_min = 4\n",
    "emoms_max = 8\n",
    "for d in range(len(Be)):\n",
    "    if flag == 0:\n",
    "        ax1.plot(Bfgm[d]['epochs'],Bfgm[d]['Bgsm'][:,0],'b-',label='Bx')\n",
    "        ax1.plot(Bfgm[d]['epochs'],Bfgm[d]['Bgsm'][:,1],'g-',label='By')\n",
    "        ax1.plot(Bfgm[d]['epochs'],Bfgm[d]['Bgsm'][:,2],'r-',label='Bz')\n",
    "        ax1.plot(Bfgm[d]['epochs'],Bfgm[d]['Bgsm'][:,3],'k-',label='|B|')        \n",
    "        ax2.plot(Bi[d]['epochs'],Bi[d]['bulk_vs'][:,0],'b-',label='Vx')\n",
    "        ax2.plot(Bi[d]['epochs'],Bi[d]['bulk_vs'][:,1],'g-',label='Vy')\n",
    "        ax2.plot(Bi[d]['epochs'],Bi[d]['bulk_vs'][:,2],'r-',label='Vz')\n",
    "        ax6.plot(Bi[d]['epochs'],Bi[d]['T_par'],'k-',label='Ti_par')\n",
    "        ax6.plot(Bi[d]['epochs'],Bi[d]['T_perp'],'r-',label='Ti_perp')        \n",
    "        ax6.plot(Be[d]['epochs'],Be[d]['T_par'],'b-',label='Te_par')\n",
    "        ax6.plot(Be[d]['epochs'],Be[d]['T_perp'],'g-',label='Te_perp')  \n",
    "        ax7.plot(Bi[d]['epochs'],Bi[d]['num_den'],'r-',label='n_i')\n",
    "        ax7.plot(Be[d]['epochs'],Be[d]['num_den'],'k-',label='n_e')        \n",
    "        ax8.plot(Bi[d]['epochs'],Bi[d]['beta'],'r-',label='beta_i')\n",
    "        ax8.plot(Be[d]['epochs'],Be[d]['beta'],'k-',label='beta_e')        \n",
    "\n",
    "        flag = 1\n",
    "    else:\n",
    "        ax1.plot(Bfgm[d]['epochs'],Bfgm[d]['Bgsm'][:,0],'b-')\n",
    "        ax1.plot(Bfgm[d]['epochs'],Bfgm[d]['Bgsm'][:,1],'g-')\n",
    "        ax1.plot(Bfgm[d]['epochs'],Bfgm[d]['Bgsm'][:,2],'r-')\n",
    "        ax1.plot(Bfgm[d]['epochs'],Bfgm[d]['Bgsm'][:,3],'k-')        \n",
    "        ax2.plot(Bi[d]['epochs'],Bi[d]['bulk_vs'][:,0],'b-')\n",
    "        ax2.plot(Bi[d]['epochs'],Bi[d]['bulk_vs'][:,1],'g-')\n",
    "        ax2.plot(Bi[d]['epochs'],Bi[d]['bulk_vs'][:,2],'r-')\n",
    "        ax6.plot(Bi[d]['epochs'],Bi[d]['T_par'],'k-')\n",
    "        ax6.plot(Bi[d]['epochs'],Bi[d]['T_perp'],'r-')                \n",
    "        ax6.plot(Be[d]['epochs'],Be[d]['T_par'],'b-')\n",
    "        ax6.plot(Be[d]['epochs'],Be[d]['T_perp'],'g-')\n",
    "        ax7.plot(Bi[d]['epochs'],Bi[d]['num_den'],'r-')\n",
    "        ax7.plot(Be[d]['epochs'],Be[d]['num_den'],'k-')        \n",
    "        ax8.plot(Bi[d]['epochs'],Bi[d]['beta'],'r-')\n",
    "        ax8.plot(Be[d]['epochs'],Be[d]['beta'],'k-')        \n",
    "    cbpatch3 = ax3.pcolormesh(Bi[d]['epochs'],\\\n",
    "                              dis_ergs,\\\n",
    "                              np.ma.masked_invalid(np.log10(Bi[d]['omnis'].T)),\\\n",
    "                              cmap=cmap.jet,\\\n",
    "                              shading='gouraud',\n",
    "                              vmin = imoms_min,\n",
    "                              vmax = imoms_max)\n",
    "\n",
    "    cbpatch3a = ax3a.pcolormesh(Be[d]['epochs'],\\\n",
    "                              des_ergs,\\\n",
    "                              np.ma.masked_invalid(np.log10(Be[d]['omnis'].T)),\\\n",
    "                              cmap=cmap.jet,\\\n",
    "                              shading='gouraud',\n",
    "                              vmin = emoms_min,\n",
    "                              vmax = emoms_max)\n",
    "    \n",
    "#xmin,xmax = ax1.get_xlim()   \n",
    "\n",
    "cbpatch4 = ax4.pcolormesh(bpsd_Epoch,bpsd_freq,bpsd_omni,cmap=cmap.jet)\n",
    "cbpatch5 = ax5.pcolormesh(epsd_Epoch,epsd_freq,epsd_omni,cmap=cmap.jet)\n",
    "\n",
    "cb3ax  = fig.add_axes(Grapher.cbar_position(ax3,0.01,0.01))\n",
    "cb3aax = fig.add_axes(Grapher.cbar_position(ax3a,0.01,0.01))\n",
    "cb4ax  = fig.add_axes(Grapher.cbar_position(ax4,0.01,0.01))\n",
    "cb5ax  = fig.add_axes(Grapher.cbar_position(ax5,0.01,0.01))\n",
    "\n",
    "fig.colorbar(cbpatch3,cax=cb3ax,ticks=np.array(range(imoms_min,imoms_max+1)),format=ticker.FormatStrFormatter('$10^{%d}$'))\n",
    "fig.colorbar(cbpatch3a,cax=cb3aax,ticks=np.array(range(emoms_min,emoms_max+1)),format=ticker.FormatStrFormatter('$10^{%d}$'))\n",
    "fig.colorbar(cbpatch4,cax=cb4ax,format=ticker.FormatStrFormatter('$10^{%d}$'))\n",
    "fig.colorbar(cbpatch5,cax=cb5ax,format=ticker.FormatStrFormatter('$10^{%d}$'))\n",
    "\n",
    "ax1.set_ylabel('Magnetic Field (nT)\\n GSM FGM',fontsize=16)\n",
    "ax1.legend(fontsize=18)    \n",
    "\n",
    "ax2.set_ylabel('Ion Bulk Velocity (km/s)\\n GSE',fontsize=16)\n",
    "ax2.legend(fontsize=18)    \n",
    "\n",
    "ax3.set_yscale('log')        \n",
    "ax3.set_ylabel('DIS Energy (eV)',fontsize=16)\n",
    "cb3ax.set_ylabel('keV/(cm^2 s sr keV)',fontsize=16)\n",
    "\n",
    "ax3a.set_yscale('log')        \n",
    "ax3a.set_ylabel('DES Energy (eV)',fontsize=16)\n",
    "cb3aax.set_ylabel('keV/(cm^2 s sr keV)',fontsize=16)\n",
    "\n",
    "ax4.set_yscale('log')\n",
    "ax4.set_ylim([bpsd_freq[0],bpsd_freq[-1]])\n",
    "ax4.set_xlabel('Epoch',fontsize=16)\n",
    "ax4.set_ylabel('Frequency (Hz)',fontsize=16)\n",
    "cb4ax.set_ylabel('(nT)^2/Hz',fontsize=16)\n",
    "#ax4.set_xlim([xmin,xmax])\n",
    "\n",
    "ax5.set_yscale('log')\n",
    "ax5.set_ylim([epsd_freq[0],epsd_freq[-1]])\n",
    "ax5.set_ylabel('Frequency (Hz)',fontsize=16)\n",
    "cb5ax.set_ylabel('(V/m)^2/Hz',fontsize=16)\n",
    "\n",
    "ax6.set_yscale('log')\n",
    "ax6.set_ylabel('Temperature (eV)',fontsize=16)\n",
    "ax6.legend(fontsize=18)    \n",
    "\n",
    "ax7.set_yscale('linear')\n",
    "ax7.set_ylabel('Number Density',fontsize=16)\n",
    "ax7.legend(fontsize=18)    \n",
    "\n",
    "ax8.set_yscale('log')\n",
    "ax8.set_ylabel('plasma beta',fontsize=16)\n",
    "ax8.legend(fontsize=18)    \n",
    "ax8.set_xlabel('Epoch',fontsize=16)\n",
    "\n",
    "ax1.set_xlim([mpl.dates.date2num(starttime),mpl.dates.date2num(stoptime)])\n",
    "\n",
    "plt.show()"
   ]
  },
  {
   "cell_type": "code",
   "execution_count": 103,
   "metadata": {
    "collapsed": true
   },
   "outputs": [],
   "source": [
    "fig.savefig('/fpishare/Conrad/Science/June_08_2017_leg1.png')"
   ]
  },
  {
   "cell_type": "code",
   "execution_count": null,
   "metadata": {
    "collapsed": true
   },
   "outputs": [],
   "source": []
  }
 ],
 "metadata": {
  "kernelspec": {
   "display_name": "Python [default]",
   "language": "python",
   "name": "python2"
  },
  "language_info": {
   "codemirror_mode": {
    "name": "ipython",
    "version": 2
   },
   "file_extension": ".py",
   "mimetype": "text/x-python",
   "name": "python",
   "nbconvert_exporter": "python",
   "pygments_lexer": "ipython2",
   "version": "2.7.13"
  }
 },
 "nbformat": 4,
 "nbformat_minor": 2
}
