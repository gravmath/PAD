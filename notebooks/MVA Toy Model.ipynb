{
 "cells": [
  {
   "cell_type": "code",
   "execution_count": 180,
   "metadata": {
    "collapsed": true
   },
   "outputs": [],
   "source": [
    "def ideal_current_sheet(pos):\n",
    "    z       = pos[2]\n",
    "    delta_2 = 0.1\n",
    "    B0      = 15.0\n",
    "    Bx      = 0.0\n",
    "    Bz      = 0.0\n",
    "    slope   = B0/delta_2\n",
    "        \n",
    "    if z < -delta_2:\n",
    "        By = B0\n",
    "    elif z > delta_2:\n",
    "        By = -B0\n",
    "    elif np.abs(z) <= delta_2:\n",
    "        By = -1.0*slope*z\n",
    "        \n",
    "    return [Bx,By,Bz]"
   ]
  },
  {
   "cell_type": "code",
   "execution_count": 189,
   "metadata": {
    "collapsed": true
   },
   "outputs": [],
   "source": [
    "def rotate_vector(psi,theta,phi,vec):\n",
    "    Tx = np.array([[1.0,0,0],[0,np.cos(psi),np.sin(psi)],[0,-np.sin(psi),np.cos(psi)]])\n",
    "    Ty = np.array([[np.cos(theta),0,-np.sin(theta)],[0,1.0,0],[np.sin(theta),0,np.cos(theta)]])\n",
    "    Tz = np.array([[np.cos(phi),np.sin(phi),0],[-np.sin(phi),np.cos(phi),0],[0,0,1]])\n",
    "    \n",
    "    Tot = Tz.dot(Ty.dot(Tx))\n",
    "    \n",
    "    return Tot.dot(vec)"
   ]
  },
  {
   "cell_type": "code",
   "execution_count": 181,
   "metadata": {
    "collapsed": true
   },
   "outputs": [],
   "source": [
    "def staight_up(t,vz):\n",
    "    return np.array([0,0,vz*t])"
   ]
  },
  {
   "cell_type": "code",
   "execution_count": 182,
   "metadata": {
    "collapsed": true
   },
   "outputs": [],
   "source": [
    "def twisted_cubic(t):\n",
    "    return np.array([t,t*t,t*t*t])"
   ]
  },
  {
   "cell_type": "code",
   "execution_count": 183,
   "metadata": {
    "collapsed": true
   },
   "outputs": [],
   "source": [
    "def MVA_cov(B):\n",
    "    Bx = B[:,0]\n",
    "    By = B[:,1]\n",
    "    Bz = B[:,2]\n",
    "    \n",
    "    Cov_xx = np.mean(Bx*Bx) - np.mean(Bx)*np.mean(Bx)\n",
    "    Cov_xy = np.mean(Bx*By) - np.mean(Bx)*np.mean(By)\n",
    "    Cov_xz = np.mean(Bx*Bz) - np.mean(Bx)*np.mean(Bz)\n",
    "    Cov_yy = np.mean(By*By) - np.mean(By)*np.mean(By)\n",
    "    Cov_yz = np.mean(By*Bz) - np.mean(By)*np.mean(Bz)\n",
    "    Cov_zz = np.mean(Bz*Bz) - np.mean(Bz)*np.mean(Bz)\n",
    "    \n",
    "    return np.asarray([[Cov_xx,Cov_xy,Cov_xz],[Cov_xy,Cov_yy,Cov_yz],[Cov_xz,Cov_yz,Cov_zz]])"
   ]
  },
  {
   "cell_type": "code",
   "execution_count": 184,
   "metadata": {
    "collapsed": true
   },
   "outputs": [],
   "source": [
    "t = np.linspace(-2,2,100)"
   ]
  },
  {
   "cell_type": "code",
   "execution_count": 201,
   "metadata": {},
   "outputs": [],
   "source": [
    "psi   = np.pi/3.0\n",
    "theta = np.pi/7.0\n",
    "phi   = -np.pi/4.0\n",
    "B_tc = []\n",
    "B_su = []\n",
    "for instant in t:\n",
    "    B_tc.append(rotate_vector(psi,theta,phi,ideal_current_sheet(twisted_cubic(instant))))\n",
    "    B_su.append(rotate_vector(psi,theta,phi,ideal_current_sheet(staight_up(instant,0.15))))\n",
    "B_tc = np.asarray(B_tc)\n",
    "B_su = np.asarray(B_su)"
   ]
  },
  {
   "cell_type": "code",
   "execution_count": 202,
   "metadata": {},
   "outputs": [
    {
     "data": {
      "text/plain": [
       "[<matplotlib.lines.Line2D at 0xe0759b0>]"
      ]
     },
     "execution_count": 202,
     "metadata": {},
     "output_type": "execute_result"
    },
    {
     "data": {
      "image/png": "[encoded data removed]",
      "text/plain": [
       "<matplotlib.figure.Figure at 0xdcc53c8>"
      ]
     },
     "metadata": {},
     "output_type": "display_data"
    }
   ],
   "source": [
    "plt.plot(t,B_tc[:,0],'r-')\n",
    "plt.plot(t,B_tc[:,1],'g-')\n",
    "plt.plot(t,B_tc[:,2],'b-')\n",
    "plt.plot(t,B_su[:,0],'r--')\n",
    "plt.plot(t,B_su[:,1],'g--')\n",
    "plt.plot(t,B_su[:,2],'b--')"
   ]
  },
  {
   "cell_type": "code",
   "execution_count": 203,
   "metadata": {},
   "outputs": [
    {
     "data": {
      "text/plain": [
       "array([[   1.39605715,   -9.84020777,   12.39873517],\n",
       "       [  -9.84020777,   69.35940207,  -87.39336389],\n",
       "       [  12.39873517,  -87.39336389,  110.11629028]])"
      ]
     },
     "execution_count": 203,
     "metadata": {},
     "output_type": "execute_result"
    }
   ],
   "source": [
    "MVA_cov(B_tc)"
   ]
  },
  {
   "cell_type": "code",
   "execution_count": 204,
   "metadata": {},
   "outputs": [
    {
     "data": {
      "text/plain": [
       "array([[   1.35494618,   -9.55043422,   12.03361834],\n",
       "       [  -9.55043422,   67.31691266,  -84.819812  ],\n",
       "       [  12.03361834,  -84.819812  ,  106.87359571]])"
      ]
     },
     "execution_count": 204,
     "metadata": {},
     "output_type": "execute_result"
    }
   ],
   "source": [
    "MVA_cov(B_su)"
   ]
  },
  {
   "cell_type": "code",
   "execution_count": 205,
   "metadata": {},
   "outputs": [
    {
     "data": {
      "text/plain": [
       "(array([  0.00000000e+00,   1.80871749e+02,  -2.08649962e-14]),\n",
       " array([[-0.99613328, -0.08785495, -0.00471863],\n",
       "        [-0.05461552,  0.61925183,  0.7830232 ],\n",
       "        [ 0.06881596, -0.78026193,  0.6219746 ]]))"
      ]
     },
     "execution_count": 205,
     "metadata": {},
     "output_type": "execute_result"
    }
   ],
   "source": [
    "np.linalg.eig(MVA_cov(B_tc))"
   ]
  },
  {
   "cell_type": "code",
   "execution_count": 206,
   "metadata": {},
   "outputs": [
    {
     "data": {
      "text/plain": [
       "(array([  0.00000000e+00,   1.75545455e+02,   1.85096352e-14]),\n",
       " array([[-0.99613328, -0.08785495, -0.07198812],\n",
       "        [-0.05461552,  0.61925183,  0.77729568],\n",
       "        [ 0.06881596, -0.78026193,  0.62500331]]))"
      ]
     },
     "execution_count": 206,
     "metadata": {},
     "output_type": "execute_result"
    }
   ],
   "source": [
    "np.linalg.eig(MVA_cov(B_su))"
   ]
  },
  {
   "cell_type": "code",
   "execution_count": null,
   "metadata": {
    "collapsed": true
   },
   "outputs": [],
   "source": []
  },
  {
   "cell_type": "code",
   "execution_count": null,
   "metadata": {
    "collapsed": true
   },
   "outputs": [],
   "source": []
  }
 ],
 "metadata": {
  "kernelspec": {
   "display_name": "Python 2",
   "language": "python",
   "name": "python2"
  },
  "language_info": {
   "codemirror_mode": {
    "name": "ipython",
    "version": 2
   },
   "file_extension": ".py",
   "mimetype": "text/x-python",
   "name": "python",
   "nbconvert_exporter": "python",
   "pygments_lexer": "ipython2",
   "version": "2.7.14"
  }
 },
 "nbformat": 4,
 "nbformat_minor": 2
}
