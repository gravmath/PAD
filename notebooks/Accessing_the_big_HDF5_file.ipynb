{
 "cells": [
  {
   "cell_type": "code",
   "execution_count": 18,
   "metadata": {
    "collapsed": true
   },
   "outputs": [],
   "source": [
    "import h5py\n",
    "import gc\n",
    "import matplotlib.cm as cm"
   ]
  },
  {
   "cell_type": "code",
   "execution_count": 2,
   "metadata": {
    "collapsed": true
   },
   "outputs": [],
   "source": [
    "database = h5py.File('/fpishare/DanieldaSilva/jason_current/current_data_for_idl_v5.h5')"
   ]
  },
  {
   "cell_type": "code",
   "execution_count": 3,
   "metadata": {
    "collapsed": true
   },
   "outputs": [],
   "source": [
    "ne   = np.asarray(database['des_n'])\n",
    "bx   = np.asarray(database['des_bx'])\n",
    "by   = np.asarray(database['des_by'])\n",
    "bz   = np.asarray(database['des_bz'])\n",
    "#gsex = np.asarray(database['mec_gse_x'])\n",
    "#gsey = np.asarray(database['mec_gse_y'])"
   ]
  },
  {
   "cell_type": "markdown",
   "metadata": {},
   "source": [
    "class Node(object):\n",
    "    def set_next(self, n):\n",
    "        self.next = n\n",
    "        \n",
    "cur = Node()\n",
    "first = cur\n",
    "\n",
    "for i in range(int(50e6)):\n",
    "    tmp = Node()\n",
    "    cur.next  = tmp\n",
    "    cur = tmp\n",
    "    \n",
    "tmp.next = first"
   ]
  },
  {
   "cell_type": "markdown",
   "metadata": {},
   "source": [
    "del cur\n",
    "del first\n",
    "del tmp"
   ]
  },
  {
   "cell_type": "markdown",
   "metadata": {},
   "source": [
    "gc.collect()"
   ]
  },
  {
   "cell_type": "code",
   "execution_count": 4,
   "metadata": {},
   "outputs": [
    {
     "data": {
      "text/plain": [
       "[u'Jmag',\n",
       " u'Jpara',\n",
       " u'Jperp1',\n",
       " u'Jperp2',\n",
       " u'Jperp_mag',\n",
       " u'Jx',\n",
       " u'Jy',\n",
       " u'Jz',\n",
       " u'des_Pxx',\n",
       " u'des_Pxy',\n",
       " u'des_Pxz',\n",
       " u'des_Pyx',\n",
       " u'des_Pyy',\n",
       " u'des_Pyz',\n",
       " u'des_Pzx',\n",
       " u'des_Pzy',\n",
       " u'des_Pzz',\n",
       " u'des_T',\n",
       " u'des_Tpara',\n",
       " u'des_Tperp',\n",
       " u'des_bx',\n",
       " u'des_by',\n",
       " u'des_bz',\n",
       " u'des_file',\n",
       " u'des_n',\n",
       " u'des_vx',\n",
       " u'des_vy',\n",
       " u'des_vz',\n",
       " u'dis_Pxy',\n",
       " u'dis_Pxz',\n",
       " u'dis_Pyx',\n",
       " u'dis_Pyy',\n",
       " u'dis_Pyz',\n",
       " u'dis_Pzx',\n",
       " u'dis_Pzy',\n",
       " u'dis_Pzz',\n",
       " u'dis_T',\n",
       " u'dis_Tpara',\n",
       " u'dis_Tperp',\n",
       " u'dis_bx',\n",
       " u'dis_by',\n",
       " u'dis_bz',\n",
       " u'dis_file',\n",
       " u'dis_n',\n",
       " u'dis_t',\n",
       " u'dis_vx',\n",
       " u'dis_vy',\n",
       " u'dis_vz',\n",
       " u'mec_gse_x',\n",
       " u'mec_gse_y',\n",
       " u'mec_gse_z',\n",
       " u'sc_num',\n",
       " u't']"
      ]
     },
     "execution_count": 4,
     "metadata": {},
     "output_type": "execute_result"
    }
   ],
   "source": [
    "database.keys()"
   ]
  },
  {
   "cell_type": "code",
   "execution_count": 5,
   "metadata": {},
   "outputs": [
    {
     "data": {
      "text/plain": [
       "(281500106,)"
      ]
     },
     "execution_count": 5,
     "metadata": {},
     "output_type": "execute_result"
    }
   ],
   "source": [
    "bx.shape"
   ]
  },
  {
   "cell_type": "code",
   "execution_count": 6,
   "metadata": {
    "collapsed": true
   },
   "outputs": [],
   "source": [
    "b = np.sqrt(bx**2 + by**2 + bz**2)"
   ]
  },
  {
   "cell_type": "code",
   "execution_count": 7,
   "metadata": {
    "collapsed": true
   },
   "outputs": [],
   "source": [
    "gt_one_indices = np.where(b>1.0)\n",
    "lt_one_indices = np.where(b<1.0)"
   ]
  },
  {
   "cell_type": "code",
   "execution_count": 8,
   "metadata": {},
   "outputs": [
    {
     "name": "stdout",
     "output_type": "stream",
     "text": [
      "0.94914634597\n",
      "0.0508536540302\n"
     ]
    }
   ],
   "source": [
    "print 1.0*gt_one_indices[0].shape[0]/b.shape[0]\n",
    "print 1.0*lt_one_indices[0].shape[0]/b.shape[0]"
   ]
  },
  {
   "cell_type": "code",
   "execution_count": 31,
   "metadata": {},
   "outputs": [
    {
     "data": {
      "text/plain": [
       "(14315309,)"
      ]
     },
     "execution_count": 31,
     "metadata": {},
     "output_type": "execute_result"
    }
   ],
   "source": [
    "lt_one_indices[0].shape"
   ]
  },
  {
   "cell_type": "code",
   "execution_count": 9,
   "metadata": {
    "collapsed": true
   },
   "outputs": [],
   "source": [
    "good_indices = np.logical_and(b>0.0,b<1.0)"
   ]
  },
  {
   "cell_type": "code",
   "execution_count": 10,
   "metadata": {},
   "outputs": [
    {
     "name": "stdout",
     "output_type": "stream",
     "text": [
      "<type 'numpy.ndarray'>\n",
      "(281500106,)\n",
      "(281500106,)\n"
     ]
    }
   ],
   "source": [
    "print type(good_indices)\n",
    "print good_indices.shape\n",
    "print b.shape"
   ]
  },
  {
   "cell_type": "code",
   "execution_count": 35,
   "metadata": {
    "collapsed": true
   },
   "outputs": [],
   "source": [
    "N        = 10000000\n",
    "my_slice = slice(0,N)\n",
    "BB       = b[my_slice]\n",
    "NN       = ne[my_slice]"
   ]
  },
  {
   "cell_type": "code",
   "execution_count": 36,
   "metadata": {},
   "outputs": [
    {
     "data": {
      "text/plain": [
       "(-0.1, 6)"
      ]
     },
     "execution_count": 36,
     "metadata": {},
     "output_type": "execute_result"
    },
    {
     "data": {
      "image/png": "[encoded data removed]",
      "text/plain": [
       "<matplotlib.figure.Figure at 0x7f7e137977d0>"
      ]
     },
     "metadata": {},
     "output_type": "display_data"
    }
   ],
   "source": [
    "plt.scatter(BB,NN,color='k',marker='.')\n",
    "plt.xlabel('|B| (nT)')\n",
    "plt.ylabel('ne (per cc)')\n",
    "plt.xlim([-0.1,6])"
   ]
  },
  {
   "cell_type": "code",
   "execution_count": 41,
   "metadata": {},
   "outputs": [
    {
     "name": "stdout",
     "output_type": "stream",
     "text": [
      "565491 9434509 0\n",
      "(10000000,)\n"
     ]
    }
   ],
   "source": [
    "gt_one = np.where(BB>1.0)\n",
    "lt_one = np.where(BB<1.0)\n",
    "print lt_one[0].shape[0], gt_one[0].shape[0], BB.shape[0] - lt_one[0].shape[0] - gt_one[0].shape[0]\n",
    "good_ones = np.logical_and(BB>=0.0,BB<1.0)\n",
    "print good_ones.shape"
   ]
  },
  {
   "cell_type": "code",
   "execution_count": null,
   "metadata": {},
   "outputs": [
    {
     "data": {
      "text/plain": [
       "<matplotlib.text.Text at 0x7f533731ab50>"
      ]
     },
     "execution_count": 13,
     "metadata": {},
     "output_type": "execute_result"
    }
   ],
   "source": [
    "plt.scatter(b[gt_one_indices],ne[gt_one_indices],color='k',marker='.')\n",
    "plt.xlabel('|B| (nT)')\n",
    "plt.ylabel('ne (per cc)')\n",
    "#plt.xlim([-0.1,2])"
   ]
  },
  {
   "cell_type": "code",
   "execution_count": 8,
   "metadata": {},
   "outputs": [
    {
     "data": {
      "text/plain": [
       "<matplotlib.collections.PathCollection at 0x7f34f2c68290>"
      ]
     },
     "execution_count": 8,
     "metadata": {},
     "output_type": "execute_result"
    },
    {
     "data": {
      "image/png": "[encoded data removed]",
      "text/plain": [
       "<matplotlib.figure.Figure at 0x7f370eef9e90>"
      ]
     },
     "metadata": {},
     "output_type": "display_data"
    }
   ],
   "source": [
    "plt.scatter(b,ne)"
   ]
  },
  {
   "cell_type": "code",
   "execution_count": 53,
   "metadata": {
    "collapsed": true
   },
   "outputs": [],
   "source": [
    "A = np.array([1,2,3,4,5,6,7,8,9,10])"
   ]
  },
  {
   "cell_type": "code",
   "execution_count": 54,
   "metadata": {},
   "outputs": [
    {
     "data": {
      "text/plain": [
       "array([False, False, False,  True,  True,  True,  True, False, False, False], dtype=bool)"
      ]
     },
     "execution_count": 54,
     "metadata": {},
     "output_type": "execute_result"
    }
   ],
   "source": [
    "np.logical_and(A>3,A<8)"
   ]
  },
  {
   "cell_type": "code",
   "execution_count": 12,
   "metadata": {},
   "outputs": [
    {
     "data": {
      "text/plain": [
       "(0, 100)"
      ]
     },
     "execution_count": 12,
     "metadata": {},
     "output_type": "execute_result"
    },
    {
     "data": {
      "image/png": "[encoded data removed]",
      "text/plain": [
       "<matplotlib.figure.Figure at 0x7f7f280ca5d0>"
      ]
     },
     "metadata": {},
     "output_type": "display_data"
    }
   ],
   "source": [
    "b_n, b_bins, b_patches = plt.hist(b,bins=range(1,101),normed=1,facecolor='g')\n",
    "plt.xlim([0,100])"
   ]
  },
  {
   "cell_type": "code",
   "execution_count": 13,
   "metadata": {},
   "outputs": [
    {
     "data": {
      "image/png": "[encoded data removed]",
      "text/plain": [
       "<matplotlib.figure.Figure at 0x7f7f283aacd0>"
      ]
     },
     "metadata": {},
     "output_type": "display_data"
    }
   ],
   "source": [
    "ne_n, ne_bins, ne_patches = plt.hist(ne,100,normed=1,facecolor='b')\n",
    "plt.xlim([0,100])\n",
    "plt.yscale('log')"
   ]
  },
  {
   "cell_type": "code",
   "execution_count": 25,
   "metadata": {},
   "outputs": [],
   "source": [
    "heatmap, xedges, yedges = np.histogram2d(b,ne,bins=100)"
   ]
  },
  {
   "cell_type": "code",
   "execution_count": 28,
   "metadata": {},
   "outputs": [
    {
     "data": {
      "text/plain": [
       "(0, 10)"
      ]
     },
     "execution_count": 28,
     "metadata": {},
     "output_type": "execute_result"
    },
    {
     "data": {
      "image/png": "[encoded data removed]",
      "text/plain": [
       "<matplotlib.figure.Figure at 0x7f7e13937390>"
      ]
     },
     "metadata": {},
     "output_type": "display_data"
    }
   ],
   "source": [
    "extent = [xedges[0],xedges[-1],yedges[0],yedges[-1]]\n",
    "plt.pcolormesh(heatmap.T,cmap=cm.hot)#,extent=extent,origin='lower')\n",
    "plt.xlim([0,20])\n",
    "plt.ylim([0,10])"
   ]
  },
  {
   "cell_type": "code",
   "execution_count": null,
   "metadata": {
    "collapsed": true
   },
   "outputs": [],
   "source": []
  }
 ],
 "metadata": {
  "kernelspec": {
   "display_name": "Python [conda root]",
   "language": "python",
   "name": "conda-root-py"
  },
  "language_info": {
   "codemirror_mode": {
    "name": "ipython",
    "version": 2
   },
   "file_extension": ".py",
   "mimetype": "text/x-python",
   "name": "python",
   "nbconvert_exporter": "python",
   "pygments_lexer": "ipython2",
   "version": "2.7.13"
  }
 },
 "nbformat": 4,
 "nbformat_minor": 2
}
