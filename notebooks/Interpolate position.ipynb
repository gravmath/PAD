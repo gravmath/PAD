{
 "cells": [
  {
   "cell_type": "code",
   "execution_count": 1,
   "metadata": {
    "collapsed": false
   },
   "outputs": [],
   "source": [
    "import matplotlib.dates as mdates\n",
    "import sqlite3\n",
    "sys.path.append('c:/users/cschiff/Documents/GitHub/PAD/')"
   ]
  },
  {
   "cell_type": "code",
   "execution_count": 54,
   "metadata": {
    "collapsed": true
   },
   "outputs": [],
   "source": [
    "def construct_interpolants(cursor,fpi_prd1,obs,mode,descriptor,year,month,day):\n",
    "    mquery = cursor.execute('Select ver, filename from mec_data where\\\n",
    "                                                obs        = \"%s\" and\\\n",
    "                                                mode       = \"%s\" and\\\n",
    "                                                descriptor = \"%s\" and\\\n",
    "                                                year       =  %s  and\\\n",
    "                                                month      =  %s  and\\\n",
    "                                                day        =  %s;' % \\\n",
    "                                         (obs,mode,descriptor,year,month,day))\n",
    "    \n",
    "    Re       = 6378.14\n",
    "    mresults = mquery.fetchall()\n",
    "    for mr in mresults:\n",
    "        MEC_file = fpi_prd1+mr[1]\n",
    "        MEC      = pycdf.CDF(MEC_file)\n",
    "        mt       = mdates.date2num(MEC['Epoch'])\n",
    "        mr_gsm   = np.asarray(MEC['%s_mec_r_gsm'%obs])/Re\n",
    "        MEC.close()\n",
    "        orbit_extent = np.max(np.abs(mr_gsm))\n",
    "        if orbit_extent < 50.0*Re:\n",
    "            x_gsm_spline = interp.splrep(mt,mr_gsm[:,0])\n",
    "            y_gsm_spline = interp.splrep(mt,mr_gsm[:,1])\n",
    "            z_gsm_spline = interp.splrep(mt,mr_gsm[:,2])\n",
    "            return x_gsm_spline, y_gsm_spline, z_gsm_spline\n",
    "\n",
    "    #if no MEC file works\n",
    "    return False, False, False"
   ]
  },
  {
   "cell_type": "markdown",
   "metadata": {},
   "source": [
    "# Open the connection to the database"
   ]
  },
  {
   "cell_type": "code",
   "execution_count": 2,
   "metadata": {
    "collapsed": true
   },
   "outputs": [],
   "source": [
    "sqlite_file = 'c:/users/cschiff/Documents/GitHub/PAD/instrument_data_db.sqlite'\n",
    "conn = sqlite3.connect(sqlite_file)\n",
    "cursor = conn.cursor()"
   ]
  },
  {
   "cell_type": "markdown",
   "metadata": {},
   "source": [
    "# Query the database"
   ]
  },
  {
   "cell_type": "markdown",
   "metadata": {},
   "source": [
    "## Pick an arbitrary date"
   ]
  },
  {
   "cell_type": "code",
   "execution_count": 55,
   "metadata": {
    "collapsed": true
   },
   "outputs": [],
   "source": [
    "obs        = 'mms1'\n",
    "year       = 2017\n",
    "month      = 5\n",
    "day        = 22"
   ]
  },
  {
   "cell_type": "code",
   "execution_count": 56,
   "metadata": {
    "collapsed": false
   },
   "outputs": [],
   "source": [
    "instrument = 'fpi'\n",
    "mode       = 'brst'\n",
    "descriptor = 'des-debug'\n",
    "ver        = '3.1.0'"
   ]
  },
  {
   "cell_type": "code",
   "execution_count": 57,
   "metadata": {
    "collapsed": false
   },
   "outputs": [],
   "source": [
    "fresult = cursor.execute('Select filename from fpi_data where\\\n",
    "                                                    obs        = \"%s\" and\\\n",
    "                                                    mode       = \"%s\" and\\\n",
    "                                                    descriptor = \"%s\" and\\\n",
    "                                                    year       =  %s  and\\\n",
    "                                                    month      =  %s  and\\\n",
    "                                                    day        =  %s;' % \n",
    "                                                    (obs,mode,descriptor,year,month,day))"
   ]
  },
  {
   "cell_type": "code",
   "execution_count": 58,
   "metadata": {
    "collapsed": true
   },
   "outputs": [],
   "source": [
    "dude = fresult.fetchall()"
   ]
  },
  {
   "cell_type": "code",
   "execution_count": 59,
   "metadata": {
    "collapsed": false
   },
   "outputs": [
    {
     "name": "stdout",
     "output_type": "stream",
     "text": [
      "mms1_fpi_brst_l2_des-debug_20170522014333_v3.1.0.cdf\n",
      "mms1_fpi_brst_l2_des-debug_20170522014523_v3.1.0.cdf\n",
      "mms1_fpi_brst_l2_des-debug_20170522014703_v3.1.0.cdf\n",
      "mms1_fpi_brst_l2_des-debug_20170522034453_v3.1.0.cdf\n",
      "mms1_fpi_brst_l2_des-debug_20170522034643_v3.1.0.cdf\n",
      "mms1_fpi_brst_l2_des-debug_20170522034823_v3.1.0.cdf\n",
      "mms1_fpi_brst_l2_des-debug_20170522081053_v3.1.0.cdf\n",
      "mms1_fpi_brst_l2_des-debug_20170522081243_v3.1.0.cdf\n",
      "mms1_fpi_brst_l2_des-debug_20170522081443_v3.1.0.cdf\n",
      "mms1_fpi_brst_l2_des-debug_20170522081633_v3.1.0.cdf\n",
      "mms1_fpi_brst_l2_des-debug_20170522081833_v3.1.0.cdf\n",
      "mms1_fpi_brst_l2_des-debug_20170522082033_v3.1.0.cdf\n",
      "mms1_fpi_brst_l2_des-debug_20170522082233_v3.1.0.cdf\n",
      "mms1_fpi_brst_l2_des-debug_20170522082433_v3.1.0.cdf\n",
      "mms1_fpi_brst_l2_des-debug_20170522082633_v3.1.0.cdf\n",
      "mms1_fpi_brst_l2_des-debug_20170522082823_v3.1.0.cdf\n",
      "mms1_fpi_brst_l2_des-debug_20170522083023_v3.1.0.cdf\n",
      "mms1_fpi_brst_l2_des-debug_20170522085033_v3.1.0.cdf\n",
      "mms1_fpi_brst_l2_des-debug_20170522085213_v3.1.0.cdf\n",
      "mms1_fpi_brst_l2_des-debug_20170522085423_v3.1.0.cdf\n",
      "mms1_fpi_brst_l2_des-debug_20170522090103_v3.1.0.cdf\n",
      "mms1_fpi_brst_l2_des-debug_20170522103933_v3.1.0.cdf\n",
      "mms1_fpi_brst_l2_des-debug_20170522122043_v3.1.0.cdf\n",
      "mms1_fpi_brst_l2_des-debug_20170522133643_v3.1.0.cdf\n",
      "mms1_fpi_brst_l2_des-debug_20170522133913_v3.1.0.cdf\n",
      "mms1_fpi_brst_l2_des-debug_20170522134143_v3.1.0.cdf\n",
      "mms1_fpi_brst_l2_des-debug_20170522134413_v3.1.0.cdf\n",
      "mms1_fpi_brst_l2_des-debug_20170522150123_v3.1.0.cdf\n",
      "mms1_fpi_brst_l2_des-debug_20170522151633_v3.1.0.cdf\n",
      "mms1_fpi_brst_l2_des-debug_20170522151823_v3.1.0.cdf\n",
      "mms1_fpi_brst_l2_des-debug_20170522152013_v3.1.0.cdf\n",
      "mms1_fpi_brst_l2_des-debug_20170522164603_v3.1.0.cdf\n",
      "mms1_fpi_brst_l2_des-debug_20170522164753_v3.1.0.cdf\n",
      "mms1_fpi_brst_l2_des-debug_20170522164953_v3.1.0.cdf\n",
      "mms1_fpi_brst_l2_des-debug_20170522180403_v3.1.0.cdf\n",
      "mms1_fpi_brst_l2_des-debug_20170522180723_v3.1.0.cdf\n",
      "mms1_fpi_brst_l2_des-debug_20170522180933_v3.1.0.cdf\n",
      "mms1_fpi_brst_l2_des-debug_20170522181513_v3.1.0.cdf\n",
      "mms1_fpi_brst_l2_des-debug_20170522181723_v3.1.0.cdf\n",
      "mms1_fpi_brst_l2_des-debug_20170522181943_v3.1.0.cdf\n",
      "mms1_fpi_brst_l2_des-debug_20170522182123_v3.1.0.cdf\n",
      "mms1_fpi_brst_l2_des-debug_20170522182313_v3.1.0.cdf\n",
      "mms1_fpi_brst_l2_des-debug_20170522193953_v3.1.0.cdf\n",
      "mms1_fpi_brst_l2_des-debug_20170522201213_v3.1.0.cdf\n",
      "mms1_fpi_brst_l2_des-debug_20170522214703_v3.1.0.cdf\n",
      "mms1_fpi_brst_l2_des-debug_20170522214853_v3.1.0.cdf\n",
      "mms1_fpi_brst_l2_des-debug_20170522215033_v3.1.0.cdf\n",
      "mms1_fpi_brst_l2_des-debug_20170522220223_v3.1.0.cdf\n",
      "mms1_fpi_brst_l2_des-debug_20170522220413_v3.1.0.cdf\n",
      "mms1_fpi_brst_l2_des-debug_20170522220603_v3.1.0.cdf\n"
     ]
    }
   ],
   "source": [
    "for d in dude:\n",
    "    print d[0].split('/')[-1]"
   ]
  },
  {
   "cell_type": "code",
   "execution_count": 60,
   "metadata": {
    "collapsed": true
   },
   "outputs": [],
   "source": [
    "fpi_prd1 = 'x:'"
   ]
  },
  {
   "cell_type": "code",
   "execution_count": 62,
   "metadata": {
    "collapsed": false
   },
   "outputs": [],
   "source": [
    "curr_epoch = mdates.date2num(dt.datetime(2017,5,22,8,10,0))"
   ]
  },
  {
   "cell_type": "code",
   "execution_count": 63,
   "metadata": {
    "collapsed": false
   },
   "outputs": [],
   "source": [
    "a,b,c = construct_interpolants(cursor,fpi_prd1,'mms1','srvy','ephts04d',year,month,day)"
   ]
  },
  {
   "cell_type": "code",
   "execution_count": 67,
   "metadata": {
    "collapsed": false
   },
   "outputs": [],
   "source": [
    "x_gsm = interp.splev(curr_epoch,a)\n",
    "y_gsm = interp.splev(curr_epoch,b)\n",
    "z_gsm = interp.splev(curr_epoch,c)"
   ]
  },
  {
   "cell_type": "code",
   "execution_count": 71,
   "metadata": {
    "collapsed": false
   },
   "outputs": [
    {
     "name": "stdout",
     "output_type": "stream",
     "text": [
      "-16.9\n",
      "-10.4\n",
      "1.4\n"
     ]
    }
   ],
   "source": [
    "print '%2.1f' % x_gsm\n",
    "print '%2.1f' % y_gsm\n",
    "print '%2.1f' % z_gsm"
   ]
  },
  {
   "cell_type": "code",
   "execution_count": null,
   "metadata": {
    "collapsed": true
   },
   "outputs": [],
   "source": []
  }
 ],
 "metadata": {
  "kernelspec": {
   "display_name": "Python 2",
   "language": "python",
   "name": "python2"
  },
  "language_info": {
   "codemirror_mode": {
    "name": "ipython",
    "version": 2
   },
   "file_extension": ".py",
   "mimetype": "text/x-python",
   "name": "python",
   "nbconvert_exporter": "python",
   "pygments_lexer": "ipython2",
   "version": "2.7.12"
  }
 },
 "nbformat": 4,
 "nbformat_minor": 0
}
