{
 "cells": [
  {
   "cell_type": "code",
   "execution_count": 1,
   "metadata": {
    "collapsed": true
   },
   "outputs": [],
   "source": [
    "import spacepy.pycdf as pycdf\n",
    "import sys\n",
    "sys.path.append('c:/users/cschiff/Documents/GitHub/PAD/')"
   ]
  },
  {
   "cell_type": "code",
   "execution_count": 2,
   "metadata": {
    "collapsed": true
   },
   "outputs": [],
   "source": [
    "import PAD\n",
    "import Grapher"
   ]
  },
  {
   "cell_type": "code",
   "execution_count": 24,
   "metadata": {
    "collapsed": true
   },
   "outputs": [],
   "source": [
    "debug_filename   = 'C:\\Yuggoth\\BBF\\mms1_fpi_brst_l2_des-debug_20160809092044_v3.1.1.cdf'.replace('\\\\','/')\n",
    "debug_i_filename = 'C:\\Yuggoth\\BBF\\mms1_fpi_brst_l2_dis-debug_20160809092044_v3.1.1.cdf'.replace('\\\\','/')\n",
    "dist_filename    = 'C:\\Yuggoth\\BBF\\mms1_fpi_brst_l2_des-dist_20160809092044_v3.1.1.cdf'.replace('\\\\','/')\n",
    "dist_i_filename  = 'C:\\Yuggoth\\BBF\\mms1_fpi_brst_l2_dis-dist_20160809092044_v3.1.1.cdf'.replace('\\\\','/')\n",
    "photo_filename   = 'C:\\Yuggoth\\Photoelectron Model\\mms_fpi_brst_l2_des-bgdist_v1.1.0_p0-2.cdf'.replace('\\\\','/')"
   ]
  },
  {
   "cell_type": "code",
   "execution_count": 25,
   "metadata": {
    "collapsed": false
   },
   "outputs": [],
   "source": [
    "cdf_dict       = {'debug'   : pycdf.CDF(debug_filename),\n",
    "                  'dist'    : pycdf.CDF(dist_filename),\n",
    "                  'photo'   : pycdf.CDF(photo_filename),\n",
    "                  'debug_i' : pycdf.CDF(debug_i_filename),\n",
    "                  'dist_i'  : pycdf.CDF(dist_i_filename)}\n",
    "obs            = 'mms1'\n",
    "mode           = 'brst'\n",
    "species        = 'des'\n",
    "ver            = 'ver3'\n",
    "corrections_on = 0"
   ]
  },
  {
   "cell_type": "code",
   "execution_count": 5,
   "metadata": {
    "collapsed": false
   },
   "outputs": [
    {
     "name": "stderr",
     "output_type": "stream",
     "text": [
      "PAD.py:306: RuntimeWarning: invalid value encountered in divide\n",
      "  counts                   = (dist['Dist']/dist['Err'])**2\n"
     ]
    }
   ],
   "source": [
    "core_data      = PAD.load_particle_data(cdf_dict,obs,mode,species,ver,corrections_on)"
   ]
  },
  {
   "cell_type": "code",
   "execution_count": 6,
   "metadata": {
    "collapsed": false
   },
   "outputs": [
    {
     "data": {
      "text/plain": [
       "['bfield', 'jN_err', 'jN', 'v_dirs', 'dist_data', 'counts', 'parms']"
      ]
     },
     "execution_count": 6,
     "metadata": {},
     "output_type": "execute_result"
    }
   ],
   "source": [
    "core_data.keys()"
   ]
  },
  {
   "cell_type": "markdown",
   "metadata": {},
   "source": [
    "A quick check on the pitch angles computed in PAD"
   ]
  },
  {
   "cell_type": "code",
   "execution_count": 7,
   "metadata": {
    "collapsed": false
   },
   "outputs": [],
   "source": [
    "my_phi  = core_data['parms']['Phi'][7,5]*np.pi/180.0"
   ]
  },
  {
   "cell_type": "code",
   "execution_count": 8,
   "metadata": {
    "collapsed": false
   },
   "outputs": [],
   "source": [
    "my_theta = core_data['parms']['Theta'][6]*np.pi/180.0"
   ]
  },
  {
   "cell_type": "code",
   "execution_count": 9,
   "metadata": {
    "collapsed": true
   },
   "outputs": [],
   "source": [
    "my_look = [sp.cos(my_phi)*sp.sin(my_theta),sp.sin(my_phi)*sp.sin(my_theta),sp.cos(my_theta)]"
   ]
  },
  {
   "cell_type": "code",
   "execution_count": 10,
   "metadata": {
    "collapsed": false
   },
   "outputs": [
    {
     "data": {
      "text/plain": [
       "[0.38349272289401076, 0.87673721127747861, 0.29028467725446233]"
      ]
     },
     "execution_count": 10,
     "metadata": {},
     "output_type": "execute_result"
    }
   ],
   "source": [
    "my_look"
   ]
  },
  {
   "cell_type": "code",
   "execution_count": 11,
   "metadata": {
    "collapsed": false
   },
   "outputs": [
    {
     "name": "stdout",
     "output_type": "stream",
     "text": [
      "[-0.38349272 -0.87673721 -0.29028468]\n",
      "[  1.11022302e-16  -1.11022302e-16   0.00000000e+00]\n"
     ]
    }
   ],
   "source": [
    "print core_data['v_dirs'][7,5,6]\n",
    "print core_data['v_dirs'][7,5,6] + my_look"
   ]
  },
  {
   "cell_type": "code",
   "execution_count": 12,
   "metadata": {
    "collapsed": false
   },
   "outputs": [],
   "source": [
    "num_time_steps = len(core_data['dist_data']['Epoch'])"
   ]
  },
  {
   "cell_type": "code",
   "execution_count": 13,
   "metadata": {
    "collapsed": false
   },
   "outputs": [],
   "source": [
    "time_interval_str = 'Burst Interval 08_09_2017 09_20_44'\n",
    "file_path         = 'c:/Users/cschiff/Documents/GitHub/PAD/'\n",
    "Elow              = 0\n",
    "Ehigh             = 31\n",
    "#for time_label \n",
    "time_label        = 0\n",
    "Grapher.create_raw_survey_PAD_plot(mode,time_label,Elow,Ehigh,time_interval_str,file_path,core_data)"
   ]
  },
  {
   "cell_type": "code",
   "execution_count": 14,
   "metadata": {
    "collapsed": false
   },
   "outputs": [
    {
     "data": {
      "text/plain": [
       "array([datetime.datetime(2016, 8, 9, 9, 20, 44, 11994),\n",
       "       datetime.datetime(2016, 8, 9, 9, 20, 44, 41994),\n",
       "       datetime.datetime(2016, 8, 9, 9, 20, 44, 71994), ...,\n",
       "       datetime.datetime(2016, 8, 9, 9, 21, 39, 932274),\n",
       "       datetime.datetime(2016, 8, 9, 9, 21, 39, 962274),\n",
       "       datetime.datetime(2016, 8, 9, 9, 21, 39, 992274)], dtype=object)"
      ]
     },
     "execution_count": 14,
     "metadata": {},
     "output_type": "execute_result"
    }
   ],
   "source": [
    "core_data['dist_data']['Epoch']"
   ]
  },
  {
   "cell_type": "code",
   "execution_count": 15,
   "metadata": {
    "collapsed": false
   },
   "outputs": [
    {
     "data": {
      "text/plain": [
       "datetime.datetime(2016, 8, 9, 9, 21, 39, 992274)"
      ]
     },
     "execution_count": 15,
     "metadata": {},
     "output_type": "execute_result"
    }
   ],
   "source": [
    "cdf_dict['debug']['Epoch'][-1]"
   ]
  },
  {
   "cell_type": "code",
   "execution_count": 16,
   "metadata": {
    "collapsed": false
   },
   "outputs": [
    {
     "name": "stdout",
     "output_type": "stream",
     "text": [
      "1867 1867\n"
     ]
    }
   ],
   "source": [
    "print len(cdf_dict['debug']['Epoch']), len(core_data['dist_data']['Epoch'])"
   ]
  },
  {
   "cell_type": "code",
   "execution_count": 17,
   "metadata": {
    "collapsed": false
   },
   "outputs": [
    {
     "name": "stderr",
     "output_type": "stream",
     "text": [
      "PAD.py:469: RuntimeWarning: divide by zero encountered in log10\n",
      "  omni            = np.ma.masked_invalid(np.log10(temp).T)\n",
      "PAD.py:471: RuntimeWarning: divide by zero encountered in log10\n",
      "  low             = np.ma.masked_invalid(np.log10(temp).T)\n",
      "PAD.py:473: RuntimeWarning: divide by zero encountered in log10\n",
      "  mid             = np.ma.masked_invalid(np.log10(temp).T)\n",
      "PAD.py:475: RuntimeWarning: divide by zero encountered in log10\n",
      "  high            = np.ma.masked_invalid(np.log10(temp).T)\n",
      "PAD.py:477: RuntimeWarning: divide by zero encountered in divide\n",
      "  ratio           = np.ma.masked_invalid(np.divide(par,anti))\n",
      "PAD.py:477: RuntimeWarning: invalid value encountered in divide\n",
      "  ratio           = np.ma.masked_invalid(np.divide(par,anti))\n",
      "PAD.py:478: RuntimeWarning: divide by zero encountered in log10\n",
      "  anti            = np.ma.masked_invalid(np.log10(anti))\n",
      "PAD.py:479: RuntimeWarning: divide by zero encountered in log10\n",
      "  par             = np.ma.masked_invalid(np.log10(par))\n",
      "PAD.py:480: RuntimeWarning: divide by zero encountered in log10\n",
      "  perp            = np.ma.masked_invalid(np.log10(perp))\n"
     ]
    }
   ],
   "source": [
    "moments_data = PAD.load_moments_data(obs,cdf_dict['debug'])"
   ]
  },
  {
   "cell_type": "code",
   "execution_count": 18,
   "metadata": {
    "collapsed": false
   },
   "outputs": [
    {
     "data": {
      "text/plain": [
       "<matplotlib.figure.Figure at 0x9c397f0>"
      ]
     },
     "metadata": {},
     "output_type": "display_data"
    }
   ],
   "source": [
    "Grapher.make_brst_summary_plot(obs,moments_data,0)"
   ]
  },
  {
   "cell_type": "code",
   "execution_count": 19,
   "metadata": {
    "collapsed": true
   },
   "outputs": [],
   "source": [
    "def make_brst_summary_plot(obs,moments_data,time_label):\n",
    "    \n",
    "    times    = moments_data['times']   \n",
    "    energies = moments_data['energies']\n",
    "    sc_pot   = moments_data['sc_pot']  \n",
    "    bx       = moments_data['bx']      \n",
    "    by       = moments_data['by']      \n",
    "    bz       = moments_data['bz']      \n",
    "    bnorm    = moments_data['bnorm']   \n",
    "    par      = moments_data['par']     \n",
    "    anti     = moments_data['anti']    \n",
    "    perp     = moments_data['perp']    \n",
    "    omni     = moments_data['omni']    \n",
    "    low      = moments_data['low']     \n",
    "    mid      = moments_data['mid']     \n",
    "    high     = moments_data['high']    \n",
    "    angles   = moments_data['angles']  \n",
    "    ratio    = moments_data['ratio']   \n",
    "    \n",
    "    BRST_time = dt.datetime.strftime(times[time_label],'%Y-%m-%d %H%M%S.%f')\n",
    "    \n",
    "    ###########################################################################\n",
    "    #create the figure and axes\n",
    "    fig = plt.figure(figsize=(32,20))\n",
    "    #fig.autofmt_xdate()\n",
    "    \n",
    "    cbar_off = 0.01\n",
    "    cbar_wth = 0.01\n",
    "    cmap.jet.set_bad('k',alpha=1.0)    \n",
    "    cmap.bwr.set_bad('k',alpha=1.0)    \n",
    "    \n",
    "    ###########################################################################\n",
    "    #0th pane - spectrogram\n",
    "    min_exp = 4\n",
    "    max_exp = 8\n",
    "    ax0     = fig.add_subplot(6,2,1)\n",
    "    \n",
    "    #plot the data\n",
    "    spec_data = ax0.pcolormesh(times,energies,omni,cmap=cmap.jet,vmin=max_exp,vmax=min_exp)\n",
    "    \n",
    "    #deal with epochs on the x-axis\n",
    "    time_format = mdates.DateFormatter('%H:%M:%S')\n",
    "    seconds     = mdates.SecondLocator(range(0,59),interval = 5,tz=None)\n",
    "    ax0.xaxis.set_major_locator(seconds)\n",
    "    ax0.xaxis.set_major_formatter(time_format)\n",
    "    ax0.set_xlabel('Time')\n",
    "    \n",
    "    #deal with the y-axis\n",
    "    ax0.set_yscale('log')\n",
    "    ax0.set_ylim([energies[0],energies[31]])\n",
    "    ax0.set_ylabel('Energy (eV)')\n",
    "    \n",
    "    #create the colorbar\n",
    "    log_cbar_span = np.array(range(min_exp,max_exp+1))\n",
    "    cb_ax0        = fig.add_axes(cbar_position(ax0,cbar_off,cbar_wth))\n",
    "    spec_cbar     = fig.colorbar(spec_data,cax=cb_ax0,ticks=log_cbar_span,format=ticker.FormatStrFormatter('$10^{%d}$'))\n",
    "    #cbar_span     = ['%1.0e' % val for val in 10.0**log_cbar_span]\n",
    "    #cb_ax0.set_yticklabels(cbar_span)\n",
    "    \n",
    "    #put on a title\n",
    "    ax0.set_title('%s on %s' % (obs.upper(),BRST_time))\n",
    "    \n",
    "    ax0.plot(times,sc_pot,'k-')\n",
    "    ax0.axvline(times[time_label],color = 'k')\n",
    "    \n",
    "    ###########################################################################\n",
    "    #1st pane - low energy PAD\n",
    "    min_exp = int(np.floor(np.min(low)))\n",
    "    max_exp = int(np.ceil(np.max(low)))\n",
    "    ax1 = fig.add_subplot(6,2,3)\n",
    "    \n",
    "    #plot the data\n",
    "    PAD_low_dat = ax1.pcolormesh(times,angles,low,cmap=cmap.bwr,vmin=min_exp,vmax=max_exp)\n",
    "    \n",
    "    #deal with epochs on the x-axis\n",
    "    time_format = mdates.DateFormatter('%H:%M:%S')\n",
    "    seconds     = mdates.SecondLocator(range(0,59),interval = 5,tz=None)\n",
    "    ax1.xaxis.set_major_locator(seconds)\n",
    "    ax1.xaxis.set_major_formatter(time_format)\n",
    "    ax1.set_xlabel('Time')\n",
    "    \n",
    "    #deal with the y-axis\n",
    "    ax1.set_yscale('linear')\n",
    "    ax1.set_ylim([0,180])\n",
    "    ax1.set_ylabel('Low Pitch Ang (deg)')\n",
    "    \n",
    "    #create the colorbar\n",
    "    log_cbar_span = np.array(range(min_exp,max_exp+1))\n",
    "    cb_ax1        = fig.add_axes(cbar_position(ax1,cbar_off,cbar_wth))\n",
    "    PAD_low_cbar  = fig.colorbar(PAD_low_dat,cax=cb_ax1,ticks=log_cbar_span,format=ticker.FormatStrFormatter('$10^{%d}$'))\n",
    "    ax1.axvline(times[time_label],color = 'k')\n",
    "\n",
    "     \n",
    "    ###########################################################################\n",
    "    #2nd pane - mid energy PAD\n",
    "    min_exp = int(np.floor(np.min(mid)))\n",
    "    max_exp = int(np.ceil(np.max(mid))) \n",
    "    ax2 = fig.add_subplot(6,2,5)\n",
    "    \n",
    "    #plot the data\n",
    "    PAD_mid_dat = ax2.pcolormesh(times,angles,mid,cmap=cmap.bwr)\n",
    "    \n",
    "    #deal with epochs on the x-axis\n",
    "    time_format = mdates.DateFormatter('%H:%M:%S')\n",
    "    seconds     = mdates.SecondLocator(range(0,59),interval = 5,tz=None)\n",
    "    ax2.xaxis.set_major_locator(seconds)\n",
    "    ax2.xaxis.set_major_formatter(time_format)\n",
    "    ax2.set_xlabel('Time')\n",
    "    \n",
    "    #deal with the y-axis\n",
    "    ax2.set_yscale('linear')\n",
    "    ax2.set_ylim([0,180])\n",
    "    ax2.set_ylabel('Mid Pitch Ang (deg)')\n",
    "    \n",
    "    #create the colorbar\n",
    "    log_cbar_span = np.array(range(min_exp,max_exp+1))\n",
    "    cb_ax2        = fig.add_axes(cbar_position(ax2,cbar_off,cbar_wth))\n",
    "    PAD_mid_cbar  = fig.colorbar(PAD_mid_dat,cax=cb_ax2,ticks=log_cbar_span,format=ticker.FormatStrFormatter('$10^{%d}$'))\n",
    "    ax2.axvline(times[time_label],color = 'k')\n",
    "    \n",
    "\n",
    "    ###########################################################################\n",
    "    #3rd pane - high energy PAD\n",
    "    min_exp = int(np.floor(np.min(high)))\n",
    "    max_exp = int(np.ceil(np.max(high))) \n",
    "    ax3 = fig.add_subplot(6,2,7)\n",
    "    \n",
    "    #plot the data\n",
    "    PAD_high_dat = ax3.pcolormesh(times,angles,high,cmap=cmap.bwr)\n",
    "    \n",
    "    #deal with epochs on the x-axis\n",
    "    time_format = mdates.DateFormatter('%H:%M:%S')\n",
    "    seconds     = mdates.SecondLocator(range(0,59),interval = 5,tz=None)\n",
    "    ax3.xaxis.set_major_locator(seconds)\n",
    "    ax3.xaxis.set_major_formatter(time_format)\n",
    "    ax3.set_xlabel('Time')\n",
    "    \n",
    "    #deal with the y-axis\n",
    "    ax3.set_yscale('linear')\n",
    "    ax3.set_ylim([0,180])\n",
    "    ax3.set_ylabel('Hi Pitch Ang (deg)')\n",
    "    \n",
    "    #create the colorbar\n",
    "    log_cbar_span = np.array(range(min_exp,max_exp+1))\n",
    "    cb_ax3        = fig.add_axes(cbar_position(ax3,cbar_off,cbar_wth))\n",
    "    PAD_high_cbar = fig.colorbar(PAD_high_dat,cax=cb_ax3,ticks=log_cbar_span,format=ticker.FormatStrFormatter('$10^{%d}$'))\n",
    "    ax3.axvline(times[time_label],color = 'k')\n",
    "\n",
    "    ###########################################################################\n",
    "    #4th pane - ratio of PADs\n",
    "    ax4 = fig.add_subplot(6,2,9)\n",
    "    \n",
    "    #plot the data\n",
    "    asym_data = ax4.pcolormesh(times,energies,ratio,cmap=cmap.bwr,vmin=0.6,vmax=1.4)\n",
    "    \n",
    "    #deal with epochs on the x-axis\n",
    "    time_format = mdates.DateFormatter('%H:%M:%S')\n",
    "    seconds     = mdates.SecondLocator(range(0,59),interval = 5,tz=None)\n",
    "    ax4.xaxis.set_major_locator(seconds)\n",
    "    ax4.xaxis.set_major_formatter(time_format)\n",
    "    ax4.set_xlabel('Time')\n",
    "   \n",
    "    #deal with the y-axis\n",
    "    ax4.set_yscale('log')\n",
    "    ax4.set_ylim([energies[0],energies[31]])\n",
    "    ax4.set_ylabel('Energy (eV)')\n",
    "    \n",
    "    #create the colorbar\n",
    "    cb_ax4          = fig.add_axes(cbar_position(ax4,cbar_off,cbar_wth))\n",
    "    asym_cbar       = fig.colorbar(asym_data,cax=cb_ax4)\n",
    "    ax4.axvline(times[time_label],color = 'k')    \n",
    "\n",
    "    ###########################################################################\n",
    "    #5th pane - mag field\n",
    "    ax5 = fig.add_subplot(6,2,11)\n",
    "    \n",
    "    #plot the data\n",
    "    ax5.plot(times,bx*bnorm,label='Bx')\n",
    "    ax5.plot(times,by*bnorm,label='By')\n",
    "    ax5.plot(times,bz*bnorm,label='Bz')\n",
    "    ax5.set_xlim([times[0],times[-1]])\n",
    "    \n",
    "    #deal with epochs on the x-axis\n",
    "    time_format = mdates.DateFormatter('%H:%M:%S')\n",
    "    seconds     = mdates.SecondLocator(range(0,59),interval = 5,tz=None)\n",
    "    ax5.xaxis.set_major_locator(seconds)\n",
    "    ax5.xaxis.set_major_formatter(time_format)\n",
    "    ax5.set_xlabel('Time')\n",
    "    \n",
    "    #deal with the y-axis\n",
    "    ax5.set_yscale('linear')\n",
    "    ax5.set_ylabel('Magnetic Field (nT)')\n",
    "    ax5.axvline(times[time_label],color = 'k')\n",
    "    \n",
    "    ax5.legend(bbox_to_anchor=[1.12,1.0])\n",
    "\n",
    "    ###########################################################################\n",
    "    #6th pane - energy spectra\n",
    "    ax6     = fig.add_subplot(6,2,2)\n",
    "    Q_par   = 10**(par[:,time_label])\n",
    "    Q_perp  = 10**(perp[:,time_label])\n",
    "    Q_anti  = 10**(anti[:,time_label])\n",
    "    \n",
    "    #plot the data\n",
    "    par_spec_data  = ax6.loglog(energies,Q_par,'ko-',label='Parallel')\n",
    "    perp_spec_data = ax6.loglog(energies,Q_perp,'gs-',label='Perpendicular')\n",
    "    anti_spec_data = ax6.loglog(energies,Q_anti,'r^-',label='Anti-Parallel')\n",
    "    \n",
    "    #x-axis\n",
    "    ax6.set_xlabel('Energy (eV)')\n",
    "    ax6.set_xlim([50.0,30.0e3])\n",
    "    \n",
    "    #deal with the y-axis\n",
    "    ax6.set_ylabel('PSD (cm^-6 s^-3)')\n",
    "    \n",
    "    ax6.legend(bbox_to_anchor=[1.12,1.0])\n",
    "       \n",
    "    ###########################################################################\n",
    "    #7th pane - perpendicular energy spectrum\n",
    "    #ax7     = fig.add_subplot(6,2,4)\n",
    "    \n",
    "    \n",
    "    ###########################################################################\n",
    "    #8th pane - anti-parallel energy spectrum\n",
    "    #ax8     = fig.add_subplot(6,2,6)\n",
    "    \n",
    "    \n",
    "    ###########################################################################\n",
    "    #9th pane - Differnential Counter-Streaming energy spectrum\n",
    "    ax9     = fig.add_subplot(6,2,8)\n",
    "    \n",
    "    #plot the data\n",
    "    ax9.semilogx(energies,Q_par - Q_anti,'b.-')\n",
    "    \n",
    "    #x-axis\n",
    "    ax9.set_xlabel('Energy (eV)')\n",
    "    ax9.set_xlim([50.0,30.0e3])    \n",
    "    \n",
    "    #deal with the y-axis\n",
    "    ax9.set_ylabel('Differential Counter-Streaming \\n PSD (cm^-6 s^-3)')\n",
    "    ax9.axhline(0,color='k')\n",
    "    ax9.grid('on')\n",
    "    \n",
    "    ###########################################################################\n",
    "    #10th pane - Relative Counter-Streaming energy spectrum\n",
    "    ax10     = fig.add_subplot(6,2,10)\n",
    "    \n",
    "    #plot the data\n",
    "    ax10.semilogx(energies,np.divide(Q_par,Q_anti),'b.-')\n",
    "    \n",
    "    #x-axis\n",
    "    ax10.set_xlabel('Energy (eV)')\n",
    "    ax10.set_xlim([50.0,30.0e3])\n",
    "    \n",
    "    #deal with the y-axis\n",
    "    ax10.set_ylabel('Relative Counter-Streaming\\n PSD (Par/Anti)')\n",
    "    ax10.set_ylim([0.2,1.8])\n",
    "    ax10.axhline(1,color='k')\n",
    "    ax10.grid('on')    \n",
    "    \n",
    "    \n",
    "    ###########################################################################\n",
    "    #save the file\n",
    "    \n",
    "    #fig.tight_layout()\n",
    "    filename = 'x:/fpishare/Conrad/PAD_plots/BRST_summary_%s_%s.png' % (obs,BRST_time)\n",
    "    fig.savefig(filename)\n",
    "    fig.clf()"
   ]
  },
  {
   "cell_type": "code",
   "execution_count": 25,
   "metadata": {
    "collapsed": false
   },
   "outputs": [
    {
     "name": "stdout",
     "output_type": "stream",
     "text": [
      "1983.49365234\n",
      "1716.23632812\n"
     ]
    }
   ],
   "source": [
    "print cdf_dict['debug']['mms1_des_temppara_brst'][0]\n",
    "print cdf_dict['debug']['mms1_des_tempperp_brst'][0]\n"
   ]
  },
  {
   "cell_type": "code",
   "execution_count": 28,
   "metadata": {
    "collapsed": false
   },
   "outputs": [
    {
     "name": "stdout",
     "output_type": "stream",
     "text": [
      "[[ 1949.08837891   -30.04393959   -62.63698959]\n",
      " [  -30.04393959  1716.03234863   119.22199249]\n",
      " [  -62.63698959   119.22199249  1750.84558105]]\n"
     ]
    }
   ],
   "source": [
    "print cdf_dict['debug']['mms1_des_temptensor_dbcs_brst'][0,:,:]"
   ]
  },
  {
   "cell_type": "code",
   "execution_count": 49,
   "metadata": {
    "collapsed": false
   },
   "outputs": [],
   "source": [
    "A = cdf_dict['debug']['mms1_des_temptensor_dbcs_brst'][0,:,:]"
   ]
  },
  {
   "cell_type": "code",
   "execution_count": 50,
   "metadata": {
    "collapsed": false
   },
   "outputs": [],
   "source": [
    "b = np.array([moments_data['bx'][0],moments_data['by'][0],moments_data['bz'][0]])"
   ]
  },
  {
   "cell_type": "code",
   "execution_count": 41,
   "metadata": {
    "collapsed": false
   },
   "outputs": [
    {
     "name": "stdout",
     "output_type": "stream",
     "text": [
      "[-0.92333835  0.19969317  0.32993561]\n"
     ]
    }
   ],
   "source": [
    "print b"
   ]
  },
  {
   "cell_type": "code",
   "execution_count": 42,
   "metadata": {
    "collapsed": false
   },
   "outputs": [
    {
     "data": {
      "text/plain": [
       "array([-1826.33374023,   409.75622559,   659.30926514], dtype=float32)"
      ]
     },
     "execution_count": 42,
     "metadata": {},
     "output_type": "execute_result"
    }
   ],
   "source": [
    "A.dot(b)"
   ]
  },
  {
   "cell_type": "code",
   "execution_count": 20,
   "metadata": {
    "collapsed": false
   },
   "outputs": [
    {
     "data": {
      "text/plain": [
       "['sc_pot',\n",
       " 'par',\n",
       " 'ratio',\n",
       " 'omni',\n",
       " 'energies',\n",
       " 'mid',\n",
       " 'bnorm',\n",
       " 'times',\n",
       " 'high',\n",
       " 'perp',\n",
       " 'anti',\n",
       " 'low',\n",
       " 'angles',\n",
       " 'bx',\n",
       " 'by',\n",
       " 'bz']"
      ]
     },
     "execution_count": 20,
     "metadata": {},
     "output_type": "execute_result"
    }
   ],
   "source": [
    "moments_data.keys()"
   ]
  },
  {
   "cell_type": "code",
   "execution_count": 22,
   "metadata": {
    "collapsed": false
   },
   "outputs": [
    {
     "data": {
      "text/plain": [
       "<CDF:\n",
       "Epoch: CDF_TIME_TT2000 [1867]\n",
       "Epoch_minus_var: CDF_REAL4 [] NRV\n",
       "Epoch_plus_var: CDF_REAL4 [] NRV\n",
       "mms1_des_alpha_brst: CDF_REAL4 [30] NRV\n",
       "mms1_des_alpha_delta_brst: CDF_REAL4 [30] NRV\n",
       "mms1_des_b_dmpa_brst: CDF_REAL4 [1867, 4]\n",
       "mms1_des_b_dmpa_srvy: CDF_REAL4 [1867, 4]\n",
       "mms1_des_b_gse_brst: CDF_REAL4 [1867, 4]\n",
       "mms1_des_b_gse_srvy: CDF_REAL4 [1867, 4]\n",
       "mms1_des_bentPipeB_Norm: CDF_REAL8 [1867]\n",
       "mms1_des_bentPipeB_X_DSC: CDF_REAL4 [1867]\n",
       "mms1_des_bentPipeB_Y_DSC: CDF_REAL4 [1867]\n",
       "mms1_des_bentPipeB_Z_DSC: CDF_REAL4 [1867]\n",
       "mms1_des_bulkv_dbcs_brst: CDF_REAL4 [1867, 3]\n",
       "mms1_des_bulkv_dbcs_label_brst: CDF_CHAR*7 [3] NRV\n",
       "mms1_des_bulkv_err_brst: CDF_REAL4 [1867, 3]\n",
       "mms1_des_bulkv_err_label_brst: CDF_CHAR*6 [3] NRV\n",
       "mms1_des_bulkv_gse_brst: CDF_REAL4 [1867, 3]\n",
       "mms1_des_bulkv_gse_label_brst: CDF_CHAR*6 [3] NRV\n",
       "mms1_des_bulkx_int: CDF_REAL4 [1867, 32]\n",
       "mms1_des_bulky_int: CDF_REAL4 [1867, 32]\n",
       "mms1_des_bulkz_int: CDF_REAL4 [1867, 32]\n",
       "mms1_des_cartrep_brst: CDF_CHAR*1 [3] NRV\n",
       "mms1_des_compressionloss_brst: CDF_UINT1 [1867]\n",
       "mms1_des_compressionstatus_brst: CDF_UINT2 [1867]\n",
       "mms1_des_densityextrapolation_high_brst: CDF_REAL4 [1867]\n",
       "mms1_des_densityextrapolation_low_brst: CDF_REAL4 [1867]\n",
       "mms1_des_energy_brst: CDF_REAL4 [1867, 32]\n",
       "mms1_des_energy_delta_brst: CDF_REAL4 [1867, 32]\n",
       "mms1_des_energyspectr_anti_brst: CDF_REAL4 [1867, 32]\n",
       "mms1_des_energyspectr_mx_brst: CDF_REAL4 [1867, 32]\n",
       "mms1_des_energyspectr_my_brst: CDF_REAL4 [1867, 32]\n",
       "mms1_des_energyspectr_mz_brst: CDF_REAL4 [1867, 32]\n",
       "mms1_des_energyspectr_omni_brst: CDF_REAL4 [1867, 32]\n",
       "mms1_des_energyspectr_par_brst: CDF_REAL4 [1867, 32]\n",
       "mms1_des_energyspectr_perp_brst: CDF_REAL4 [1867, 32]\n",
       "mms1_des_energyspectr_px_brst: CDF_REAL4 [1867, 32]\n",
       "mms1_des_energyspectr_py_brst: CDF_REAL4 [1867, 32]\n",
       "mms1_des_energyspectr_pz_brst: CDF_REAL4 [1867, 32]\n",
       "mms1_des_errorflags_brst: CDF_UINT4 [1867]\n",
       "mms1_des_heatq_dbcs_brst: CDF_REAL4 [1867, 3]\n",
       "mms1_des_heatq_dbcs_label_brst: CDF_CHAR*7 [3] NRV\n",
       "mms1_des_heatq_err_brst: CDF_REAL4 [1867, 3]\n",
       "mms1_des_heatq_err_label_brst: CDF_CHAR*6 [3] NRV\n",
       "mms1_des_heatq_gse_brst: CDF_REAL4 [1867, 3]\n",
       "mms1_des_heatq_gse_label_brst: CDF_CHAR*6 [3] NRV\n",
       "mms1_des_heatx_int: CDF_REAL4 [1867, 32]\n",
       "mms1_des_heaty_int: CDF_REAL4 [1867, 32]\n",
       "mms1_des_heatz_int: CDF_REAL4 [1867, 32]\n",
       "mms1_des_numberdensity_brst: CDF_REAL4 [1867]\n",
       "mms1_des_numberdensity_err_brst: CDF_REAL4 [1867]\n",
       "mms1_des_numberdensity_int: CDF_REAL4 [1867, 32]\n",
       "mms1_des_pitchangdist_highen_brst: CDF_REAL4 [1867, 30]\n",
       "mms1_des_pitchangdist_lowen_brst: CDF_REAL4 [1867, 30]\n",
       "mms1_des_pitchangdist_miden_brst: CDF_REAL4 [1867, 30]\n",
       "mms1_des_pos_gse: CDF_REAL4 [1867, 4]\n",
       "mms1_des_pos_gsm: CDF_REAL4 [1867, 4]\n",
       "mms1_des_prestensor_dbcs_brst: CDF_REAL4 [1867, 3, 3]\n",
       "mms1_des_prestensor_err_brst: CDF_REAL4 [1867, 3, 3]\n",
       "mms1_des_prestensor_gse_brst: CDF_REAL4 [1867, 3, 3]\n",
       "mms1_des_presxx_int: CDF_REAL4 [1867, 32]\n",
       "mms1_des_presxy_int: CDF_REAL4 [1867, 32]\n",
       "mms1_des_presxz_int: CDF_REAL4 [1867, 32]\n",
       "mms1_des_presyy_int: CDF_REAL4 [1867, 32]\n",
       "mms1_des_presyz_int: CDF_REAL4 [1867, 32]\n",
       "mms1_des_preszz_int: CDF_REAL4 [1867, 32]\n",
       "mms1_des_scpot_max_brst: CDF_REAL4 [1867]\n",
       "mms1_des_scpot_mean_brst: CDF_REAL4 [1867]\n",
       "mms1_des_sector_despinp_brst: CDF_UINT1 [1867]\n",
       "mms1_des_startdelphi_angle_brst: CDF_REAL4 [1867]\n",
       "mms1_des_startdelphi_count_brst: CDF_UINT2 [1867]\n",
       "mms1_des_steptable_parity_brst: CDF_UINT1 [1867]\n",
       "mms1_des_temppara_brst: CDF_REAL4 [1867]\n",
       "mms1_des_tempperp_brst: CDF_REAL4 [1867]\n",
       "mms1_des_temptensor_dbcs_brst: CDF_REAL4 [1867, 3, 3]\n",
       "mms1_des_temptensor_err_brst: CDF_REAL4 [1867, 3, 3]\n",
       "mms1_des_temptensor_gse_brst: CDF_REAL4 [1867, 3, 3]\n",
       "mms1_des_ugrid_int: CDF_REAL4 [1867, 32]\n",
       ">"
      ]
     },
     "execution_count": 22,
     "metadata": {},
     "output_type": "execute_result"
    }
   ],
   "source": [
    "cdf_dict['debug']"
   ]
  },
  {
   "cell_type": "code",
   "execution_count": 51,
   "metadata": {
    "collapsed": false
   },
   "outputs": [
    {
     "name": "stdout",
     "output_type": "stream",
     "text": [
      "[[ 1949.08837891   -30.04393959   -62.63698959]\n",
      " [  -30.04393959  1716.03234863   119.22199249]\n",
      " [  -62.63698959   119.22199249  1750.84558105]]\n"
     ]
    }
   ],
   "source": [
    "A"
   ]
  },
  {
   "cell_type": "code",
   "execution_count": 52,
   "metadata": {
    "collapsed": false
   },
   "outputs": [
    {
     "data": {
      "text/plain": [
       "5415.9663"
      ]
     },
     "execution_count": 52,
     "metadata": {},
     "output_type": "execute_result"
    }
   ],
   "source": [
    "A.trace()"
   ]
  },
  {
   "cell_type": "code",
   "execution_count": 53,
   "metadata": {
    "collapsed": false
   },
   "outputs": [
    {
     "data": {
      "text/plain": [
       "5415.9663"
      ]
     },
     "execution_count": 53,
     "metadata": {},
     "output_type": "execute_result"
    }
   ],
   "source": [
    "A[0,0]+A[1,1]+A[2,2]"
   ]
  },
  {
   "cell_type": "code",
   "execution_count": 65,
   "metadata": {
    "collapsed": false
   },
   "outputs": [],
   "source": [
    "Id = np.identity(3)"
   ]
  },
  {
   "cell_type": "code",
   "execution_count": 55,
   "metadata": {
    "collapsed": false
   },
   "outputs": [
    {
     "data": {
      "text/plain": [
       "1985.6792"
      ]
     },
     "execution_count": 55,
     "metadata": {},
     "output_type": "execute_result"
    }
   ],
   "source": [
    "b.T"
   ]
  },
  {
   "cell_type": "code",
   "execution_count": 58,
   "metadata": {
    "collapsed": true
   },
   "outputs": [],
   "source": [
    "p = np.array([[-1],[0],[1]])\n",
    "q = np.array([1,2,3])"
   ]
  },
  {
   "cell_type": "code",
   "execution_count": 59,
   "metadata": {
    "collapsed": false
   },
   "outputs": [
    {
     "name": "stdout",
     "output_type": "stream",
     "text": [
      "[[-1]\n",
      " [ 0]\n",
      " [ 1]]\n"
     ]
    }
   ],
   "source": [
    "print p"
   ]
  },
  {
   "cell_type": "code",
   "execution_count": 60,
   "metadata": {
    "collapsed": false
   },
   "outputs": [
    {
     "name": "stdout",
     "output_type": "stream",
     "text": [
      "[[-1  0  1]]\n"
     ]
    }
   ],
   "source": [
    "print p.T"
   ]
  },
  {
   "cell_type": "code",
   "execution_count": 62,
   "metadata": {
    "collapsed": false
   },
   "outputs": [
    {
     "data": {
      "text/plain": [
       "array([[ 1,  0, -1],\n",
       "       [ 0,  0,  0],\n",
       "       [-1,  0,  1]])"
      ]
     },
     "execution_count": 62,
     "metadata": {},
     "output_type": "execute_result"
    }
   ],
   "source": [
    "np.outer(p,p)"
   ]
  },
  {
   "cell_type": "code",
   "execution_count": 81,
   "metadata": {
    "collapsed": false
   },
   "outputs": [],
   "source": [
    "r1 = np.matmul(p.T,p)"
   ]
  },
  {
   "cell_type": "code",
   "execution_count": 64,
   "metadata": {
    "collapsed": false
   },
   "outputs": [
    {
     "data": {
      "text/plain": [
       "array([[ 1,  0, -1],\n",
       "       [ 0,  0,  0],\n",
       "       [-1,  0,  1]])"
      ]
     },
     "execution_count": 64,
     "metadata": {},
     "output_type": "execute_result"
    }
   ],
   "source": [
    "np.matmul(p,p.T)"
   ]
  },
  {
   "cell_type": "code",
   "execution_count": 76,
   "metadata": {
    "collapsed": false
   },
   "outputs": [],
   "source": [
    "proj = Id - np.outer(B,B)"
   ]
  },
  {
   "cell_type": "code",
   "execution_count": 77,
   "metadata": {
    "collapsed": false
   },
   "outputs": [],
   "source": [
    "A_perp = np.matmul(proj,A)"
   ]
  },
  {
   "cell_type": "code",
   "execution_count": 78,
   "metadata": {
    "collapsed": false
   },
   "outputs": [
    {
     "data": {
      "text/plain": [
       "(array([ -6.89272626e-05,   1.82081566e+03,   1.61202690e+03]),\n",
       " array([[-0.9252873 ,  0.37822612,  0.07408408],\n",
       "        [ 0.19166452,  0.63332631, -0.74771101],\n",
       "        [ 0.32727378,  0.67516131,  0.65987863]]))"
      ]
     },
     "execution_count": 78,
     "metadata": {},
     "output_type": "execute_result"
    }
   ],
   "source": [
    "np.linalg.eig(A_perp)"
   ]
  },
  {
   "cell_type": "code",
   "execution_count": 80,
   "metadata": {
    "collapsed": false
   },
   "outputs": [
    {
     "data": {
      "text/plain": [
       "array([  3.66207287e-08,  -4.55080862e-10,  -2.65940070e-09])"
      ]
     },
     "execution_count": 80,
     "metadata": {},
     "output_type": "execute_result"
    }
   ],
   "source": [
    "np.matmul(proj,B)"
   ]
  },
  {
   "cell_type": "code",
   "execution_count": 74,
   "metadata": {
    "collapsed": true
   },
   "outputs": [],
   "source": [
    "B = b/np.linalg.norm(b)"
   ]
  },
  {
   "cell_type": "code",
   "execution_count": 75,
   "metadata": {
    "collapsed": false
   },
   "outputs": [
    {
     "data": {
      "text/plain": [
       "array([-0.92274404,  0.19956464,  0.32972324], dtype=float32)"
      ]
     },
     "execution_count": 75,
     "metadata": {},
     "output_type": "execute_result"
    }
   ],
   "source": [
    "B"
   ]
  },
  {
   "cell_type": "code",
   "execution_count": 82,
   "metadata": {
    "collapsed": false
   },
   "outputs": [
    {
     "data": {
      "text/plain": [
       "numpy.ndarray"
      ]
     },
     "execution_count": 82,
     "metadata": {},
     "output_type": "execute_result"
    }
   ],
   "source": [
    "type(r1)"
   ]
  },
  {
   "cell_type": "code",
   "execution_count": 83,
   "metadata": {
    "collapsed": false
   },
   "outputs": [
    {
     "data": {
      "text/plain": [
       "(1L, 1L)"
      ]
     },
     "execution_count": 83,
     "metadata": {},
     "output_type": "execute_result"
    }
   ],
   "source": [
    "r1.shape"
   ]
  },
  {
   "cell_type": "code",
   "execution_count": 75,
   "metadata": {
    "collapsed": false
   },
   "outputs": [
    {
     "name": "stdout",
     "output_type": "stream",
     "text": [
      "122 24\n",
      "2016-08-09 09:20:47.672009\n",
      "2016-08-09 09:20:47.672009\n"
     ]
    }
   ],
   "source": [
    "N = 120+2\n",
    "print N, N/5\n",
    "print cdf_dict['debug_i']['Epoch'][N/5]\n",
    "print cdf_dict['debug']['Epoch'][N]"
   ]
  },
  {
   "cell_type": "code",
   "execution_count": 71,
   "metadata": {
    "collapsed": false
   },
   "outputs": [
    {
     "name": "stdout",
     "output_type": "stream",
     "text": [
      "[ 1026.99951172   217.38397217   432.2489624 ]\n",
      "[ 95.2798996    8.75296307 -44.4859314 ]\n"
     ]
    }
   ],
   "source": [
    "v_e = cdf_dict['debug']['mms1_des_bulkv_dbcs_brst'][N]\n",
    "v_i = cdf_dict['debug_i']['mms1_dis_bulkv_dbcs_brst'][N/5]\n",
    "print v_e\n",
    "print v_i"
   ]
  },
  {
   "cell_type": "code",
   "execution_count": 72,
   "metadata": {
    "collapsed": false
   },
   "outputs": [
    {
     "name": "stdout",
     "output_type": "stream",
     "text": [
      "0.106582894921\n",
      "0.282146900892\n"
     ]
    }
   ],
   "source": [
    "n_e = cdf_dict['debug']['mms1_des_numberdensity_brst'][N]\n",
    "n_i = cdf_dict['debug_i']['mms1_dis_numberdensity_brst'][N/5]\n",
    "print n_e\n",
    "print n_i"
   ]
  },
  {
   "cell_type": "code",
   "execution_count": 76,
   "metadata": {
    "collapsed": false
   },
   "outputs": [
    {
     "name": "stdout",
     "output_type": "stream",
     "text": [
      "[-262.88180542  -58.86459351 -134.50927734]\n"
     ]
    }
   ],
   "source": [
    "j = n_i*v_i - n_i*v_e\n",
    "print j"
   ]
  },
  {
   "cell_type": "code",
   "execution_count": 82,
   "metadata": {
    "collapsed": true
   },
   "outputs": [],
   "source": [
    "v_es = np.asarray(cdf_dict['debug']['mms1_des_bulkv_dbcs_brst'][:,0])\n",
    "v_is = np.asarray(cdf_dict['debug_i']['mms1_dis_bulkv_dbcs_brst'][:,0])"
   ]
  },
  {
   "cell_type": "code",
   "execution_count": 80,
   "metadata": {
    "collapsed": true
   },
   "outputs": [],
   "source": [
    "t_e = np.asarray(cdf_dict['debug']['Epoch'])\n",
    "t_i = np.asarray(cdf_dict['debug_i']['Epoch'])"
   ]
  },
  {
   "cell_type": "code",
   "execution_count": 83,
   "metadata": {
    "collapsed": false
   },
   "outputs": [
    {
     "data": {
      "text/plain": [
       "[<matplotlib.lines.Line2D at 0x9665630>]"
      ]
     },
     "execution_count": 83,
     "metadata": {},
     "output_type": "execute_result"
    },
    {
     "data": {
      "image/png": "[encoded data removed]",
      "text/plain": [
       "<matplotlib.figure.Figure at 0x9665f60>"
      ]
     },
     "metadata": {},
     "output_type": "display_data"
    }
   ],
   "source": [
    "plt.plot(t_e,v_es)\n",
    "plt.plot(t_i,v_is)"
   ]
  },
  {
   "cell_type": "code",
   "execution_count": 89,
   "metadata": {
    "collapsed": true
   },
   "outputs": [],
   "source": [
    "def SR_gamma(v):\n",
    "    c = 3.0e8\n",
    "    return np.sqrt(1.0 - v.dot(v)/c**2)"
   ]
  },
  {
   "cell_type": "code",
   "execution_count": 90,
   "metadata": {
    "collapsed": true
   },
   "outputs": [],
   "source": [
    "q = np.array([])\n",
    "for vx in np.logspace(1,2.9e8);\n",
    "    v = np.array([vx,0,0])"
   ]
  },
  {
   "cell_type": "code",
   "execution_count": 91,
   "metadata": {
    "collapsed": false
   },
   "outputs": [
    {
     "name": "stderr",
     "output_type": "stream",
     "text": [
      "C:\\Users\\cschiff\\AppData\\Local\\Continuum\\Anaconda2\\lib\\site-packages\\ipykernel\\__main__.py:3: RuntimeWarning: invalid value encountered in sqrt\n",
      "  app.launch_new_instance()\n"
     ]
    },
    {
     "data": {
      "text/plain": [
       "nan"
      ]
     },
     "execution_count": 91,
     "metadata": {},
     "output_type": "execute_result"
    }
   ],
   "source": [
    "SR_gamma(v)"
   ]
  },
  {
   "cell_type": "code",
   "execution_count": 93,
   "metadata": {
    "collapsed": false
   },
   "outputs": [
    {
     "data": {
      "text/plain": [
       "1135.2633"
      ]
     },
     "execution_count": 93,
     "metadata": {},
     "output_type": "execute_result"
    }
   ],
   "source": [
    "np.sqrt(v_e.dot(v_e))"
   ]
  },
  {
   "cell_type": "code",
   "execution_count": 94,
   "metadata": {
    "collapsed": false
   },
   "outputs": [
    {
     "data": {
      "text/plain": [
       "105.51716"
      ]
     },
     "execution_count": 94,
     "metadata": {},
     "output_type": "execute_result"
    }
   ],
   "source": [
    "np.sqrt(v_i.dot(v_i))"
   ]
  },
  {
   "cell_type": "code",
   "execution_count": null,
   "metadata": {
    "collapsed": true
   },
   "outputs": [],
   "source": []
  }
 ],
 "metadata": {
  "anaconda-cloud": {},
  "kernelspec": {
   "display_name": "Python 2",
   "language": "python",
   "name": "python2"
  },
  "language_info": {
   "codemirror_mode": {
    "name": "ipython",
    "version": 2
   },
   "file_extension": ".py",
   "mimetype": "text/x-python",
   "name": "python",
   "nbconvert_exporter": "python",
   "pygments_lexer": "ipython2",
   "version": "2.7.12"
  }
 },
 "nbformat": 4,
 "nbformat_minor": 0
}
