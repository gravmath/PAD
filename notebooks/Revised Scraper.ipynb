{
 "cells": [
  {
   "cell_type": "code",
   "execution_count": 1,
   "metadata": {},
   "outputs": [],
   "source": [
    "import sqlite3\n",
    "import Scraper"
   ]
  },
  {
   "cell_type": "markdown",
   "metadata": {},
   "source": [
    "# Open the connection to the database"
   ]
  },
  {
   "cell_type": "code",
   "execution_count": 6,
   "metadata": {
    "collapsed": true
   },
   "outputs": [],
   "source": [
    "conn.close()\n",
    "sqlite_file = '/home/cschiff/PAD/instrument_data_db.sqlite'\n",
    "conn = sqlite3.connect(sqlite_file)\n",
    "cursor = conn.cursor()"
   ]
  },
  {
   "cell_type": "markdown",
   "metadata": {
    "collapsed": true
   },
   "source": [
    "# Construct the database tables (just once)"
   ]
  },
  {
   "cell_type": "code",
   "execution_count": 3,
   "metadata": {},
   "outputs": [
    {
     "ename": "OperationalError",
     "evalue": "table fpi_data already exists",
     "output_type": "error",
     "traceback": [
      "\u001b[0;31m---------------------------------------------------------------------------\u001b[0m",
      "\u001b[0;31mOperationalError\u001b[0m                          Traceback (most recent call last)",
      "\u001b[0;32m<ipython-input-3-24682ea5967c>\u001b[0m in \u001b[0;36m<module>\u001b[0;34m()\u001b[0m\n\u001b[1;32m      7\u001b[0m     \u001b[0mFPI_table_command\u001b[0m \u001b[0;34m=\u001b[0m \u001b[0;34m'CREATE TABLE fpi_data %s;'\u001b[0m \u001b[0;34m%\u001b[0m \u001b[0mfield_names\u001b[0m\u001b[0;34m\u001b[0m\u001b[0m\n\u001b[1;32m      8\u001b[0m     \u001b[0mMEC_table_command\u001b[0m \u001b[0;34m=\u001b[0m \u001b[0;34m'CREATE TABLE mec_data %s;'\u001b[0m \u001b[0;34m%\u001b[0m \u001b[0mfield_names\u001b[0m\u001b[0;34m\u001b[0m\u001b[0m\n\u001b[0;32m----> 9\u001b[0;31m     \u001b[0mcursor\u001b[0m\u001b[0;34m.\u001b[0m\u001b[0mexecute\u001b[0m\u001b[0;34m(\u001b[0m\u001b[0mFPI_table_command\u001b[0m\u001b[0;34m)\u001b[0m\u001b[0;34m\u001b[0m\u001b[0m\n\u001b[0m\u001b[1;32m     10\u001b[0m     \u001b[0mcursor\u001b[0m\u001b[0;34m.\u001b[0m\u001b[0mexecute\u001b[0m\u001b[0;34m(\u001b[0m\u001b[0mMEC_table_command\u001b[0m\u001b[0;34m)\u001b[0m\u001b[0;34m\u001b[0m\u001b[0m\n\u001b[1;32m     11\u001b[0m     \u001b[0mconn\u001b[0m\u001b[0;34m.\u001b[0m\u001b[0mcommit\u001b[0m\u001b[0;34m(\u001b[0m\u001b[0;34m)\u001b[0m\u001b[0;34m\u001b[0m\u001b[0m\n",
      "\u001b[0;31mOperationalError\u001b[0m: table fpi_data already exists"
     ]
    }
   ],
   "source": [
    "create_tables = True\n",
    "if create_tables == True:\n",
    "    conn.close()  #close and re-open since delete is done in the browser\n",
    "    conn = sqlite3.connect(sqlite_file)\n",
    "    cursor = conn.cursor()\n",
    "    field_names = '(ID INTEGER PRIMARY KEY,\\\n",
    "                   obs         TEXT,\\\n",
    "                   instrument  TEXT,\\\n",
    "                   mode        TEXT,\\\n",
    "                   descriptor  TEXT,\\\n",
    "                   ver         TEXT,\\\n",
    "                   year        INTEGER,\\\n",
    "                   month       INTEGER,\\\n",
    "                   day         INTEGER,\\\n",
    "                   hour        INTEGER,\\\n",
    "                   minute      INTEGER,\\\n",
    "                   second      INTEGER,\\\n",
    "                   atime       NUMERIC,\\\n",
    "                   ctime       NUMERIC,\\\n",
    "                   mtime       NUMERIC,\\\n",
    "                   size        INTEGER,\\\n",
    "                   filename    TEXT)'\n",
    "    FPI_table_command = 'CREATE TABLE fpi_data %s;' % field_names\n",
    "    MEC_table_command = 'CREATE TABLE mec_data %s;' % field_names    \n",
    "    cursor.execute(FPI_table_command)\n",
    "    cursor.execute(MEC_table_command)    \n",
    "    conn.commit()"
   ]
  },
  {
   "cell_type": "code",
   "execution_count": 5,
   "metadata": {},
   "outputs": [
    {
     "ename": "OperationalError",
     "evalue": "near \"show\": syntax error",
     "output_type": "error",
     "traceback": [
      "\u001b[0;31m---------------------------------------------------------------------------\u001b[0m",
      "\u001b[0;31mOperationalError\u001b[0m                          Traceback (most recent call last)",
      "\u001b[0;32m<ipython-input-5-ac790206358a>\u001b[0m in \u001b[0;36m<module>\u001b[0;34m()\u001b[0m\n\u001b[0;32m----> 1\u001b[0;31m \u001b[0mcursor\u001b[0m\u001b[0;34m.\u001b[0m\u001b[0mexecute\u001b[0m\u001b[0;34m(\u001b[0m\u001b[0;34m'show tables;'\u001b[0m\u001b[0;34m)\u001b[0m\u001b[0;34m\u001b[0m\u001b[0m\n\u001b[0m\u001b[1;32m      2\u001b[0m \u001b[0;32mprint\u001b[0m \u001b[0mcursor\u001b[0m\u001b[0;34m.\u001b[0m\u001b[0mfetchall\u001b[0m\u001b[0;34m(\u001b[0m\u001b[0;34m)\u001b[0m\u001b[0;34m\u001b[0m\u001b[0m\n",
      "\u001b[0;31mOperationalError\u001b[0m: near \"show\": syntax error"
     ]
    }
   ],
   "source": [
    "cursor.execute('')\n",
    "print cursor.fetchall()"
   ]
  },
  {
   "cell_type": "markdown",
   "metadata": {},
   "source": [
    "# Populate the database"
   ]
  },
  {
   "cell_type": "markdown",
   "metadata": {},
   "source": [
    "## Scrape for the files for FPI v3.1.0\n",
    "\n",
    "See the LOP for instructions"
   ]
  },
  {
   "cell_type": "code",
   "execution_count": 79,
   "metadata": {},
   "outputs": [
    {
     "name": "stdout",
     "output_type": "stream",
     "text": [
      "encoding a search for mms1_fpi_fast_l2_dis-debug_\\d{14}_v3.1.0.cdf!\n",
      "x:/data/ftp/mms1/fpi/fast/l2/dis-debug\n"
     ]
    }
   ],
   "source": [
    "obs        = 'mms1'\n",
    "instrument = 'fpi'\n",
    "mode       = 'fast'\n",
    "descriptor = 'dis-debug'\n",
    "ver        = '3.1.0'\n",
    "pattern    = Scraper.construct_file_selector(obs,instrument,mode,descriptor,ver)\n",
    "base_dir   = 'x:/data/ftp/%s/%s/%s/l2/%s' % (obs,instrument,mode,descriptor)\n",
    "print base_dir\n",
    "debug_310  = Scraper.scrape_files(pattern,base_dir)"
   ]
  },
  {
   "cell_type": "code",
   "execution_count": 80,
   "metadata": {},
   "outputs": [],
   "source": [
    "for dli in debug_310:\n",
    "#for counter in range(10):\n",
    "    #dli = debug_310[counter]\n",
    "    date_str = Scraper.file_epoch(dli)\n",
    "    year     = date_str[0:4]\n",
    "    month    = date_str[4:6]\n",
    "    day      = date_str[6:8]\n",
    "    hour     = date_str[8:10]\n",
    "    minute   = date_str[10:12]\n",
    "    second   = date_str[12:14]\n",
    "    temp     = os.stat(dli)\n",
    "    atime    = temp[7]\n",
    "    ctime    = temp[9]\n",
    "    mtime    = temp[8]\n",
    "    size     = temp[6]/1024.0/1024.0\n",
    "    fields   = \"obs,instrument,mode,descriptor,ver,year,month,day,hour,minute,second,atime,ctime,mtime,size, filename\"\n",
    "    values   = \"'%s','%s','%s','%s','%s',%s,%s,%s,%s,%s,%s,%s,%s,%s,%s,'%s'\" % (obs, instrument,mode,descriptor,ver,year,month,day,hour,minute,second,atime,ctime,mtime,size,dli[2:])    \n",
    "    cmd      = 'INSERT INTO fpi_data (%s) VALUES (%s);' % (fields,values)\n",
    "    cursor.execute(cmd)\n",
    "conn.commit()"
   ]
  },
  {
   "cell_type": "markdown",
   "metadata": {},
   "source": [
    "## Scrape for the files for FPI v3.1.1\n",
    "see LOP for instructions"
   ]
  },
  {
   "cell_type": "code",
   "execution_count": 83,
   "metadata": {},
   "outputs": [
    {
     "name": "stdout",
     "output_type": "stream",
     "text": [
      "encoding a search for mms1_fpi_fast_l2_dis-debug_\\d{14}_v3.1.1.cdf!\n",
      "x:/data/ftp/mms1/fpi/fast/l2/dis-debug\n"
     ]
    }
   ],
   "source": [
    "obs        = 'mms1'\n",
    "instrument = 'fpi'\n",
    "mode       = 'fast'\n",
    "descriptor = 'dis-debug'\n",
    "ver        = '3.1.1'\n",
    "pattern    = Scraper.construct_file_selector(obs,instrument,mode,descriptor,ver)\n",
    "base_dir   = 'x:/data/ftp/%s/%s/%s/l2/%s' % (obs,instrument,mode,descriptor)\n",
    "print base_dir\n",
    "debug_311  = Scraper.scrape_files(pattern,base_dir)"
   ]
  },
  {
   "cell_type": "code",
   "execution_count": 84,
   "metadata": {},
   "outputs": [],
   "source": [
    "for dli in debug_311:\n",
    "    date_str = Scraper.file_epoch(dli)\n",
    "    year     = date_str[0:4]\n",
    "    month    = date_str[4:6]\n",
    "    day      = date_str[6:8]\n",
    "    hour     = date_str[8:10]\n",
    "    minute   = date_str[10:12]\n",
    "    second   = date_str[12:14]\n",
    "    temp     = os.stat(dli)\n",
    "    atime    = temp[7]\n",
    "    ctime    = temp[9]\n",
    "    mtime    = temp[8]\n",
    "    size     = temp[6]/1024.0/1024.0\n",
    "    fields   = \"obs,instrument,mode,descriptor,ver,year,month,day,hour,minute,second,atime,ctime,mtime,size, filename\"\n",
    "    values   = \"'%s','%s','%s','%s','%s',%s,%s,%s,%s,%s,%s,%s,%s,%s,%s,'%s'\" % (obs, instrument,mode,descriptor,ver,year,month,day,hour,minute,second,atime,ctime,mtime,size,dli[2:])    \n",
    "    cmd      = 'INSERT INTO fpi_data (%s) VALUES (%s);' % (fields,values)\n",
    "    cursor.execute(cmd)\n",
    "conn.commit()"
   ]
  },
  {
   "cell_type": "markdown",
   "metadata": {},
   "source": [
    "## Scrape for the files for MEC v2"
   ]
  },
  {
   "cell_type": "code",
   "execution_count": 62,
   "metadata": {},
   "outputs": [
    {
     "name": "stdout",
     "output_type": "stream",
     "text": [
      "encoding a search for mms1_mec_srvy_l2_ephts04d_\\d{8}_v2.....cdf!\n",
      "x:/data/ftp/mms1/mec/srvy/l2/ephts04d\n",
      "1652\n"
     ]
    }
   ],
   "source": [
    "obs        = 'mms1'\n",
    "instrument = 'mec'\n",
    "mode       = 'srvy'\n",
    "descriptor = 'ephts04d'\n",
    "ver        = '2....'\n",
    "pattern    = Scraper.construct_file_selector(obs,instrument,mode,descriptor,ver)\n",
    "base_dir   = 'x:/data/ftp/%s/%s/%s/l2/%s' % (obs,instrument,mode,descriptor)\n",
    "print base_dir\n",
    "mec_2      = Scraper.scrape_files(pattern,base_dir)\n",
    "print len(mec_2)"
   ]
  },
  {
   "cell_type": "code",
   "execution_count": 72,
   "metadata": {},
   "outputs": [],
   "source": [
    "for mli in mec_2:\n",
    "    date_str = Scraper.file_epoch(mli)\n",
    "    ver      = mli.split('/')[10].split('_')[-1][1:-4]\n",
    "    year     = date_str[0:4]\n",
    "    month    = date_str[4:6]\n",
    "    day      = date_str[6:8]\n",
    "    hour     = 0\n",
    "    minute   = 0\n",
    "    second   = 0\n",
    "    temp     = os.stat(mli)\n",
    "    atime    = temp[7]\n",
    "    ctime    = temp[9]\n",
    "    mtime    = temp[8]\n",
    "    size     = temp[6]/1024.0/1024.0\n",
    "    fields   = \"obs,instrument,mode,descriptor,ver,year,month,day,hour,minute,second,atime,ctime,mtime,size,filename\"\n",
    "    values   = \"'%s','%s','%s','%s','%s',%s,%s,%s,%s,%s,%s,%s,%s,%s,%s,'%s'\" % (obs, instrument,mode,descriptor,ver,year,month,day,hour,minute,second,atime,ctime,mtime,size,mli[2:])    \n",
    "    cmd      = 'INSERT INTO mec_data (%s) VALUES (%s);' % (fields,values)\n",
    "    cursor.execute(cmd)\n",
    "conn.commit()"
   ]
  }
 ],
 "metadata": {
  "anaconda-cloud": {},
  "kernelspec": {
   "display_name": "Python [default]",
   "language": "python",
   "name": "python2"
  },
  "language_info": {
   "codemirror_mode": {
    "name": "ipython",
    "version": 2
   },
   "file_extension": ".py",
   "mimetype": "text/x-python",
   "name": "python",
   "nbconvert_exporter": "python",
   "pygments_lexer": "ipython2",
   "version": "2.7.13"
  }
 },
 "nbformat": 4,
 "nbformat_minor": 1
}
