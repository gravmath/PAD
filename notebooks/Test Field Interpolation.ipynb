{
 "cells": [
  {
   "cell_type": "code",
   "execution_count": 1,
   "metadata": {
    "collapsed": false
   },
   "outputs": [],
   "source": [
    "debug_file  = 'X:/data/ftp/mms1/fpi/brst/l2/des-debug/2016/08/09/mms1_fpi_brst_l2_des-debug_20160809092044_v3.1.1.cdf'\n",
    "edp_file    = 'X:/data/ftp/mms1/edp/brst/l2/dce/2016/08/mms1_edp_brst_l2_dce_20160809092044_v1.2.0.cdf'\n",
    "edp_s_file  = 'X:/data/ftp/mms1/edp/srvy/l2/hfesp/2016/08/mms1_edp_srvy_l2_hfesp_20160809_v0.4.0.cdf'\n",
    "fgm_file    = 'X:/data/ftp/mms1/fgm/brst/l2/2016/08/09/mms1_fgm_brst_l2_20160809092044_v4.47.0.cdf'\n",
    "fgm_s_file  = 'X:/data/ftp/mms1/fgm/srvy/l2/2016/08/mms1_fgm_srvy_l2_20160809_v4.47.0.cdf'\n",
    "hmfe_file   = 'X:/data/ftp/mms1/edp/brst/l2/hmfe/2016/08/mms1_edp_brst_l2_hmfe_20160809092044_v1.0.1.cdf'\n",
    "moms_e_file = 'X:/data/ftp/mms1/fpi/brst/l2/des-debug/2016/08/09/mms1_fpi_brst_l2_des-debug_20160809092044_v3.1.1.cdf'"
   ]
  },
  {
   "cell_type": "code",
   "execution_count": 2,
   "metadata": {
    "collapsed": true
   },
   "outputs": [],
   "source": [
    "debug  = pycdf.CDF(debug_file)\n",
    "edp    = pycdf.CDF(edp_file)\n",
    "edp_s  = pycdf.CDF(edp_s_file)\n",
    "fgm    = pycdf.CDF(fgm_file)\n",
    "fgm_s  = pycdf.CDF(fgm_s_file)\n",
    "hmfe   = pycdf.CDF(hmfe_file)\n",
    "moms_e = pycdf.CDF(moms_e_file)"
   ]
  },
  {
   "cell_type": "code",
   "execution_count": 3,
   "metadata": {
    "collapsed": true
   },
   "outputs": [],
   "source": [
    "debug_epoch = np.asarray(debug['Epoch'])"
   ]
  },
  {
   "cell_type": "code",
   "execution_count": 4,
   "metadata": {
    "collapsed": false
   },
   "outputs": [
    {
     "name": "stdout",
     "output_type": "stream",
     "text": [
      "1867 2016-08-09 09:20:44.011994 2016-08-09 09:21:39.992274\n"
     ]
    }
   ],
   "source": [
    "print len(debug_epoch),debug_epoch[0], debug_epoch[-1]"
   ]
  },
  {
   "cell_type": "code",
   "execution_count": 5,
   "metadata": {
    "collapsed": false
   },
   "outputs": [
    {
     "name": "stdout",
     "output_type": "stream",
     "text": [
      "458560 2016-08-09 09:20:44.025999 2016-08-09 09:21:40.003090\n"
     ]
    }
   ],
   "source": [
    "print len(edp['mms1_edp_epoch_brst_l2']),edp['mms1_edp_epoch_brst_l2'][0], edp['mms1_edp_epoch_brst_l2'][-1]"
   ]
  },
  {
   "cell_type": "code",
   "execution_count": 6,
   "metadata": {
    "collapsed": false
   },
   "outputs": [
    {
     "name": "stdout",
     "output_type": "stream",
     "text": [
      "5399 2016-08-09 00:00:01.459637 2016-08-09 23:59:30.420740\n"
     ]
    }
   ],
   "source": [
    "print len(edp_s['Epoch']),edp_s['Epoch'][0], edp_s['Epoch'][-1]"
   ]
  },
  {
   "cell_type": "code",
   "execution_count": 7,
   "metadata": {
    "collapsed": false
   },
   "outputs": [
    {
     "name": "stdout",
     "output_type": "stream",
     "text": [
      "7168 2016-08-09 09:20:44.829707 2016-08-09 09:21:40.822546\n"
     ]
    }
   ],
   "source": [
    "print len(fgm['Epoch']),fgm['Epoch'][0], fgm['Epoch'][-1]"
   ]
  },
  {
   "cell_type": "code",
   "execution_count": 8,
   "metadata": {
    "collapsed": false
   },
   "outputs": [
    {
     "name": "stdout",
     "output_type": "stream",
     "text": [
      "1224512 2016-08-09 00:00:01.009498 2016-08-10 00:00:01.908449\n"
     ]
    }
   ],
   "source": [
    "print len(fgm_s['Epoch']),fgm_s['Epoch'][0], fgm_s['Epoch'][-1]"
   ]
  },
  {
   "cell_type": "code",
   "execution_count": 9,
   "metadata": {
    "collapsed": false
   },
   "outputs": [
    {
     "name": "stdout",
     "output_type": "stream",
     "text": [
      "917504 2016-08-09 09:20:46.977190 2016-08-09 09:21:36.509001\n"
     ]
    }
   ],
   "source": [
    "print len(hmfe['Epoch']),hmfe['Epoch'][0], hmfe['Epoch'][-1]"
   ]
  },
  {
   "cell_type": "code",
   "execution_count": 10,
   "metadata": {
    "collapsed": false
   },
   "outputs": [
    {
     "name": "stdout",
     "output_type": "stream",
     "text": [
      "1867 2016-08-09 09:20:44.011994 2016-08-09 09:21:39.992274\n"
     ]
    }
   ],
   "source": [
    "print len(moms_e['Epoch']), moms_e['Epoch'][0], moms_e['Epoch'][-1]"
   ]
  },
  {
   "cell_type": "code",
   "execution_count": 14,
   "metadata": {
    "collapsed": true
   },
   "outputs": [],
   "source": [
    "def bisect_epochs(target_epoch,epochs):\n",
    "    low_index   = 0\n",
    "    high_index  = len(epochs)\n",
    "\n",
    "    old_trial_index = low_index\n",
    "    trial_index     = high_index\n",
    "    \n",
    "    while( abs(old_trial_index - trial_index) > 1):\n",
    "        old_trial_index = trial_index\n",
    "        trial_index     = np.int(np.floor((high_index + low_index)/2.0 ))\n",
    "        trial_epoch     = epochs[trial_index]\n",
    "        if (trial_epoch - target_epoch).total_seconds() < 0:\n",
    "            low_index       = trial_index\n",
    "        else:\n",
    "            high_index = trial_index\n",
    "\n",
    "    #a test for what may happen for odd number of points in the \n",
    "    #epoch array\n",
    "    if(high_index == low_index):\n",
    "        #found out if the common epoch is above or below target\n",
    "        if (epochs[high_index] - target_epoch).total_seconds() < 0:\n",
    "            high_index = high_index + 1\n",
    "        else:\n",
    "            low_index  = low_index - 1\n",
    "\n",
    "    return low_index, high_index"
   ]
  },
  {
   "cell_type": "code",
   "execution_count": 16,
   "metadata": {
    "collapsed": false
   },
   "outputs": [
    {
     "name": "stdout",
     "output_type": "stream",
     "text": [
      "9 10\n"
     ]
    }
   ],
   "source": [
    "l,h = bisect_epochs(debug_epoch[10],moms_e['Epoch'])\n",
    "print l,h"
   ]
  },
  {
   "cell_type": "code",
   "execution_count": 19,
   "metadata": {
    "collapsed": false
   },
   "outputs": [
    {
     "name": "stdout",
     "output_type": "stream",
     "text": [
      "2016-08-09 09:20:44.281994\n",
      "2016-08-09 09:20:44.311994\n",
      "2016-08-09 09:20:44.311994\n"
     ]
    }
   ],
   "source": [
    "print moms_e['Epoch'][l]\n",
    "print debug_epoch[10]\n",
    "print moms_e['Epoch'][h]"
   ]
  },
  {
   "cell_type": "code",
   "execution_count": 14,
   "metadata": {
    "collapsed": false
   },
   "outputs": [
    {
     "name": "stdout",
     "output_type": "stream",
     "text": [
      "2016-08-09 09:20:44.272639 2016-08-09 09:20:44.335140\n"
     ]
    }
   ],
   "source": [
    "print fgm_s['Epoch'][l], fgm_s['Epoch'][h]"
   ]
  },
  {
   "cell_type": "code",
   "execution_count": 10,
   "metadata": {
    "collapsed": false
   },
   "outputs": [
    {
     "data": {
      "text/plain": [
       "datetime.datetime(2016, 8, 9, 9, 20, 44, 311994)"
      ]
     },
     "execution_count": 10,
     "metadata": {},
     "output_type": "execute_result"
    }
   ],
   "source": [
    "debug_epoch[10]"
   ]
  },
  {
   "cell_type": "code",
   "execution_count": 18,
   "metadata": {
    "collapsed": false
   },
   "outputs": [
    {
     "name": "stdout",
     "output_type": "stream",
     "text": [
      "2016-08-09 09:20:44.829707\n"
     ]
    }
   ],
   "source": [
    "print fgm_s_epoch[0]"
   ]
  },
  {
   "cell_type": "code",
   "execution_count": 20,
   "metadata": {
    "collapsed": false
   },
   "outputs": [
    {
     "name": "stdout",
     "output_type": "stream",
     "text": [
      "2016-08-09 09:20:44.611994 -0.923807680607\n"
     ]
    }
   ],
   "source": [
    "N = 20\n",
    "print debug['Epoch'][N],debug['mms1_des_bentPipeB_X_DSC'][N]"
   ]
  },
  {
   "cell_type": "code",
   "execution_count": 21,
   "metadata": {
    "collapsed": false
   },
   "outputs": [
    {
     "name": "stdout",
     "output_type": "stream",
     "text": [
      "2016-08-09 09:20:44.011994 2016-08-09 09:21:39.992274\n"
     ]
    }
   ],
   "source": [
    "print debug_epoch[0], debug_epoch[-1]"
   ]
  },
  {
   "cell_type": "code",
   "execution_count": 21,
   "metadata": {
    "collapsed": false
   },
   "outputs": [
    {
     "data": {
      "text/plain": [
       "<Var:\n",
       "CDF_REAL4 [1867]\n",
       ">"
      ]
     },
     "execution_count": 21,
     "metadata": {},
     "output_type": "execute_result"
    }
   ],
   "source": [
    "debug['mms1_des_bentPipeB_X_DSC']"
   ]
  },
  {
   "cell_type": "code",
   "execution_count": null,
   "metadata": {
    "collapsed": true
   },
   "outputs": [],
   "source": []
  }
 ],
 "metadata": {
  "kernelspec": {
   "display_name": "Python 2",
   "language": "python",
   "name": "python2"
  },
  "language_info": {
   "codemirror_mode": {
    "name": "ipython",
    "version": 2
   },
   "file_extension": ".py",
   "mimetype": "text/x-python",
   "name": "python",
   "nbconvert_exporter": "python",
   "pygments_lexer": "ipython2",
   "version": "2.7.12"
  }
 },
 "nbformat": 4,
 "nbformat_minor": 0
}
