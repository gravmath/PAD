{
 "cells": [
  {
   "cell_type": "code",
   "execution_count": 1,
   "metadata": {
    "collapsed": false
   },
   "outputs": [],
   "source": [
    "import sqlite3\n",
    "sys.path.append('c:/users/cschiff/Documents/GitHub/PAD/')\n",
    "import Scraper"
   ]
  },
  {
   "cell_type": "code",
   "execution_count": 2,
   "metadata": {
    "collapsed": false
   },
   "outputs": [
    {
     "name": "stdout",
     "output_type": "stream",
     "text": [
      "encoding a search for mms1_fpi_brst_l2_des-debug_\\d{14}_v3.1.1.cdf!\n"
     ]
    }
   ],
   "source": [
    "obs        = 'mms1'\n",
    "instrument = 'fpi'\n",
    "mode       = 'brst'\n",
    "descriptor = 'des-debug'\n",
    "ver        = '3.1.1'\n",
    "pattern    = Scraper.construct_file_selector(obs,instrument,mode,descriptor,ver)"
   ]
  },
  {
   "cell_type": "code",
   "execution_count": 3,
   "metadata": {
    "collapsed": false
   },
   "outputs": [
    {
     "name": "stdout",
     "output_type": "stream",
     "text": [
      "x:/data/ftp/mms1/fpi/brst/l2/des-debug\n"
     ]
    }
   ],
   "source": [
    "base_dir = 'x:/data/ftp/%s/%s/%s/l2/%s' % (obs,instrument,mode,descriptor)\n",
    "print base_dir\n",
    "debug_list = Scraper.scrape_files(pattern,base_dir)"
   ]
  },
  {
   "cell_type": "code",
   "execution_count": 4,
   "metadata": {
    "collapsed": false
   },
   "outputs": [
    {
     "name": "stdout",
     "output_type": "stream",
     "text": [
      "728\n"
     ]
    },
    {
     "data": {
      "text/plain": [
       "'x:/data/ftp/mms1/fpi/brst/l2/des-debug/2015/11/14/mms1_fpi_brst_l2_des-debug_20151114125204_v3.1.1.cdf'"
      ]
     },
     "execution_count": 4,
     "metadata": {},
     "output_type": "execute_result"
    }
   ],
   "source": [
    "print len(debug_list)\n",
    "debug_list[1]"
   ]
  },
  {
   "cell_type": "code",
   "execution_count": 5,
   "metadata": {
    "collapsed": false
   },
   "outputs": [
    {
     "name": "stdout",
     "output_type": "stream",
     "text": [
      "encoding a search for mms1_mec_srvy_l2_epht89d_\\d{8}_v2.1.0.cdf!\n"
     ]
    }
   ],
   "source": [
    "instrument = 'mec'\n",
    "mode       = 'srvy'\n",
    "descriptor = 'epht89d'\n",
    "ver        = '2.1.0'\n",
    "pattern    = Scraper.construct_file_selector(obs,instrument,mode,descriptor,ver)"
   ]
  },
  {
   "cell_type": "code",
   "execution_count": 6,
   "metadata": {
    "collapsed": false
   },
   "outputs": [
    {
     "name": "stdout",
     "output_type": "stream",
     "text": [
      "x:/data/ftp/mms1/mec/srvy/l2/epht89d\n"
     ]
    }
   ],
   "source": [
    "base_dir = 'x:/data/ftp/%s/%s/%s/l2/%s' % (obs,instrument,mode,descriptor)\n",
    "print base_dir\n",
    "mec_list = Scraper.scrape_files(pattern,base_dir)"
   ]
  },
  {
   "cell_type": "code",
   "execution_count": 7,
   "metadata": {
    "collapsed": false
   },
   "outputs": [
    {
     "name": "stdout",
     "output_type": "stream",
     "text": [
      "396\n"
     ]
    }
   ],
   "source": [
    "print len(mec_list)"
   ]
  },
  {
   "cell_type": "code",
   "execution_count": 9,
   "metadata": {
    "collapsed": true
   },
   "outputs": [],
   "source": [
    "def round_time(epoch, date_delta=dt.timedelta(minutes=1), to='average'):\n",
    "    \"\"\"\n",
    "    Purpose:      Round a datetime object to a multiple of a timedelta\n",
    "    epoch:        datetime.datetime object, no default\n",
    "    dateDelta:    timedelta object, we round to a multiple of this, \n",
    "                  default 1 minute.\n",
    "    Adapted from: http://stackoverflow.com/questions/3463930/\n",
    "                  how-to-round-the-minute-of-a-datetime-object-python\n",
    "    \"\"\"\n",
    "    round_to = date_delta.total_seconds()\n",
    "\n",
    "    if epoch is None:\n",
    "        epoch = dt.datetime.now()\n",
    "    seconds = (epoch - epoch.min).seconds\n",
    "\n",
    "    if to == 'up':\n",
    "        # // is a floor division\n",
    "        rounding = (seconds + round_to) // round_to * round_to\n",
    "    elif to == 'down':\n",
    "        rounding = seconds // round_to * round_to\n",
    "    else:\n",
    "        rounding = (seconds + round_to / 2) // round_to * round_to\n",
    "\n",
    "    return epoch + dt.timedelta(0, rounding - seconds, -epoch.microsecond)"
   ]
  },
  {
   "cell_type": "code",
   "execution_count": 19,
   "metadata": {
    "collapsed": true
   },
   "outputs": [],
   "source": [
    "def quiet_axis(ax):\n",
    "    ax.set_axis_bgcolor('none')\n",
    "    ax.tick_params(labelcolor='none',top='off',bottom='off',left='off',right='off')\n",
    "    ax.spines['top'].set_color('none')\n",
    "    ax.spines['bottom'].set_color('none')\n",
    "    ax.spines['left'].set_color('none')\n",
    "    ax.spines['right'].set_color('none')"
   ]
  },
  {
   "cell_type": "code",
   "execution_count": 2,
   "metadata": {
    "collapsed": true
   },
   "outputs": [],
   "source": [
    "class line():\n",
    "    def __init__(self,ax,x,y):\n",
    "        self.ax                  = ax\n",
    "        self.line                = self.ax.plot(x,y)[0]\n",
    "        self.line.set_color('blue')\n",
    "        self.line.set_label('')\n",
    "        self.line.set_linestyle('-')\n",
    "        self.line.set_linewidth(2)\n",
    "        self.line.set_marker('None')\n",
    "        self.line.set_markersize(10)\n",
    "    def color(self,col):\n",
    "        self.line.set_color(col)\n",
    "    def label(self,lab):\n",
    "        self.line.set_label(lab)\n",
    "    def linestyle(self,lstyle):\n",
    "        self.line.set_linestyle(lstyle)\n",
    "    def linewidth(self,lwidth):\n",
    "        self.line.set_linewidth(lwidth)\n",
    "    def marker(self,mark):\n",
    "        self.line.set_marker(mark)\n",
    "    def markersize(self,marksize):\n",
    "        self.line.set_markersize(marksize)"
   ]
  },
  {
   "cell_type": "code",
   "execution_count": 3,
   "metadata": {
    "collapsed": true
   },
   "outputs": [],
   "source": [
    "class curves():\n",
    "    def __init__(self,ax,x,y):\n",
    "        self.ax    = ax\n",
    "        self.lines = [line(ax,x,y)]\n",
    "    def add_line(self,x,y):\n",
    "        self.lines.append(line(self.ax,x,y))\n",
    "    def customize_line(self,index,line_parms):\n",
    "        self.lines[index].color(line_parms['color'])\n",
    "        self.lines[index].label(line_parms['label'])\n",
    "    def customize_ax(self,ax_parms):\n",
    "        self.ax.set_xlabel(ax_parms['xlabel'])\n",
    "        if len(ax_parms['xlim']) == 2:\n",
    "            self.ax.set_xlim  (ax_parms['xlim'])\n",
    "        if ax_parms['xscale'] != '':\n",
    "            self.ax.set_xscale(ax_parms['xscale'])\n",
    "        self.ax.set_ylabel(ax_parms['ylabel'])\n",
    "        if len(ax_parms['ylim']) == 2:        \n",
    "            self.ax.set_ylim  (ax_parms['ylim'])\n",
    "        if ax_parms['yscale'] != '':            \n",
    "            self.ax.set_yscale(ax_parms['yscale'])\n",
    "        if ax_parms['loc'] != '':\n",
    "            self.ax.legend(loc=ax_parms['loc'])        "
   ]
  },
  {
   "cell_type": "code",
   "execution_count": null,
   "metadata": {
    "collapsed": true
   },
   "outputs": [],
   "source": [
    "class traces():\n",
    "    def __init__(self,ax,x,y):\n",
    "        self.ax    = ax\n",
    "        self.lines = [line(ax,x,y)]\n",
    "    def add_line(self,x,y):\n",
    "        self.lines.append(line(self.ax,x,y))\n",
    "    def customize_line(self,index,line_parms):\n",
    "        self.lines[index].color(line_parms['color'])\n",
    "        self.lines[index].label(line_parms['label'])\n",
    "    def format_ax_time(self.ax,parms):\n",
    "        self.ax.xaxis.set_major_locator(parms['time_location'])\n",
    "        self.ax.xaxis.set_major_formatter(parms['time_format'])\n",
    "    def set_time_xlims(t,t_delta):\n",
    "        t0 = round_time(t[0], date_delta=t_delta,to='down')\n",
    "        tf = round_time(t[-1],date_delta=t_delta,to='up')\n",
    "        return [t0,tf]        \n",
    "    def customize_ax(self,ax_parms):\n",
    "        self.ax.set_xlabel(ax_parms['xlabel'])\n",
    "        if len(ax_parms['xlim']) == 2:\n",
    "            self.ax.set_xlim  (ax_parms['xlim'])\n",
    "        self.ax.set_xscale('linear')\n",
    "        self.ax.set_ylabel(ax_parms['ylabel'])\n",
    "        if len(ax_parms['ylim']) == 2:        \n",
    "            self.ax.set_ylim  (ax_parms['ylim'])\n",
    "        if ax_parms['yscale'] != '':            \n",
    "            self.ax.set_yscale(ax_parms['yscale'])\n",
    "        if ax_parms['loc'] != '':\n",
    "            self.ax.legend(loc=ax_parms['loc'])            "
   ]
  },
  {
   "cell_type": "code",
   "execution_count": 10,
   "metadata": {
    "collapsed": true
   },
   "outputs": [],
   "source": [
    "def cbar_position(current_ax,offset,cbar_width):\n",
    "    #get the tuple describing the lower x,y corner position\n",
    "    #and the width and height\n",
    "    x_pos, y_pos, width, height = current_ax.get_position().bounds\n",
    "    return [x_pos + width + offset, y_pos, cbar_width, height] "
   ]
  },
  {
   "cell_type": "code",
   "execution_count": 20,
   "metadata": {
    "collapsed": true
   },
   "outputs": [],
   "source": [
    "def add_info_box(fig,date,geometry):\n",
    "    dax = fig.add_axes(geometry)\n",
    "    quiet_axis(dax)\n",
    "    string = 'hh:mm\\nX-GSM (Re)\\nY-GSM (Re)\\nZ-GSM (Re)\\n%s' % date\n",
    "    dax.annotate(string,xy=(0.5,0.5))"
   ]
  },
  {
   "cell_type": "code",
   "execution_count": 4,
   "metadata": {
    "collapsed": false
   },
   "outputs": [
    {
     "data": {
      "image/png": "[encoded data removed]",
      "text/plain": [
       "<matplotlib.figure.Figure at 0x80215f8>"
      ]
     },
     "metadata": {},
     "output_type": "display_data"
    }
   ],
   "source": [
    "fig1 = plt.figure()\n",
    "ax1  = fig1.add_subplot(1,1,1)"
   ]
  },
  {
   "cell_type": "code",
   "execution_count": 5,
   "metadata": {
    "collapsed": false
   },
   "outputs": [],
   "source": [
    "c1 = curves(ax1,x,y)\n",
    "c1.add_line(x,z)\n",
    "c1.add_line(x,a)\n",
    "c1.customize_line(0,{'color':'red'  ,'label':'x^2'})\n",
    "c1.customize_line(1,{'color':'green','label':'x^3'})\n",
    "c1.customize_line(2,{'color':'blue' ,'label':'sin(x)'})\n",
    "c1.customize_ax({'loc':'best','xlabel':'x','xscale':'','xlim':[],'ylabel':'f(x)','ylim':'','yscale':''})"
   ]
  },
  {
   "cell_type": "code",
   "execution_count": 14,
   "metadata": {
    "collapsed": true
   },
   "outputs": [],
   "source": [
    "fig1.savefig('test.png')"
   ]
  },
  {
   "cell_type": "code",
   "execution_count": 13,
   "metadata": {
    "collapsed": true
   },
   "outputs": [],
   "source": [
    "c1.ax.set_yscale('linear')\n",
    "c1.ax.set_xscale('linear')"
   ]
  },
  {
   "cell_type": "code",
   "execution_count": 15,
   "metadata": {
    "collapsed": true
   },
   "outputs": [],
   "source": [
    "q = ax1.get_xmajorticklabels()"
   ]
  },
  {
   "cell_type": "code",
   "execution_count": 16,
   "metadata": {
    "collapsed": false
   },
   "outputs": [
    {
     "name": "stdout",
     "output_type": "stream",
     "text": [
      "<a list of 7 Text xticklabel objects>\n"
     ]
    }
   ],
   "source": [
    "print q"
   ]
  },
  {
   "cell_type": "code",
   "execution_count": 18,
   "metadata": {
    "collapsed": false
   },
   "outputs": [
    {
     "name": "stdout",
     "output_type": "stream",
     "text": [
      "0.0\n",
      "0.0\n",
      "0.2\n",
      "0.4\n",
      "0.6\n",
      "0.8\n",
      "\n"
     ]
    }
   ],
   "source": [
    "for qq in q:\n",
    "    print qq.get_text()"
   ]
  },
  {
   "cell_type": "code",
   "execution_count": 21,
   "metadata": {
    "collapsed": false
   },
   "outputs": [
    {
     "data": {
      "text/plain": [
       "u'C:\\\\Users\\\\cschiff'"
      ]
     },
     "execution_count": 21,
     "metadata": {},
     "output_type": "execute_result"
    }
   ],
   "source": [
    "pwd"
   ]
  },
  {
   "cell_type": "code",
   "execution_count": null,
   "metadata": {
    "collapsed": true
   },
   "outputs": [],
   "source": []
  }
 ],
 "metadata": {
  "kernelspec": {
   "display_name": "Python 2",
   "language": "python",
   "name": "python2"
  },
  "language_info": {
   "codemirror_mode": {
    "name": "ipython",
    "version": 2
   },
   "file_extension": ".py",
   "mimetype": "text/x-python",
   "name": "python",
   "nbconvert_exporter": "python",
   "pygments_lexer": "ipython2",
   "version": "2.7.12"
  }
 },
 "nbformat": 4,
 "nbformat_minor": 0
}
