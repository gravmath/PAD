{
 "cells": [
  {
   "cell_type": "code",
   "execution_count": 1,
   "metadata": {
    "collapsed": true
   },
   "outputs": [],
   "source": [
    "import spacepy.pycdf as pycdf\n",
    "import sys\n",
    "sys.path.append('c:/users/cschiff/Documents/GitHub/PAD/')"
   ]
  },
  {
   "cell_type": "code",
   "execution_count": 2,
   "metadata": {
    "collapsed": true
   },
   "outputs": [],
   "source": [
    "import PAD"
   ]
  },
  {
   "cell_type": "code",
   "execution_count": 3,
   "metadata": {
    "collapsed": true
   },
   "outputs": [],
   "source": [
    "debug_filename = 'C:\\Yuggoth\\BBF\\mms1_fpi_brst_l2_des-debug_20160809092044_v3.1.1.cdf'.replace('\\\\','/')\n",
    "dist_filename  = 'C:\\Yuggoth\\BBF\\mms1_fpi_brst_l2_des-dist_20160809092044_v3.1.1.cdf'.replace('\\\\','/')\n",
    "photo_filename = 'C:\\Yuggoth\\Photoelectron Model\\mms_fpi_brst_l2_des-bgdist_v1.1.0_p0-2.cdf'.replace('\\\\','/')"
   ]
  },
  {
   "cell_type": "code",
   "execution_count": 4,
   "metadata": {
    "collapsed": true
   },
   "outputs": [],
   "source": [
    "cdf_dict       = {'debug' : pycdf.CDF(debug_filename),\n",
    "                  'dist'  : pycdf.CDF(dist_filename),\n",
    "                  'photo' : pycdf.CDF(photo_filename)}\n",
    "obs            = 'mms1'\n",
    "mode           = 'brst'\n",
    "species        = 'des'\n",
    "ver            = 'ver3'\n",
    "corrections_on = 0"
   ]
  },
  {
   "cell_type": "code",
   "execution_count": 5,
   "metadata": {
    "collapsed": false
   },
   "outputs": [
    {
     "ename": "ValueError",
     "evalue": "setting an array element with a sequence.",
     "output_type": "error",
     "traceback": [
      "\u001b[1;31m---------------------------------------------------------------------------\u001b[0m",
      "\u001b[1;31mValueError\u001b[0m                                Traceback (most recent call last)",
      "\u001b[1;32m<ipython-input-5-b6c6ca9b7362>\u001b[0m in \u001b[0;36m<module>\u001b[1;34m()\u001b[0m\n\u001b[1;32m----> 1\u001b[1;33m \u001b[0mcore_data\u001b[0m      \u001b[1;33m=\u001b[0m \u001b[0mPAD\u001b[0m\u001b[1;33m.\u001b[0m\u001b[0mload_particle_data\u001b[0m\u001b[1;33m(\u001b[0m\u001b[0mcdf_dict\u001b[0m\u001b[1;33m,\u001b[0m\u001b[0mobs\u001b[0m\u001b[1;33m,\u001b[0m\u001b[0mmode\u001b[0m\u001b[1;33m,\u001b[0m\u001b[0mspecies\u001b[0m\u001b[1;33m,\u001b[0m\u001b[0mver\u001b[0m\u001b[1;33m,\u001b[0m\u001b[0mcorrections_on\u001b[0m\u001b[1;33m)\u001b[0m\u001b[1;33m\u001b[0m\u001b[0m\n\u001b[0m",
      "\u001b[1;32mC:\\Users\\cschiff\\Documents\\GitHub\\PAD\\PAD.pyc\u001b[0m in \u001b[0;36mload_particle_data\u001b[1;34m(cdf_dict, obs, mode, species, ver, corrections_on, correction_override, source)\u001b[0m\n\u001b[0;32m    410\u001b[0m     \u001b[0mdist\u001b[0m\u001b[1;33m,\u001b[0m \u001b[0mparms\u001b[0m         \u001b[1;33m=\u001b[0m \u001b[0munpack_dist_cdf\u001b[0m\u001b[1;33m(\u001b[0m\u001b[0mcdf_dict\u001b[0m\u001b[1;33m,\u001b[0m\u001b[0mobs\u001b[0m\u001b[1;33m,\u001b[0m\u001b[0mmode\u001b[0m\u001b[1;33m,\u001b[0m\u001b[0mspecies\u001b[0m\u001b[1;33m,\u001b[0m\u001b[0mver\u001b[0m\u001b[1;33m,\u001b[0m\u001b[0mcorrections_on\u001b[0m\u001b[1;33m,\u001b[0m\u001b[0mcorrection_override\u001b[0m\u001b[1;33m)\u001b[0m\u001b[1;33m\u001b[0m\u001b[0m\n\u001b[0;32m    411\u001b[0m     \u001b[0mbfield\u001b[0m              \u001b[1;33m=\u001b[0m \u001b[0mfetch_magnetic_field\u001b[0m\u001b[1;33m(\u001b[0m\u001b[0mcdf_dict\u001b[0m\u001b[1;33m,\u001b[0m\u001b[0mobs\u001b[0m\u001b[1;33m,\u001b[0m\u001b[0mspecies\u001b[0m\u001b[1;33m,\u001b[0m\u001b[0msource\u001b[0m\u001b[1;33m)\u001b[0m\u001b[1;33m\u001b[0m\u001b[0m\n\u001b[1;32m--> 412\u001b[1;33m     \u001b[0mv_dirs\u001b[0m              \u001b[1;33m=\u001b[0m \u001b[0mcompute_incoming_particle_directions\u001b[0m\u001b[1;33m(\u001b[0m\u001b[0mparms\u001b[0m\u001b[1;33m)\u001b[0m\u001b[1;33m\u001b[0m\u001b[0m\n\u001b[0m\u001b[0;32m    413\u001b[0m     \u001b[0mcounts\u001b[0m              \u001b[1;33m=\u001b[0m \u001b[0mcompute_counts\u001b[0m\u001b[1;33m(\u001b[0m\u001b[0mdist\u001b[0m\u001b[1;33m)\u001b[0m\u001b[1;33m\u001b[0m\u001b[0m\n\u001b[0;32m    414\u001b[0m     \u001b[0mjN\u001b[0m                  \u001b[1;33m=\u001b[0m \u001b[0mcompute_number_flux\u001b[0m\u001b[1;33m(\u001b[0m\u001b[0mdist\u001b[0m\u001b[1;33m,\u001b[0m\u001b[0mparms\u001b[0m\u001b[1;33m)\u001b[0m\u001b[1;33m\u001b[0m\u001b[0m\n",
      "\u001b[1;32mC:\\Users\\cschiff\\Documents\\GitHub\\PAD\\PAD.pyc\u001b[0m in \u001b[0;36mcompute_incoming_particle_directions\u001b[1;34m(params)\u001b[0m\n\u001b[0;32m    245\u001b[0m             v_dirs[i,j] = [-sp.sin(theta)*sp.cos(phi),\\\n\u001b[0;32m    246\u001b[0m                            \u001b[1;33m-\u001b[0m\u001b[0msp\u001b[0m\u001b[1;33m.\u001b[0m\u001b[0msin\u001b[0m\u001b[1;33m(\u001b[0m\u001b[0mtheta\u001b[0m\u001b[1;33m)\u001b[0m\u001b[1;33m*\u001b[0m\u001b[0msp\u001b[0m\u001b[1;33m.\u001b[0m\u001b[0msin\u001b[0m\u001b[1;33m(\u001b[0m\u001b[0mphi\u001b[0m\u001b[1;33m)\u001b[0m\u001b[1;33m,\u001b[0m\u001b[0;31m\\\u001b[0m\u001b[1;33m\u001b[0m\u001b[0m\n\u001b[1;32m--> 247\u001b[1;33m                            -sp.cos(theta)]\n\u001b[0m\u001b[0;32m    248\u001b[0m \u001b[1;33m\u001b[0m\u001b[0m\n\u001b[0;32m    249\u001b[0m     \u001b[1;32mreturn\u001b[0m \u001b[0mv_dirs\u001b[0m\u001b[1;33m\u001b[0m\u001b[0m\n",
      "\u001b[1;31mValueError\u001b[0m: setting an array element with a sequence."
     ]
    }
   ],
   "source": [
    "core_data      = PAD.load_particle_data(cdf_dict,obs,mode,species,ver,corrections_on)"
   ]
  },
  {
   "cell_type": "code",
   "execution_count": 7,
   "metadata": {
    "collapsed": false
   },
   "outputs": [],
   "source": [
    "dist, parms = PAD.unpack_dist_cdf(cdf_dict,obs,mode,species,ver,corrections_on,0)"
   ]
  },
  {
   "cell_type": "code",
   "execution_count": 13,
   "metadata": {
    "collapsed": false
   },
   "outputs": [],
   "source": [
    "bfield      = PAD.fetch_magnetic_field(cdf_dict,obs,species,'DEBUG')"
   ]
  },
  {
   "cell_type": "code",
   "execution_count": 36,
   "metadata": {
    "collapsed": false
   },
   "outputs": [],
   "source": [
    "v_dirs      = compute_incoming_particle_directions('brst',parms)"
   ]
  },
  {
   "cell_type": "code",
   "execution_count": 29,
   "metadata": {
    "collapsed": false
   },
   "outputs": [
    {
     "data": {
      "text/plain": [
       "[<matplotlib.lines.Line2D at 0xa14ca58>]"
      ]
     },
     "execution_count": 29,
     "metadata": {},
     "output_type": "execute_result"
    },
    {
     "data": {
      "image/png": "[encoded data removed]",
      "text/plain": [
       "<matplotlib.figure.Figure at 0x9f70f98>"
      ]
     },
     "metadata": {},
     "output_type": "display_data"
    }
   ],
   "source": [
    "plt.plot(parms['Phi'][:,0])"
   ]
  },
  {
   "cell_type": "code",
   "execution_count": 34,
   "metadata": {
    "collapsed": true
   },
   "outputs": [],
   "source": [
    "def compute_incoming_particle_directions(mode,params):\n",
    "\n",
    "    deg       = sp.pi/180    \n",
    "    \n",
    "    #in fast mode, all particle directions are the same at the same\n",
    "    #time so only one 32x16 array is needed\n",
    "    if mode == 'fast':\n",
    "        num_az    = params['Phi'].shape[0]\n",
    "        num_polar = params['Theta'].shape[0]\n",
    "        v_dirs    = np.zeros((num_az,num_polar,3))\n",
    "        for i in range(num_az):\n",
    "            for j in range(num_polar):\n",
    "                phi         = params['Phi']  [i]*deg\n",
    "                theta       = params['Theta'][j]*deg\n",
    "                v_dirs[i,j] = [-sp.sin(theta)*sp.cos(phi),\\\n",
    "                               -sp.sin(theta)*sp.sin(phi),\\\n",
    "                               -sp.cos(theta)]\n",
    "    #in brst mode, the despinning can't be done completely so the \n",
    "    #phi is record varying\n",
    "    if mode == 'brst':\n",
    "        num_time  = params['Phi'].shape[0]\n",
    "        num_az    = params['Phi'].shape[1]\n",
    "        num_polar = params['Theta'].shape[0]\n",
    "        v_dirs    = np.zeros((num_time,num_az,num_polar,3))\n",
    "        for k in range(num_time):\n",
    "            for i in range(num_az):\n",
    "                for j in range(num_polar):\n",
    "                    phi           = params['Phi'][k][i]*deg\n",
    "                    theta         = params['Theta'] [j]*deg\n",
    "                    v_dirs[k,i,j] = [-sp.sin(theta)*sp.cos(phi),\\\n",
    "                                     -sp.sin(theta)*sp.sin(phi),\\\n",
    "                                     -sp.cos(theta)]\n",
    "                        \n",
    "    return v_dirs"
   ]
  },
  {
   "cell_type": "code",
   "execution_count": 23,
   "metadata": {
    "collapsed": true
   },
   "outputs": [],
   "source": [
    "import copy"
   ]
  },
  {
   "cell_type": "code",
   "execution_count": 32,
   "metadata": {
    "collapsed": true
   },
   "outputs": [],
   "source": [
    "params = copy.deepcopy(parms)"
   ]
  },
  {
   "cell_type": "code",
   "execution_count": 25,
   "metadata": {
    "collapsed": false
   },
   "outputs": [
    {
     "data": {
      "text/plain": [
       "['Theta', 'Phi', 'Erg']"
      ]
     },
     "execution_count": 25,
     "metadata": {},
     "output_type": "execute_result"
    }
   ],
   "source": [
    "params.keys()"
   ]
  },
  {
   "cell_type": "code",
   "execution_count": 31,
   "metadata": {
    "collapsed": false
   },
   "outputs": [
    {
     "data": {
      "text/plain": [
       "(1867L, 32L)"
      ]
     },
     "execution_count": 31,
     "metadata": {},
     "output_type": "execute_result"
    }
   ],
   "source": [
    "params['Phi'].shape"
   ]
  },
  {
   "cell_type": "code",
   "execution_count": 33,
   "metadata": {
    "collapsed": false
   },
   "outputs": [
    {
     "data": {
      "text/plain": [
       "array([   5.625,   16.875,   28.125,   39.375,   50.625,   61.875,\n",
       "         73.125,   84.375,   95.625,  106.875,  118.125,  129.375,\n",
       "        140.625,  151.875,  163.125,  174.375], dtype=float32)"
      ]
     },
     "execution_count": 33,
     "metadata": {},
     "output_type": "execute_result"
    }
   ],
   "source": [
    "params['Theta']"
   ]
  },
  {
   "cell_type": "code",
   "execution_count": 37,
   "metadata": {
    "collapsed": false
   },
   "outputs": [
    {
     "data": {
      "text/plain": [
       "array([-0.38349272, -0.87673721, -0.29028468])"
      ]
     },
     "execution_count": 37,
     "metadata": {},
     "output_type": "execute_result"
    }
   ],
   "source": [
    "v_dirs[7,5,6]"
   ]
  },
  {
   "cell_type": "code",
   "execution_count": 42,
   "metadata": {
    "collapsed": false
   },
   "outputs": [],
   "source": [
    "my_phi  = params['Phi'][7,5]*np.pi/180.0"
   ]
  },
  {
   "cell_type": "code",
   "execution_count": 43,
   "metadata": {
    "collapsed": false
   },
   "outputs": [],
   "source": [
    "my_theta = params['Theta'][6]*np.pi/180.0"
   ]
  },
  {
   "cell_type": "code",
   "execution_count": 44,
   "metadata": {
    "collapsed": true
   },
   "outputs": [],
   "source": [
    "my_look = [sp.cos(my_phi)*sp.sin(my_theta),sp.sin(my_phi)*sp.sin(my_theta),sp.cos(my_theta)]"
   ]
  },
  {
   "cell_type": "code",
   "execution_count": 45,
   "metadata": {
    "collapsed": false
   },
   "outputs": [
    {
     "data": {
      "text/plain": [
       "[0.38349272289401076, 0.87673721127747861, 0.29028467725446233]"
      ]
     },
     "execution_count": 45,
     "metadata": {},
     "output_type": "execute_result"
    }
   ],
   "source": [
    "my_look"
   ]
  },
  {
   "cell_type": "code",
   "execution_count": null,
   "metadata": {
    "collapsed": true
   },
   "outputs": [],
   "source": []
  }
 ],
 "metadata": {
  "kernelspec": {
   "display_name": "Python 2",
   "language": "python",
   "name": "python2"
  },
  "language_info": {
   "codemirror_mode": {
    "name": "ipython",
    "version": 2
   },
   "file_extension": ".py",
   "mimetype": "text/x-python",
   "name": "python",
   "nbconvert_exporter": "python",
   "pygments_lexer": "ipython2",
   "version": "2.7.12"
  }
 },
 "nbformat": 4,
 "nbformat_minor": 0
}
