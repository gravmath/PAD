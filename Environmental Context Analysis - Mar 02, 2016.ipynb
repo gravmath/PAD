{
 "cells": [
  {
   "cell_type": "markdown",
   "metadata": {},
   "source": [
    "Last Updated - 11/14/2016\n",
    "\n",
    "Environmental Context Analysis for Mar 02 02:00 case"
   ]
  },
  {
   "cell_type": "code",
   "execution_count": 1,
   "metadata": {
    "collapsed": false
   },
   "outputs": [],
   "source": [
    "from ipy import *\n",
    "from mpl_toolkits.basemap import Basemap\n",
    "import mpl_toolkits.mplot3d as mplot3d\n",
    "import PIL\n",
    "from mpl_toolkits.mplot3d import Axes3D\n",
    "from matplotlib._png import read_png\n",
    "from scipy.interpolate import interp1d"
   ]
  },
  {
   "cell_type": "markdown",
   "metadata": {},
   "source": [
    "# Specify file locations"
   ]
  },
  {
   "cell_type": "code",
   "execution_count": 2,
   "metadata": {
    "collapsed": false
   },
   "outputs": [],
   "source": [
    "#############################################\n",
    "##   MEC Files\n",
    "#############################################\n",
    "#Mar 02\n",
    "MEC_file = 'Z:/mms1/mec/srvy/l2/epht89d/2016/03/mms1_mec_srvy_l2_epht89d_20160302_v2.1.0.cdf'"
   ]
  },
  {
   "cell_type": "code",
   "execution_count": 3,
   "metadata": {
    "collapsed": true
   },
   "outputs": [],
   "source": [
    "#############################################\n",
    "##   SC Potential Files\n",
    "#############################################\n",
    "#Mar 02\n",
    "SC_Pot_file = 'Z:/mms1/edp/fast/l2/scpot/2016/03/mms1_edp_fast_l2_scpot_20160302000000_v2.1.3.cdf'"
   ]
  },
  {
   "cell_type": "code",
   "execution_count": 4,
   "metadata": {
    "collapsed": false
   },
   "outputs": [],
   "source": [
    "#############################################\n",
    "##   OMNI IMF Data Files\n",
    "#############################################\n",
    "#Oct 26\n",
    "Omni_context_file = 'C:/Users/cschiff/Documents/GitHub/PAD/Mar 02 - pictures/Mar_02_omni2_6314.lst'"
   ]
  },
  {
   "cell_type": "markdown",
   "metadata": {},
   "source": [
    "# Open Files"
   ]
  },
  {
   "cell_type": "code",
   "execution_count": 5,
   "metadata": {
    "collapsed": false
   },
   "outputs": [],
   "source": [
    "CDFs           = {}\n",
    "CDFs['MEC']    = pycdf.CDF(MEC_file)\n",
    "CDFs['SC_Pot'] = pycdf.CDF(SC_Pot_file)"
   ]
  },
  {
   "cell_type": "code",
   "execution_count": 6,
   "metadata": {
    "collapsed": false
   },
   "outputs": [],
   "source": [
    "Data               = {}\n",
    "Data['IMF']        = open(Omni_context_file,'r')"
   ]
  },
  {
   "cell_type": "markdown",
   "metadata": {},
   "source": [
    "# Shared Constants and Variables"
   ]
  },
  {
   "cell_type": "code",
   "execution_count": 7,
   "metadata": {
    "collapsed": true
   },
   "outputs": [],
   "source": [
    "date_format = '%b %d %Y'\n",
    "time_format = '%H:%M:%S'\n",
    "Re          = 6378.14"
   ]
  },
  {
   "cell_type": "markdown",
   "metadata": {},
   "source": [
    "# IMF Context"
   ]
  },
  {
   "cell_type": "markdown",
   "metadata": {},
   "source": [
    "## read omni context data"
   ]
  },
  {
   "cell_type": "code",
   "execution_count": 8,
   "metadata": {
    "collapsed": false
   },
   "outputs": [],
   "source": [
    "omni_blob = Data['IMF'].readlines()\n",
    "Data['IMF'].close()\n",
    "num_rows = len(omni_blob)\n",
    "num_cols = len(omni_blob[0].strip('\\n').split())-3\n",
    "data     = np.zeros((num_rows,num_cols))\n",
    "dates    = []\n",
    "\n",
    "counter  = 0\n",
    "for omni in omni_blob:\n",
    "    #first get the data as an array\n",
    "    o                = omni.strip('\\n').split()\n",
    "    current_datetime = dt.datetime(int(o[0]),1,1,int(o[2])) + dt.timedelta(int(o[1])-1)\n",
    "    dates.append(current_datetime)\n",
    "    data[counter,:]  = map(float,o[3:])\n",
    "    counter          = counter + 1    "
   ]
  },
  {
   "cell_type": "markdown",
   "metadata": {},
   "source": [
    "## plot combined 'weather report'"
   ]
  },
  {
   "cell_type": "code",
   "execution_count": 13,
   "metadata": {
    "collapsed": false
   },
   "outputs": [],
   "source": [
    "fig_w = plt.figure(69,figsize=(7,9))\n",
    "start_time_index = 2\n",
    "stop_time_index  = 5\n",
    "time_slice_IMF   = slice(start_time_index,stop_time_index+1)\n",
    "time_step        = dt.timedelta(seconds = 30*60) \n",
    "#define the Epoch labels\n",
    "x_labels = [dt.datetime.strftime(dates[start_time_index] + i*time_step,time_format) for i in range(0,2*(stop_time_index - start_time_index)+1)]\n",
    "\n",
    "#IMF \n",
    "ax1_w = fig_w.add_subplot(3,1,1)\n",
    "ax1_w.plot(dates[time_slice_IMF],data[time_slice_IMF,1],label = 'Bx')\n",
    "ax1_w.plot(dates[time_slice_IMF],data[time_slice_IMF,2],label = 'By')\n",
    "ax1_w.plot(dates[time_slice_IMF],data[time_slice_IMF,3],label = 'Bz')\n",
    "ax1_w.plot(dates[time_slice_IMF],data[time_slice_IMF,0],label='B',color='k')\n",
    "ax1_w.legend(loc='upper right')\n",
    "ax1_w.minorticks_on()\n",
    "ax1_w.set_ylabel('Magnetic Field (nT)',fontsize=12)\n",
    "ax1_w.set_xticklabels([])\n",
    "\n",
    "#solar wind\n",
    "ax21_w = fig_w.add_subplot(3,1,2)\n",
    "ax22_w = ax21_w.twinx()\n",
    "ax21_w.plot(dates[time_slice_IMF],data[time_slice_IMF,5],'ko-',label = r'$n_p$')\n",
    "ax22_w.plot(dates[time_slice_IMF],data[time_slice_IMF,7],'ro-',label = 'P')\n",
    "ax21_w.legend(loc='lower left')\n",
    "ax22_w.legend(loc='upper right')\n",
    "ax21_w.minorticks_on()\n",
    "ax22_w.minorticks_on()\n",
    "ax21_w.set_ylabel('Proton number density',fontsize=12)\n",
    "ax22_w.set_ylabel('Dynamic Pressure (nPa)',fontsize = 12)\n",
    "ax21_w.set_xticklabels([])\n",
    "ax22_w.set_xticklabels([])\n",
    "\n",
    "#DST and Ap indices\n",
    "ax31_w = fig_w.add_subplot(3,1,3)\n",
    "ax32_w = ax31_w.twinx()\n",
    "ax31_w.plot(dates[time_slice_IMF],data[time_slice_IMF,8],'ko-',label = 'DST')\n",
    "ax32_w.plot(dates[time_slice_IMF],data[time_slice_IMF,9],'ro-',label = r'$a_p$')\n",
    "ax31_w.legend(loc='lower left')\n",
    "ax32_w.legend(loc='upper right')\n",
    "ax31_w.minorticks_on()\n",
    "ax31_w.set_ylabel('DST Value (nT)',fontsize=12)\n",
    "ax32_w.set_ylabel(r'$a_p$ index value',fontsize=12)\n",
    "ax32_w.set_xticklabels(x_labels)\n",
    "\n",
    "fig_w.subplots_adjust(wspace=0.0,hspace=0.1)\n",
    "plt.gcf().autofmt_xdate()\n",
    "start_date = dt.datetime.strftime(dates[start_time_index],date_format)\n",
    "start_time = dt.datetime.strftime(dates[start_time_index],time_format)\n",
    "stop_time  = dt.datetime.strftime(dates[stop_time_index],time_format)\n",
    "ax1_w.set_title('Environmental Conditions for %s %s-%s' % (start_date,start_time,stop_time))\n",
    "\n",
    "plt.show()"
   ]
  },
  {
   "cell_type": "markdown",
   "metadata": {},
   "source": [
    "# Footprints & Field Type & Spacecraft GSM Position"
   ]
  },
  {
   "cell_type": "code",
   "execution_count": 14,
   "metadata": {
    "collapsed": true
   },
   "outputs": [],
   "source": [
    "North_latlon = np.asarray(CDFs['MEC']['mms1_mec_pfn_geod_latlon'])\n",
    "South_latlon = np.asarray(CDFs['MEC']['mms1_mec_pfs_geod_latlon'])"
   ]
  },
  {
   "cell_type": "code",
   "execution_count": 27,
   "metadata": {
    "collapsed": true
   },
   "outputs": [],
   "source": [
    "time_index_MEC_min   = 300\n",
    "time_index_MEC_max   = 500\n",
    "time_slice_MEC       = slice(time_index_MEC_min,time_index_MEC_max)\n",
    "terminator_index_MEC = 330\n",
    "delta_time_MEC       = time_index_MEC_max - time_index_MEC_min\n",
    "time_step_MEC        = 40\n",
    "Re                   = 6378.14"
   ]
  },
  {
   "cell_type": "code",
   "execution_count": 28,
   "metadata": {
    "collapsed": false
   },
   "outputs": [
    {
     "name": "stdout",
     "output_type": "stream",
     "text": [
      "Start date of scan:  2016-03-02 02:30:00\n",
      "Stop date of scan:   2016-03-02 04:10:00\n",
      "(200L,)\n"
     ]
    }
   ],
   "source": [
    "terminator_date = CDFs['MEC']['Epoch'][terminator_index_MEC]\n",
    "# draw map with markers for float locations\n",
    "m = Basemap(projection='mill',lon_0=0)\n",
    "m.drawcoastlines()\n",
    "m.drawparallels(np.arange(-90,90,15),labels=[1,0,0,0])\n",
    "m.drawmeridians(np.arange(m.lonmin,m.lonmax+30,60),labels=[0,0,0,1])\n",
    "nlons = North_latlon[time_slice_MEC,1]\n",
    "nlats = North_latlon[time_slice_MEC,0]\n",
    "slons = South_latlon[time_slice_MEC,1]\n",
    "slats = South_latlon[time_slice_MEC,0]\n",
    "Nx, Ny = m(nlons,nlats)\n",
    "Sx, Sy = m(slons,slats)\n",
    "m.drawmapboundary(fill_color='#99ffff')\n",
    "m.fillcontinents(color='#ffffff',lake_color='#99ffff')\n",
    "CS=m.nightshade(terminator_date)\n",
    "m.scatter(Nx,Ny,3,marker='o',color='r')\n",
    "m.scatter(Sx,Sy,3,marker='o',color='r')\n",
    "plt.title('Day/Night Map for %s (UTC)' % terminator_date.strftime(\"%d %b %Y %H:%M:%S\"))\n",
    "plt.show()\n",
    "print('Start date of scan: ',CDFs['MEC']['Epoch'][time_slice_MEC.start])\n",
    "print('Stop date of scan:  ',CDFs['MEC']['Epoch'][time_slice_MEC.stop])\n",
    "print(Nx.shape)"
   ]
  },
  {
   "cell_type": "code",
   "execution_count": 29,
   "metadata": {
    "collapsed": false
   },
   "outputs": [],
   "source": [
    "plt.plot(CDFs['MEC']['mms1_mec_fieldline_type'][time_slice_MEC])\n",
    "x        = np.arange(0,delta_time_MEC,time_step_MEC)\n",
    "x_labels = []\n",
    "for px in x:\n",
    "    x_labels.append(dt.datetime.strftime(CDFs['MEC']['Epoch'][px+time_index_MEC_min],time_format))\n",
    "plt.xticks(x,x_labels,rotation='vertical')    \n",
    "y        = np.arange(-3,5,1)\n",
    "y_labels = ['Bad Trace','Unreachable','Inside Earth','IMF','Closed','Open North','Open South','']\n",
    "plt.yticks(y,y_labels)\n",
    "plt.title('Field Line Type for %s (UTC)' % terminator_date.strftime(\"%d %b %Y\"))\n",
    "plt.show()"
   ]
  },
  {
   "cell_type": "markdown",
   "metadata": {},
   "source": [
    "# Spacecraft position"
   ]
  },
  {
   "cell_type": "code",
   "execution_count": 30,
   "metadata": {
    "collapsed": false
   },
   "outputs": [
    {
     "name": "stdout",
     "output_type": "stream",
     "text": [
      "[ 3.93438459 -7.32085316 -4.85580737]\n"
     ]
    }
   ],
   "source": [
    "sc_pos = np.array(CDFs['MEC']['mms1_mec_r_gsm'][time_index_MEC_min]/Re)\n",
    "print(sc_pos)"
   ]
  },
  {
   "cell_type": "markdown",
   "metadata": {},
   "source": [
    "# Spacecraft Potential"
   ]
  },
  {
   "cell_type": "code",
   "execution_count": 31,
   "metadata": {
    "collapsed": false
   },
   "outputs": [
    {
     "data": {
      "text/plain": [
       "['mms1_edp_epoch_fast_l2',\n",
       " 'mms1_edp_label1_fast_l2',\n",
       " 'mms1_edp_scpot_fast_l2',\n",
       " 'mms1_edp_psp_fast_l2',\n",
       " 'mms1_edp_dcv_fast_l2',\n",
       " 'mms1_edp_bitmask_fast_l2',\n",
       " 'mms1_edp_quality_fast_l2',\n",
       " 'mms1_edp_deltap_fast_l2']"
      ]
     },
     "execution_count": 31,
     "metadata": {},
     "output_type": "execute_result"
    }
   ],
   "source": [
    "CDFs['SC_Pot'].keys()"
   ]
  },
  {
   "cell_type": "code",
   "execution_count": 36,
   "metadata": {
    "collapsed": false
   },
   "outputs": [],
   "source": [
    "time_index_min = 250000\n",
    "time_index_max = 350000\n",
    "delta_time     = time_index_max - time_index_min\n",
    "time_step      = 10000\n",
    "time_slice     = slice(time_index_min,time_index_max)\n",
    "plt.plot(CDFs['SC_Pot']['mms1_edp_scpot_fast_l2'][time_slice])\n",
    "x        = np.arange(0,delta_time,time_step)\n",
    "x_labels = []\n",
    "for px in x:\n",
    "    x_labels.append(dt.datetime.strftime(CDFs['SC_Pot']['mms1_edp_epoch_fast_l2'][px+time_index_min],time_format))\n",
    "plt.xticks(x,x_labels,rotation='vertical')\n",
    "plt.title('Spacecraft Potential for %s' % \\\n",
    "          dt.datetime.strftime(CDFs['SC_Pot']['mms1_edp_epoch_fast_l2'][time_index_min],date_format))\n",
    "plt.show()"
   ]
  },
  {
   "cell_type": "markdown",
   "metadata": {},
   "source": [
    "# Field Line Tracing - Something of an Art"
   ]
  },
  {
   "cell_type": "code",
   "execution_count": 38,
   "metadata": {
    "collapsed": false
   },
   "outputs": [],
   "source": [
    "Fieldline_file = 'C:/Users/cschiff/Documents/GitHub/PAD/Mar 02 - pictures/Mar_02_02_45_00_fieldline_contiguous.txt'\n",
    "Fieldline      = open(Fieldline_file,'r')\n",
    "fld_blob       = Fieldline.readlines()\n",
    "Fieldline.close()\n",
    "fld            = np.zeros((len(fld_blob),3))\n",
    "\n",
    "counter  = 0\n",
    "for f in fld_blob:\n",
    "    fld[counter,:] = map(float,f.strip('\\r\\n').split())\n",
    "    counter        = counter + 1"
   ]
  },
  {
   "cell_type": "code",
   "execution_count": 40,
   "metadata": {
    "collapsed": false
   },
   "outputs": [],
   "source": [
    "# Setup 3D Plot --------------------------------------------------------\n",
    "fig = plt.figure(figsize=(10, 10)) \n",
    "ax = fig.add_subplot(111, projection='3d')\n",
    "\n",
    "fld_limit = np.ceil(np.max(np.abs(fld)))\n",
    "\n",
    "limits = [-fld_limit,fld_limit]\n",
    "ax.set_xlim(limits)\n",
    "ax.set_ylim(limits)\n",
    "ax.set_zlim(limits)\n",
    "\n",
    "ax.set_xlabel(r'$X_{GSM}$')\n",
    "ax.set_ylabel(r'$Y_{GSM}$')\n",
    "ax.set_zlabel(r'$Z_{GSM}$')\n",
    "\n",
    "#plot sun direction\n",
    "ax.quiver(1,0,0,1,0,0,color='#c4c67f',length=fld_limit/3,linewidth=2,pivot='tail')\n",
    "\n",
    "# Plot Earth -----------------------------------------------------------\n",
    "# The approach is to load the blue marble image into the an image of RGB\n",
    "# tuples, with each of R, G, B being in [0, 1]. This is used as the\n",
    "# coloring for a surface plot of a sphere.\n",
    "bm = PIL.Image.open('C:/Users/cschiff/Documents/GitHub/PAD/Blue Marble/bluemarble.jpg')\n",
    "bm = np.array(bm.resize([int(d/5) for d in bm.size]))\n",
    "bm = bm.astype(float) / 257.\n",
    "\n",
    "lons = np.linspace(-180, 180, bm.shape[1])       * np.pi / 180 \n",
    "lats = np.linspace( -90,  90, bm.shape[0])[::-1] * np.pi / 180 \n",
    "\n",
    "x = np.outer(np.cos(lons), np.cos(lats)).T\n",
    "y = np.outer(np.sin(lons), np.cos(lats)).T\n",
    "z = np.outer(np.ones(np.size(lons)), np.sin(lats)).T\n",
    "\n",
    "ax.plot_surface(x, y, z, rstride=4, cstride=4, facecolors=bm)\n",
    "\n",
    "# Plot Magnetic field lines. -------------------------------------------\n",
    "# The magnetic field lines data needs to be converted to a rectangular\n",
    "# coordinate system where the earth is centered at (0, 0, 0) and has a\n",
    "# radius of 1.\n",
    "#\n",
    "qp = [fld_limit]\n",
    "qm = [-fld_limit]\n",
    "nf = len(fld)\n",
    "\n",
    "ax.plot(fld[:,0],fld[:,1],fld[:,2],'r-')\n",
    "ax.plot(qm*nf   ,fld[:,1],fld[:,2],'b-')\n",
    "ax.plot(fld[:,0],qp*nf,   fld[:,2],'b-')\n",
    "ax.plot(fld[:,0],fld[:,1],qm*nf   ,'b-')\n",
    "\n",
    "#plot spacecraft location\n",
    "ax.plot([sc_pos[0]]*2,[sc_pos[1]]*2,[sc_pos[2]]*2,'ko')\n",
    "ax.plot(qm*2         ,[sc_pos[1]]*2,[sc_pos[2]]*2,'ko')\n",
    "ax.plot([sc_pos[0]]*2,qp*2,         [sc_pos[2]]*2,'ko')\n",
    "ax.plot([sc_pos[0]]*2,[sc_pos[1]]*2,qm*2,       'ko')\n",
    "\n",
    "ax.text(sc_pos[0],sc_pos[1],sc_pos[2],'MMS1')\n",
    "ax.text(3,0,0,'sunward')\n",
    "plt.show()\n"
   ]
  },
  {
   "cell_type": "code",
   "execution_count": null,
   "metadata": {
    "collapsed": true
   },
   "outputs": [],
   "source": []
  }
 ],
 "metadata": {
  "kernelspec": {
   "display_name": "VPython",
   "language": "python",
   "name": "vpython"
  },
  "language_info": {
   "codemirror_mode": {
    "name": "ipython",
    "version": 2
   },
   "file_extension": ".py",
   "mimetype": "text/x-python",
   "name": "python",
   "nbconvert_exporter": "python",
   "pygments_lexer": "ipython2",
   "version": "2.7.12"
  }
 },
 "nbformat": 4,
 "nbformat_minor": 1
}
